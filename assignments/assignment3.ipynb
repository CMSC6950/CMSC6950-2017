{
 "cells": [
  {
   "cell_type": "markdown",
   "metadata": {},
   "source": [
    "# CMSC6950 Assignment 3\n",
    "\n",
    "Due on Tuesday, May 29, 2018\n",
    "\n",
    "Solve all questions.\n",
    "\n",
    "*Any two identical submitted assignments from different students will be considered as copies of each other.*\n",
    "\n",
    "Save your assignment as an ipynb file with a filename ”userid_assignment3.ipynb”. [For userid, I mean your MUN user id/email .e.g. abc123 and not your student number]. Submit your assignment through the D2L dropbox.\n",
    "\n",
    "### Name :\n",
    "### Student Number:\n"
   ]
  },
  {
   "cell_type": "markdown",
   "metadata": {},
   "source": [
    "## Question 1\n",
    "\n",
    "Define the following vectors and matrices:\n",
    "\n",
    "```\n",
    "vec1 = np.array([ -1., 4., -9.])\n",
    "mat1 = np.array([[ 1., 3., 5.], [7., -9., 2.], [4., 6., 8. ]]\n",
    "```\n",
    "1. You can multiply vectors by constants. Compute `vec2 = (np.pi/4) * vec1`\n",
    "2. The cosine function can be applied to a vector to yield a vector of cosines.\n",
    "    Compute `vec2 = np.cos(vec2)`\n",
    "3. You can add vectors and multiply by scalars. Compute\n",
    "    `vec3 = vec1 + 2 * vec2`\n",
    "4. The Euclidean norm of a matrix or a vector is available using `la.norm`. Compute `la.norm(vec3)`\n",
    "5. You can do row-column matrix multiplication. Compute the product of `mat1` and `vec3` and set `vec4` equal to the result.\n",
    "6. Compute the transpose of `mat1`.\n",
    "7. Compute the determinant of `mat1`.\n",
    "8. Find the smallest element in `vec1`.\n",
    "9. What function would you use to find the value of `j` so that `vec1[j]` is equal to the smallest element in `vec1`?\n",
    "10. What expression would you use to find the smallest element of the matrix `mat1`?"
   ]
  },
  {
   "cell_type": "code",
   "execution_count": null,
   "metadata": {},
   "outputs": [],
   "source": []
  },
  {
   "cell_type": "markdown",
   "metadata": {},
   "source": [
    "## Question 2\n",
    "1. Generate and plot values (50,50) drawn from a normal distribution.  Make a plot as shown in (a).\n",
    "\n",
    "2. Manipulate the array such that the lowest values are in the top-left corner, the highest in the bottom-right. Make a plot as shown in (b).\n",
    "\n",
    "<img src=\"https://cdn.pbrd.co/images/HmmPEdo.png\"/>"
   ]
  },
  {
   "cell_type": "code",
   "execution_count": null,
   "metadata": {},
   "outputs": [],
   "source": []
  },
  {
   "cell_type": "markdown",
   "metadata": {},
   "source": [
    "## Question 3\n",
    "\n",
    "Using the data available at [http://berkeleyearth.lbl.gov/auto/Regional/TAVG/Text/hawaii-TAVG-Trend.txt](http://berkeleyearth.lbl.gov/auto/Regional/TAVG/Text/hawaii-TAVG-Trend.txt), reproduce the following plot using Numpy, Matplotlib, and/or Scipy.\n",
    "\n",
    "<img src=\"http://berkeleyearth.lbl.gov/auto/Regional/TAVG/Figures/hawaii-TAVG-Trend.png\" />\n",
    "[High resolution version](http://berkeleyearth.lbl.gov/auto/Regional/TAVG/Figures/hawaii-TAVG-Trend.pdf)"
   ]
  },
  {
   "cell_type": "markdown",
   "metadata": {},
   "source": [
    "Here's a nice way to ensure the data file is always available locally:"
   ]
  },
  {
   "cell_type": "code",
   "execution_count": 24,
   "metadata": {},
   "outputs": [
    {
     "data": {
      "text/plain": [
       "('hawaii-TAVG-Trend.txt', <http.client.HTTPMessage at 0x1035ff0b8>)"
      ]
     },
     "execution_count": 24,
     "metadata": {},
     "output_type": "execute_result"
    }
   ],
   "source": [
    "import urllib.request\n",
    "urllib.request.urlretrieve('http://berkeleyearth.lbl.gov/auto/Regional/TAVG/Text/hawaii-TAVG-Trend.txt', \n",
    "                   'hawaii-TAVG-Trend.txt')"
   ]
  },
  {
   "cell_type": "code",
   "execution_count": 25,
   "metadata": {},
   "outputs": [
    {
     "name": "stdout",
     "output_type": "stream",
     "text": [
      "-rw-------@ 1 jmunroe  staff  157295 22 May 11:44 hawaii-TAVG-Trend.txt\r\n"
     ]
    }
   ],
   "source": [
    "!ls -l 'hawaii-TAVG-Trend.txt'"
   ]
  },
  {
   "cell_type": "code",
   "execution_count": null,
   "metadata": {
    "collapsed": true
   },
   "outputs": [],
   "source": []
  },
  {
   "cell_type": "markdown",
   "metadata": {},
   "source": [
    "## Question 4\n",
    "\n",
    "1 . As you know, a magic square is a matrix all of whose row sums, column\n",
    "sums and the sums of the two diagonals are the same. (One diagonal of\n",
    "a matrix goes from the top left to the bottom right, the other diagonal\n",
    "goes from top right to bottom left.) Show by direct computation that if\n",
    "the matrix A is given by\n",
    "\n",
    "```A=np.array([[17, 24, 1, 8, 15],\n",
    "[23, 5, 7, 14, 16],\n",
    "[ 4, 6, 13, 20, 22],\n",
    "[10, 12, 19, 21, 3],\n",
    "[11, 18, 25, 2, 9]])```\n",
    "\n",
    "The matrix A has 5 row sums (one for each row), 5 column sums (one for\n",
    "each column) and two diagonal sums. These 12 sums should all be exactly\n",
    "the same, and you could verify that they are the same by printing them\n",
    "and “seeing” that they are the same. It is easy to miss small differences\n",
    "among so many numbers, though. Instead, verify that A is a magic\n",
    "square by constructing the 5 column sums and computing the maximum\n",
    "and minimum values of the column sums. Do the same for the 5 row sums,\n",
    "and compute the two diagonal sums. Check that these six values are the\n",
    "same. If the maximum and minimum values are the same, the flyswatter\n",
    "principle says that all values are the same.\n",
    "\n",
    "*Hints*: The function `np.diag` extracts the diagonal of a matrix, and the\n",
    "function `np.fliplr` extracts the other diagonal."
   ]
  },
  {
   "cell_type": "code",
   "execution_count": null,
   "metadata": {},
   "outputs": [],
   "source": []
  },
  {
   "cell_type": "markdown",
   "metadata": {},
   "source": [
    "2 . From Wikipedia:\n",
    "> A magic square is a $ n \\times n$ square grid (where $n$ is the number of cells on each side) filled with distinct positive integers in the range {$1, 2, \\ldots, n^2$)\n",
    "such that each cell contains a different integer and the sum of the integers in each row, column and diagonal is equal. The sum is called the magic constant or magic sum of the magic square. A square grid with $n$ cells on each side is said to have order $n$.\n",
    "\n",
    "Define a function that tests if a matrix A is a magic square.  Using this function, write a program that (naively) searches for all possible magic squares of order 3 by explicitly testing all possible combinations. Display all possible $3 \\times 3$ magic squares. \n"
   ]
  },
  {
   "cell_type": "code",
   "execution_count": null,
   "metadata": {},
   "outputs": [],
   "source": []
  },
  {
   "cell_type": "markdown",
   "metadata": {},
   "source": [
    "## Question 5\n",
    "\n",
    "1 . Use `matplotlib.pyplot.plot` to produce a plot of the functions \n",
    "$f(x) = e^{−x/10} \\sin(\\pi x)$ and $g(x) = x e^{−x/3}$ over the interval [0, 10]. \n",
    "Include labels for the x- and y-axes, and a legend explaining which line is which plot."
   ]
  },
  {
   "cell_type": "code",
   "execution_count": null,
   "metadata": {},
   "outputs": [],
   "source": []
  },
  {
   "cell_type": "markdown",
   "metadata": {},
   "source": [
    "2 . The shape of a limaçon  can be defined parametrically as\n",
    "\n",
    "\\begin{align}\n",
    "r &= r_0 + \\cos θ \\\\ \n",
    "x &= r \\cos θ \\\\\n",
    "y &= r \\sin θ\n",
    "\\end{align}\n",
    "\n",
    "When $r_0 = 1$, this curve is called a cardioid. Use this definition to plot\n",
    "the shape of a limaçon for $r_0 = 0.8$, $r_0 = 1.0$, and $r_0 = 1.2$. Be sure to\n",
    "use enough points that the curve is closed and appears smooth (except for\n",
    "the cusp in the cardioid). Use a legend to identify which curve is which."
   ]
  },
  {
   "cell_type": "code",
   "execution_count": null,
   "metadata": {},
   "outputs": [],
   "source": []
  }
 ],
 "metadata": {
  "kernelspec": {
   "display_name": "Python 3",
   "language": "python",
   "name": "python3"
  },
  "language_info": {
   "codemirror_mode": {
    "name": "ipython",
    "version": 3
   },
   "file_extension": ".py",
   "mimetype": "text/x-python",
   "name": "python",
   "nbconvert_exporter": "python",
   "pygments_lexer": "ipython3",
   "version": "3.6.5"
  }
 },
 "nbformat": 4,
 "nbformat_minor": 2
}
