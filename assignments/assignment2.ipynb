{
 "cells": [
  {
   "cell_type": "markdown",
   "metadata": {},
   "source": [
    "# CMSC6950 Assignment 2\n",
    "\n",
    "Due on Tuesday, May 22, 2018\n",
    "\n",
    "Solve all questions. \n",
    "\n",
    "*Any two identical submitted assignments from different students will be considered as copies of each other.*\n",
    "\n",
    "Save your assignment as an `ipynb` file with a filename ”userid_assignment2.ipynb”. [For userid, I mean your MUN user id/email .e.g. abc123 and\n",
    "not your student number]. Submit your assignment through the D2L dropbox. \n",
    "\n",
    "### Name :\n",
    "### Student Number:"
   ]
  },
  {
   "cell_type": "markdown",
   "metadata": {},
   "source": [
    "## Question 1\n",
    "\n",
    "\n",
    "Write a function that does the following. Given two float values, return their multiplication. Unless the two values are the same, then return triple their sum. Then test your function for both cases."
   ]
  },
  {
   "cell_type": "code",
   "execution_count": null,
   "metadata": {
    "collapsed": true
   },
   "outputs": [],
   "source": []
  },
  {
   "cell_type": "markdown",
   "metadata": {},
   "source": [
    "## Question 2\n",
    "\n",
    "\n",
    "Write a function that does the following. Given an int n, return True if it is within 20 of 50 or 150. Note that the given int n could be positive or negative or zero. You must use the function abs(num) to compute the absolute value of a number. Then test your function."
   ]
  },
  {
   "cell_type": "code",
   "execution_count": null,
   "metadata": {
    "collapsed": true
   },
   "outputs": [],
   "source": []
  },
  {
   "cell_type": "markdown",
   "metadata": {},
   "source": [
    "## Question 3\n",
    "\n",
    "\n",
    "Define a function that computes the length of a given list or string or a tuple or a dictionary. Test your function for the four cases."
   ]
  },
  {
   "cell_type": "code",
   "execution_count": null,
   "metadata": {
    "collapsed": true
   },
   "outputs": [],
   "source": []
  },
  {
   "cell_type": "markdown",
   "metadata": {
    "collapsed": true
   },
   "source": [
    "## Question 4\n",
    "Write a function that takes a character (i.e. a string of length 1) and returns True if it is a vowel, False otherwise. Write the the vowels as a string \"aAeEiIoOuU\", and make a condition if the input character is in the vowels string. Test the function."
   ]
  },
  {
   "cell_type": "code",
   "execution_count": null,
   "metadata": {
    "collapsed": true
   },
   "outputs": [],
   "source": []
  },
  {
   "cell_type": "markdown",
   "metadata": {
    "collapsed": true
   },
   "source": [
    "## Question 5\n",
    "Define a function is_it_palindrome() that recognizes palindromes (i.e. words that look the same written backwards). For example, is_it_palindrome(\"Radar\") should return True. Then write a for loop to test the function for all strings in the list,\n",
    "```python \n",
    "l=[\n",
    "\"Anna\",\n",
    "\"Civic\",\n",
    "\"Kayak\",\n",
    "\"Level\",\n",
    "\"Madam\",\n",
    "\"Mom\",\n",
    "\"Noon\",\n",
    "\"Racecar\",\n",
    "\"Computer\"\n",
    "]\n",
    "```"
   ]
  },
  {
   "cell_type": "code",
   "execution_count": null,
   "metadata": {
    "collapsed": true
   },
   "outputs": [],
   "source": []
  },
  {
   "cell_type": "markdown",
   "metadata": {
    "collapsed": true
   },
   "source": [
    "## Question 6\n",
    "Write a function translate_Swedish() that will translate a text into \"rövarspråket\" (Swedish for \"robber's language\"). That is, double every consonant and place an occurrence of \"o\" in between. Test the funstion with translate_Swedish(\"this is fun\") should return the string \"tothohisos isos fofunon\"."
   ]
  },
  {
   "cell_type": "code",
   "execution_count": null,
   "metadata": {
    "collapsed": true
   },
   "outputs": [],
   "source": []
  },
  {
   "cell_type": "markdown",
   "metadata": {},
   "source": [
    "## Question 7\n",
    "\n",
    "\n",
    "Define a function overlap() that takes two lists and returns True if they have at least one element in common, False otherwise. For the sake of the exercise, you should write it using two nested for-loops."
   ]
  },
  {
   "cell_type": "code",
   "execution_count": null,
   "metadata": {
    "collapsed": true
   },
   "outputs": [],
   "source": []
  },
  {
   "cell_type": "markdown",
   "metadata": {
    "collapsed": true
   },
   "source": [
    "## Question 8\n",
    "In English, the present participle is formed by adding the suffix -ing to the infinite form: go -> going. A simple set of heuristic rules can be given as follows:\n",
    "\n",
    "* If the verb ends in e, drop the e and add ing (if not exception: be, see, flee, knee, etc.)\n",
    "* If the verb ends in ie, change ie to y and add ing\n",
    "* For words consisting of consonant-vowel-consonant, double the final letter before adding ing\n",
    "* By default just add ing\n",
    "\n",
    "Your task in this exercise is to define a function make_ing_form_English() which given a verb in infinitive form returns its present participle form. Test your function with words such as lie, see, move and hug. However, you must not expect such simple rules to work for all cases."
   ]
  },
  {
   "cell_type": "code",
   "execution_count": null,
   "metadata": {
    "collapsed": true
   },
   "outputs": [],
   "source": []
  }
 ],
 "metadata": {
  "kernelspec": {
   "display_name": "Python 3",
   "language": "python",
   "name": "python3"
  },
  "language_info": {
   "codemirror_mode": {
    "name": "ipython",
    "version": 3
   },
   "file_extension": ".py",
   "mimetype": "text/x-python",
   "name": "python",
   "nbconvert_exporter": "python",
   "pygments_lexer": "ipython3",
   "version": "3.6.4"
  }
 },
 "nbformat": 4,
 "nbformat_minor": 2
}
