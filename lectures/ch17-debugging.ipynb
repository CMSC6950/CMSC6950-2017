{
 "cells": [
  {
   "cell_type": "markdown",
   "metadata": {},
   "source": [
    "# Debugging\n",
    "\n",
    "Once a program reaches a certain size, it is nearly impossible to get it right on the first try - even for the experienced programmers.\n",
    "\n",
    "It is not unsusual to spend more time fixing erros (called \"bugs\") in programs, than it took writing it in the first place.\n",
    "\n",
    "Some errors are easy to find, others are more elusive. Here we discuss strategies how to systematically narrow in on those bugs."
   ]
  },
  {
   "cell_type": "markdown",
   "metadata": {},
   "source": [
    "## The example:\n",
    "\n",
    "The following function `mean()` doesn't seem to work. When we call it, the program seems to go on forever, without giving any results.  \n",
    "\n",
    "We need to interrupt the program:\n",
    " * when run as a .py script on the terminal with [Ctrl]+C\n",
    " * when run in a Jupyter notebook with \"Kernel / Interrupt\""
   ]
  },
  {
   "cell_type": "code",
   "execution_count": 8,
   "metadata": {},
   "outputs": [],
   "source": [
    "def mean(nums):\n",
    "    bot = len(nums)\n",
    "    it = 0\n",
    "    top = 0\n",
    "    while it < len(nums):\n",
    "        top += nums[it]\n",
    "    return float(top) / float(bot)\n",
    "\n",
    "a_list = [1, 2, 3, 4, 5, 6, 10, \"one hundred\"]\n",
    "# Won't run!\n",
    "#mean(a_list)"
   ]
  },
  {
   "cell_type": "markdown",
   "metadata": {},
   "source": [
    "## Print Statements\n",
    "\n",
    "A very simple way of debugging is adding `print` statements along the way, which will print some text or the content of a variable when the program reaches to that state."
   ]
  },
  {
   "cell_type": "code",
   "execution_count": 30,
   "metadata": {},
   "outputs": [],
   "source": [
    "def mean(nums):\n",
    "    bot = len(nums)\n",
    "    it = 0\n",
    "    top = 0\n",
    "    print(\"Still Running at line 5\")\n",
    "    while it < len(nums):\n",
    "        top += nums[it]\n",
    "        print(top)\n",
    "    return float(top) / float(bot)\n",
    "\n",
    "a_list = [1, 2, 3, 4, 5, 6, 10, \"one hundred\"]\n",
    "# Won't run!\n",
    "#mean(a_list)"
   ]
  },
  {
   "cell_type": "markdown",
   "metadata": {},
   "source": [
    "This is a classical case of an infinite loop!  \n",
    "\n",
    "Do we need the `while` loop at all? Couldn't we just use the `sum()` function to add our numbers?\n",
    "\n",
    "Let's try:"
   ]
  },
  {
   "cell_type": "code",
   "execution_count": 31,
   "metadata": {
    "scrolled": true
   },
   "outputs": [
    {
     "ename": "TypeError",
     "evalue": "unsupported operand type(s) for +: 'int' and 'str'",
     "output_type": "error",
     "traceback": [
      "\u001b[0;31m---------------------------------------------------------------------------\u001b[0m",
      "\u001b[0;31mTypeError\u001b[0m                                 Traceback (most recent call last)",
      "\u001b[0;32m<ipython-input-31-e3d6d104590c>\u001b[0m in \u001b[0;36m<module>\u001b[0;34m()\u001b[0m\n\u001b[1;32m      5\u001b[0m \u001b[0;34m\u001b[0m\u001b[0m\n\u001b[1;32m      6\u001b[0m \u001b[0ma_list\u001b[0m \u001b[0;34m=\u001b[0m \u001b[0;34m[\u001b[0m\u001b[0;36m1\u001b[0m\u001b[0;34m,\u001b[0m \u001b[0;36m2\u001b[0m\u001b[0;34m,\u001b[0m \u001b[0;36m3\u001b[0m\u001b[0;34m,\u001b[0m \u001b[0;36m4\u001b[0m\u001b[0;34m,\u001b[0m \u001b[0;36m5\u001b[0m\u001b[0;34m,\u001b[0m \u001b[0;36m6\u001b[0m\u001b[0;34m,\u001b[0m \u001b[0;36m10\u001b[0m\u001b[0;34m,\u001b[0m \u001b[0;34m\"one hundred\"\u001b[0m\u001b[0;34m]\u001b[0m\u001b[0;34m\u001b[0m\u001b[0m\n\u001b[0;32m----> 7\u001b[0;31m \u001b[0mmean\u001b[0m\u001b[0;34m(\u001b[0m\u001b[0ma_list\u001b[0m\u001b[0;34m)\u001b[0m\u001b[0;34m\u001b[0m\u001b[0m\n\u001b[0m",
      "\u001b[0;32m<ipython-input-31-e3d6d104590c>\u001b[0m in \u001b[0;36mmean\u001b[0;34m(nums)\u001b[0m\n\u001b[1;32m      1\u001b[0m \u001b[0;32mdef\u001b[0m \u001b[0mmean\u001b[0m\u001b[0;34m(\u001b[0m\u001b[0mnums\u001b[0m\u001b[0;34m)\u001b[0m\u001b[0;34m:\u001b[0m\u001b[0;34m\u001b[0m\u001b[0m\n\u001b[0;32m----> 2\u001b[0;31m     \u001b[0mtop\u001b[0m \u001b[0;34m=\u001b[0m \u001b[0msum\u001b[0m\u001b[0;34m(\u001b[0m\u001b[0mnums\u001b[0m\u001b[0;34m)\u001b[0m\u001b[0;34m\u001b[0m\u001b[0m\n\u001b[0m\u001b[1;32m      3\u001b[0m     \u001b[0mbot\u001b[0m \u001b[0;34m=\u001b[0m \u001b[0mlen\u001b[0m\u001b[0;34m(\u001b[0m\u001b[0mnums\u001b[0m\u001b[0;34m)\u001b[0m\u001b[0;34m\u001b[0m\u001b[0m\n\u001b[1;32m      4\u001b[0m     \u001b[0;32mreturn\u001b[0m \u001b[0mfloat\u001b[0m\u001b[0;34m(\u001b[0m\u001b[0mtop\u001b[0m\u001b[0;34m)\u001b[0m \u001b[0;34m/\u001b[0m \u001b[0mfloat\u001b[0m\u001b[0;34m(\u001b[0m\u001b[0mbot\u001b[0m\u001b[0;34m)\u001b[0m\u001b[0;34m\u001b[0m\u001b[0m\n\u001b[1;32m      5\u001b[0m \u001b[0;34m\u001b[0m\u001b[0m\n",
      "\u001b[0;31mTypeError\u001b[0m: unsupported operand type(s) for +: 'int' and 'str'"
     ]
    }
   ],
   "source": [
    "def mean(nums):\n",
    "    top = sum(nums)\n",
    "    bot = len(nums)\n",
    "    return float(top) / float(bot)\n",
    "\n",
    "a_list = [1, 2, 3, 4, 5, 6, 10, \"one hundred\"]\n",
    "mean(a_list)"
   ]
  },
  {
   "cell_type": "markdown",
   "metadata": {},
   "source": [
    "## Interactive Debugging\n",
    "\n",
    "Integrated Development Environments (or short IDE's) come with so called \"interactive graphical debuggers\" they are extremely useful when working on large projects.\n",
    "\n",
    "We will work with \"Spyder\" (Scientific PYthon Development EnviRonment), an open source IDE for Python. Spyder is part of the installer for this course.\n",
    "\n",
    "#### Some Python IDEs:\n",
    "* Spyder: <https://pythonhosted.org/spyder/> (Free, open-source)\n",
    "* PyCharm Community: <https://www.jetbrains.com/pycharm/download/> \n",
    "* PyDev <http://www.pydev.org/>\n",
    "    * Whic ca be installed as a plugin for [Eclipse](http://www.eclipse.org/),\n",
    "    * or as a part of LiClipse: <http://www.liclipse.com/>\n",
    "\n",
    "### Download example files\n",
    "\n",
    "1. Download and unzip the following file and save them in the CMSC6950 folder on your Desktop:\n",
    "    * <https://cmsc6950.github.io/data/2017-05-31.zip>\n",
    "\n",
    "\n",
    "### Start Spyder\n",
    "#### Windows users:\n",
    "Open Spyder from the Start Menu.\n",
    "\n",
    "#### macOS and Linux users:\n",
    "1. Open a new Terminal with:\n",
    "    * on Linux:  [Shift]+[Ctrl]+T\n",
    "    * on macOS:  [Command]+T  or [Windows-key]+T at the lab computers.\n",
    "2. Then type `spyder` followed by [Enter]\n",
    "\n",
    "### In Spyder (for everyone):\n",
    "\n",
    "#### Example 1\n",
    "\n",
    "1. Click on the \"File Explorer\" tab (right half of the window in the middle)\n",
    "2. Navigate to **Desktop/CMSC6950**  \n",
    "   You should see `debug_mean.py` and `debug_2.py` in the File Explorer.\n",
    "3. Open **`debug_mean.py`** by double clicking on the name in the File Exprorer.\n",
    "4. Double-click on the line number **14** in the left window, a red dot should appear next to the line number.  \n",
    "   Alternatively: Place you cursor on line 14 and press the [F12] key (Set/Clear breakpoint).\n",
    "5. Click on the \"**Debug File**\" icon (>||) - or alternatively press [Ctrl]+[F5].\n",
    "6. Click repeatedly on the \"**Run current line**\" icon or press [Ctrl]+[F10].  \n",
    "   Notice which line is highlited in the text editor.\n",
    "7. Click on the \"**Variable Explorer**\" tab (right half of the window in the middle).\n",
    "   Notice how the value of variable `top` keeps going up as we continue \"Run current line\".\n",
    "8. Click a few times on \"**Continue** Execution **until next Breakpoint**\" or press [Ctrl]+[F12].\n",
    "9. Click on \"**Stop Debugging**\" or press [Ctrl]+[Shift]+[F12].\n",
    "\n",
    "\n",
    "#### Example 2\n",
    "\n",
    "1. Open **`debug_2.py`** by double clicking on the name in the File Explorer.\n",
    "2. In this file **set a breakpoint** on **line 14** by double-clicking on the line numberor placing you cursor on line 14 and pressing the [F12] key.\n",
    "3. Click on the \"**Debug File**\" icon (>||) or press [Ctrl]+[F5].\n",
    "4. Click again on the \"Variable Explorer\" tab.\n",
    "5. Click on \"**Continue** Execution **until next Breakpoint**\" or press [Ctrl]+[F12].\n",
    "6. Click on \"**Step into** function or method of current line\" or press [Ctrl]+[F11].  \n",
    "   Notice how the editor now shows the the `debug_mean.py` file again.\n",
    "7. Click repeatedly on \"**Continue** Execution **until next Breakpoint**\" or press [Ctrl]+[F12].\n",
    "8. Click on \"**Stop Debugging**\" or press [Ctrl]+[Shift]+[F12].\n",
    "\n",
    "#### Example 3\n",
    "\n",
    "1. Follow steps 1. and 2. from the previous example.\n",
    "2. Click on the tab \"Python console\" (bottom-right)\n",
    "3. Follow steps 3. to 7. \n",
    "4. On the `(Pdb)` prompt (Python console) type: `nums[-1]=100`\n",
    "5. Notice that the list \"nums\" in the Variable explorer has changed."
   ]
  },
  {
   "cell_type": "markdown",
   "metadata": {},
   "source": [
    "## Python's command line debugger (pdb)"
   ]
  },
  {
   "cell_type": "code",
   "execution_count": 39,
   "metadata": {},
   "outputs": [
    {
     "name": "stdout",
     "output_type": "stream",
     "text": [
      "--Return--\n",
      "> <ipython-input-39-2a7f4d866236>(4)<module>()->None\n",
      "-> pdb.set_trace()\n",
      "(Pdb) q\n",
      "Exiting Debugger.\n"
     ]
    }
   ],
   "source": [
    "import pdb\n",
    "\n",
    "# uncomment to run pdb\n",
    "pdb.set_trace()\n",
    "a_list = [1, 2, 3, 4, 5, 6, 10, \"one hundred\"]\n",
    "mean(a_list)"
   ]
  },
  {
   "cell_type": "code",
   "execution_count": 40,
   "metadata": {},
   "outputs": [
    {
     "name": "stdout",
     "output_type": "stream",
     "text": [
      "16.375\n"
     ]
    }
   ],
   "source": [
    "a_list = [1, 2, 3, 4, 5, 6, 10, 100]\n",
    "result = mean(a_list)\n",
    "print(result)"
   ]
  },
  {
   "cell_type": "code",
   "execution_count": null,
   "metadata": {},
   "outputs": [],
   "source": []
  }
 ],
 "metadata": {
  "kernelspec": {
   "display_name": "Python 3",
   "language": "python",
   "name": "python3"
  },
  "language_info": {
   "codemirror_mode": {
    "name": "ipython",
    "version": 3
   },
   "file_extension": ".py",
   "mimetype": "text/x-python",
   "name": "python",
   "nbconvert_exporter": "python",
   "pygments_lexer": "ipython3",
   "version": "3.6.5"
  }
 },
 "nbformat": 4,
 "nbformat_minor": 1
}
