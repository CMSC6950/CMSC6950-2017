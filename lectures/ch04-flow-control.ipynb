{
 "cells": [
  {
   "cell_type": "markdown",
   "metadata": {},
   "source": [
    "# Python: Flow Control and Logic\n",
    "\n",
    "Flow control is a high-level way of programming a computer to make decisions. These\n",
    "decisions can be simple or complicated, executed once or multiple times. The syntax\n",
    "for the different flow control mechanisms varies, but what they all share is that they\n",
    "determine an execution pathway for the program. Python has relatively few forms of\n",
    "flow control. They are conditionals, exceptions, and loops"
   ]
  },
  {
   "cell_type": "markdown",
   "metadata": {},
   "source": [
    "## Conditionals\n",
    "\n",
    "Conditionals are the simplest form of flow control. In English, they follow the syntax\n",
    "“if x is true, then do something; otherwise, do something else.” The shortest conditional\n",
    "is when there is only an if statement on its own. The format for such a statement\n",
    "is as follows:"
   ]
  },
  {
   "cell_type": "code",
   "execution_count": 8,
   "metadata": {},
   "outputs": [
    {
     "name": "stdout",
     "output_type": "stream",
     "text": [
      "h-bar isn't really unity! Resetting...\n"
     ]
    }
   ],
   "source": [
    "h_bar = 1.0\n",
    "# Here, the Python keyword if is followed by an expression, <condition>, which is itself followed by a colon (:). \n",
    "if h_bar == 1.0:\n",
    "    # When the Boolean representation of the condition, bool(condition), is True, the code that is in the <if-block> is executed.\n",
    "    # Otherwise, the code in the block is skipped.\n",
    "    # Python uses four spaces per level to indent all code blocks.\n",
    "    print(\"h-bar isn't really unity! Resetting...\")\n",
    "    h_bar = 1.05457173e-34"
   ]
  },
  {
   "cell_type": "code",
   "execution_count": 10,
   "metadata": {},
   "outputs": [
    {
     "name": "stdout",
     "output_type": "stream",
     "text": [
      "h-bar isn't really unity! Resetting...\n"
     ]
    }
   ],
   "source": [
    "h_bar = 1\n",
    "if h_bar == 1:\n",
    "    print(\"h-bar isn't really unity! Resetting...\")\n",
    "    h_bar = 1.05457173e-34\n",
    "h = h_bar * 2 * 3.14159"
   ]
  },
  {
   "cell_type": "code",
   "execution_count": 11,
   "metadata": {},
   "outputs": [
    {
     "data": {
      "text/plain": [
       "True"
      ]
     },
     "execution_count": 11,
     "metadata": {},
     "output_type": "execute_result"
    }
   ],
   "source": [
    "1 == 1"
   ]
  },
  {
   "cell_type": "code",
   "execution_count": 12,
   "metadata": {},
   "outputs": [
    {
     "data": {
      "text/plain": [
       "True"
      ]
     },
     "execution_count": 12,
     "metadata": {},
     "output_type": "execute_result"
    }
   ],
   "source": [
    "# The equality operator (==) tests if two values are equivalent. For example, 1 == 1.0 is True even though 1 is an integer and 1.0 is a float.\n",
    "1 == 1.0"
   ]
  },
  {
   "cell_type": "code",
   "execution_count": 7,
   "metadata": {},
   "outputs": [
    {
     "data": {
      "text/plain": [
       "False"
      ]
     },
     "execution_count": 7,
     "metadata": {},
     "output_type": "execute_result"
    }
   ],
   "source": [
    "# The identity operator (is) tests if two variable names are references to the same underlying value in memory.\n",
    "1 is 1.0\n",
    "# 1 is 1.0 is False because the types are different, and therefore they cannot actually be references to the same value.\n",
    "# Be carful with what you should use!"
   ]
  },
  {
   "cell_type": "markdown",
   "metadata": {},
   "source": [
    "To help with performance, Python only stores a single copy of small integers. So for small ints, every usage\n",
    "will be the same value in memory."
   ]
  },
  {
   "cell_type": "code",
   "execution_count": 15,
   "metadata": {},
   "outputs": [
    {
     "data": {
      "text/plain": [
       "True"
      ]
     },
     "execution_count": 15,
     "metadata": {},
     "output_type": "execute_result"
    }
   ],
   "source": [
    "1 is 1"
   ]
  },
  {
   "cell_type": "code",
   "execution_count": 16,
   "metadata": {},
   "outputs": [
    {
     "data": {
      "text/plain": [
       "True"
      ]
     },
     "execution_count": 16,
     "metadata": {},
     "output_type": "execute_result"
    }
   ],
   "source": [
    "2**2==2**2"
   ]
  },
  {
   "cell_type": "code",
   "execution_count": 19,
   "metadata": {},
   "outputs": [
    {
     "data": {
      "text/plain": [
       "True"
      ]
     },
     "execution_count": 19,
     "metadata": {},
     "output_type": "execute_result"
    }
   ],
   "source": [
    "10**10 == 10**10"
   ]
  },
  {
   "cell_type": "markdown",
   "metadata": {},
   "source": [
    "However, for big integers a new copy is computed each time."
   ]
  },
  {
   "cell_type": "code",
   "execution_count": 20,
   "metadata": {},
   "outputs": [
    {
     "data": {
      "text/plain": [
       "False"
      ]
     },
     "execution_count": 20,
     "metadata": {},
     "output_type": "execute_result"
    }
   ],
   "source": [
    "10**10 is 10**10"
   ]
  },
  {
   "cell_type": "code",
   "execution_count": 21,
   "metadata": {},
   "outputs": [
    {
     "data": {
      "text/plain": [
       "True"
      ]
     },
     "execution_count": 21,
     "metadata": {},
     "output_type": "execute_result"
    }
   ],
   "source": [
    "None is None"
   ]
  },
  {
   "cell_type": "code",
   "execution_count": 22,
   "metadata": {},
   "outputs": [
    {
     "data": {
      "text/plain": [
       "False"
      ]
     },
     "execution_count": 22,
     "metadata": {},
     "output_type": "execute_result"
    }
   ],
   "source": [
    "0 is None "
   ]
  },
  {
   "cell_type": "code",
   "execution_count": 23,
   "metadata": {},
   "outputs": [
    {
     "data": {
      "text/plain": [
       "False"
      ]
     },
     "execution_count": 23,
     "metadata": {},
     "output_type": "execute_result"
    }
   ],
   "source": [
    "0 == None "
   ]
  },
  {
   "cell_type": "markdown",
   "metadata": {},
   "source": [
    "### if-else Statements\n",
    "Every if statement may be followed by an optional else statement. This is the keyword\n",
    "else followed by a colon (:) at the same indentation level as the original if.\n",
    "The <else-block> lines following this are indented just like the if block. The code in\n",
    "the else block is executed when the condition is False:\n",
    "\n",
    "```python\n",
    "if <condition>:\n",
    "    <if-block>\n",
    "else:\n",
    "    <else-block>\n",
    "```"
   ]
  },
  {
   "cell_type": "code",
   "execution_count": null,
   "metadata": {
    "collapsed": true
   },
   "outputs": [],
   "source": [
    "# The sin(1/x) function is computable everywhere except a x = 0.\n",
    "if x == 0:\n",
    "y = 0\n",
    "else:\n",
    "y = sin(1/x)"
   ]
  },
  {
   "cell_type": "markdown",
   "metadata": {},
   "source": [
    "This is equivalent to negating the conditional and switching the if and else blocks:"
   ]
  },
  {
   "cell_type": "code",
   "execution_count": null,
   "metadata": {},
   "outputs": [],
   "source": [
    "if x != 0:\n",
    "y = sin(1/x)\n",
    "else:\n",
    "y = 0"
   ]
  },
  {
   "cell_type": "markdown",
   "metadata": {},
   "source": [
    "However, it is generally considered a good practice to use positive conditionals (`==`)\n",
    "rather than negative ones (`!=`)."
   ]
  },
  {
   "cell_type": "markdown",
   "metadata": {},
   "source": [
    "### if-elif-else Statements\n",
    "\n",
    "Python also allows multiple optional elif statements. The elif keyword is an abbreviation\n",
    "for “else if,” and such statements come after the if statement and before the\n",
    "else statement.\n",
    "\n",
    "```python\n",
    "if <condition0>:\n",
    "    <if-block>\n",
    "elif <condition1>:        # There may be as many of elif statements as desired\n",
    "    <elif-block1>\n",
    "elif <condition2>:\n",
    "    <elif-block2>\n",
    "...\n",
    "else:\n",
    "    <else-block>\n",
    "```\n",
    "\n",
    "Suppose that you wanted to design a simple mid-band filter whose signal is 1 if the\n",
    "frequency is between 1 and 10 Hertz and 0 otherwise. This could be done with an if-elif-else \n",
    "statement:"
   ]
  },
  {
   "cell_type": "code",
   "execution_count": 2,
   "metadata": {},
   "outputs": [
    {
     "name": "stdout",
     "output_type": "stream",
     "text": [
      "1.0\n"
     ]
    }
   ],
   "source": [
    "# try changing the value of omega\n",
    "omega = 5.0         # Omega is frequency\n",
    "\n",
    "if omega < 1.0:\n",
    "    signal = 0.0\n",
    "elif omega > 10.0:\n",
    "    signal = 0.0\n",
    "else:\n",
    "    signal = 1.0\n",
    "\n",
    "print(signal)"
   ]
  },
  {
   "cell_type": "markdown",
   "metadata": {},
   "source": [
    "A more realistic example might include ramping on either side of the band:"
   ]
  },
  {
   "cell_type": "code",
   "execution_count": null,
   "metadata": {},
   "outputs": [],
   "source": [
    "# try changing the value of omega\n",
    "omega = 0.0\n",
    "\n",
    "if omega < 0.9:                         # omega < 0.9 ===> signal=0.0\n",
    "    signal = 0.0                        # 0.9 < omega < 1.0 ===> signal=(omega - 0.9) / 0.1\n",
    "elif omega > 0.9 and omega < 1.0:\n",
    "    signal = (omega - 0.9) / 0.1\n",
    "elif omega > 10.0 and omega < 10.1:     # 10.0 < omega < 10.1 ===> signal=(10.1 - omega) / 0.1\n",
    "    signal = (10.1 - omega) / 0.1\n",
    "elif omega > 10.1:                      # omega > 10.1 ===> signal=0.0\n",
    "    signal = 0.0\n",
    "else:\n",
    "    signal = 1.0                        # Otherwise, signal=1.0\n",
    "    \n",
    "print(signal)"
   ]
  },
  {
   "cell_type": "markdown",
   "metadata": {},
   "source": [
    "### if-else Expression\n",
    "Simple ifelse conditionals to be evaluated in a single expression. This has the following syntax:\n",
    "\n",
    "```python\n",
    "x if <condition> else y\n",
    "# evaluates x if consition is True. Otherwise, y is returned.\n",
    "```"
   ]
  },
  {
   "cell_type": "code",
   "execution_count": null,
   "metadata": {},
   "outputs": [],
   "source": [
    "h_bar = 1.05457173e-34 if h_bar == 1.0 else h_bar"
   ]
  },
  {
   "cell_type": "markdown",
   "metadata": {},
   "source": [
    "## Exceptions\n",
    "\n",
    "Python, like most modern programming languages, has a mechanism for exception\n",
    "handling. This is a language feature that allows the programmer to work around situations\n",
    "where the unexpected and catastrophic happen.\n",
    "\n",
    "```python\n",
    "try:\n",
    "    <try-block>\n",
    "except:\n",
    "    <except-block>\n",
    "```\n",
    "\n",
    "As an example, say that a user manually inputs a value and then the program takes\n",
    "the inverse of this value. Normally this computes just fine, with the exception of when\n",
    "the user enters 0:"
   ]
  },
  {
   "cell_type": "code",
   "execution_count": 3,
   "metadata": {},
   "outputs": [
    {
     "ename": "ZeroDivisionError",
     "evalue": "float division by zero",
     "output_type": "error",
     "traceback": [
      "\u001b[0;31m---------------------------------------------------------------------------\u001b[0m",
      "\u001b[0;31mZeroDivisionError\u001b[0m                         Traceback (most recent call last)",
      "\u001b[0;32m<ipython-input-3-e62ef9df3b8a>\u001b[0m in \u001b[0;36m<module>\u001b[0;34m()\u001b[0m\n\u001b[1;32m      1\u001b[0m \u001b[0mval\u001b[0m \u001b[0;34m=\u001b[0m \u001b[0;36m0.0\u001b[0m\u001b[0;34m\u001b[0m\u001b[0m\n\u001b[0;32m----> 2\u001b[0;31m \u001b[0;36m1.0\u001b[0m \u001b[0;34m/\u001b[0m \u001b[0mval\u001b[0m      \u001b[0;31m# When val =0.0, the code will crash!\u001b[0m\u001b[0;34m\u001b[0m\u001b[0m\n\u001b[0m",
      "\u001b[0;31mZeroDivisionError\u001b[0m: float division by zero"
     ]
    }
   ],
   "source": [
    "val = 0.0\n",
    "1.0 / val      # When val =0.0, the code will crash!"
   ]
  },
  {
   "cell_type": "markdown",
   "metadata": {},
   "source": [
    "This error could be handled with a try-except, which would prevent the program\n",
    "from crashing:"
   ]
  },
  {
   "cell_type": "code",
   "execution_count": null,
   "metadata": {},
   "outputs": [],
   "source": [
    "try:\n",
    "    inv = 1.0 / val\n",
    "except: \n",
    "    print(\"A bad value was submitted {0}, please try again\".format(val))"
   ]
  },
  {
   "cell_type": "markdown",
   "metadata": {},
   "source": [
    "The except statement also allows for the precise error that is anticipated to be caught. The error\n",
    "name is placed right after the except keyword but before the colon,"
   ]
  },
  {
   "cell_type": "code",
   "execution_count": null,
   "metadata": {},
   "outputs": [],
   "source": [
    "try:\n",
    "    inv = 1.0 / val\n",
    "except ZeroDivisionError: \n",
    "    print(\"A zero value was submitted, please try again\")"
   ]
  },
  {
   "cell_type": "markdown",
   "metadata": {},
   "source": [
    "Multiple except blocks may be chained together, much like elif statements. The first\n",
    "exception that matches determines the except block that is executed. "
   ]
  },
  {
   "cell_type": "code",
   "execution_count": 4,
   "metadata": {},
   "outputs": [
    {
     "name": "stdout",
     "output_type": "stream",
     "text": [
      "A zero value was submitted, please try again\n"
     ]
    }
   ],
   "source": [
    "try:\n",
    "    inv = 1.0 / val\n",
    "except ZeroDivisionError: \n",
    "    print(\"A zero value was submitted, please try again\")\n",
    "except: \n",
    "    print(\"A bad value was submitted {0}, please try again\".format(val))"
   ]
  },
  {
   "cell_type": "markdown",
   "metadata": {},
   "source": [
    "### Raising Exceptions\n",
    "The `raise` keyword will\n",
    "throw an exception or error.`raise` statements may appear anywhere, but it is common to put them inside of conditionals\n",
    "so that they are not executed unless they need to be.\n",
    "\n",
    "This syntax provides a standard way for signaling that the program has run\n",
    "into an unallowed situation and can no longer continue executing.\n",
    "\n",
    "Continuing with the\n",
    "inverse example, instead of letting Python raise a `ZeroDivisionError` we could check\n",
    "for a zero value and raise it ourselves:"
   ]
  },
  {
   "cell_type": "code",
   "execution_count": 7,
   "metadata": {},
   "outputs": [
    {
     "ename": "ZeroDivisionError",
     "evalue": "",
     "output_type": "error",
     "traceback": [
      "\u001b[0;31m---------------------------------------------------------------------------\u001b[0m",
      "\u001b[0;31mZeroDivisionError\u001b[0m                         Traceback (most recent call last)",
      "\u001b[0;32m<ipython-input-7-22475a8d3749>\u001b[0m in \u001b[0;36m<module>\u001b[0;34m()\u001b[0m\n\u001b[1;32m      1\u001b[0m \u001b[0;32mif\u001b[0m \u001b[0mval\u001b[0m \u001b[0;34m==\u001b[0m \u001b[0;36m0.0\u001b[0m\u001b[0;34m:\u001b[0m\u001b[0;34m\u001b[0m\u001b[0m\n\u001b[0;32m----> 2\u001b[0;31m     \u001b[0;32mraise\u001b[0m \u001b[0mZeroDivisionError\u001b[0m\u001b[0;34m\u001b[0m\u001b[0m\n\u001b[0m\u001b[1;32m      3\u001b[0m \u001b[0minv\u001b[0m \u001b[0;34m=\u001b[0m \u001b[0;36m1.0\u001b[0m \u001b[0;34m/\u001b[0m \u001b[0mval\u001b[0m              \u001b[0;31m# if val=0, this line will never be run.\u001b[0m\u001b[0;34m\u001b[0m\u001b[0m\n",
      "\u001b[0;31mZeroDivisionError\u001b[0m: "
     ]
    }
   ],
   "source": [
    "if val == 0.0:\n",
    "    raise ZeroDivisionError\n",
    "inv = 1.0 / val              # if val=0, this line will never be run."
   ]
  },
  {
   "cell_type": "markdown",
   "metadata": {},
   "source": [
    "All errors can be called with a custom string message. Error messages should be as detailed as necessary while remaining concise and readable."
   ]
  },
  {
   "cell_type": "code",
   "execution_count": 8,
   "metadata": {},
   "outputs": [
    {
     "ename": "ZeroDivisionError",
     "evalue": "taking the inverse of zero is forbidden!",
     "output_type": "error",
     "traceback": [
      "\u001b[0;31m---------------------------------------------------------------------------\u001b[0m",
      "\u001b[0;31mZeroDivisionError\u001b[0m                         Traceback (most recent call last)",
      "\u001b[0;32m<ipython-input-8-4665e2c4c5e3>\u001b[0m in \u001b[0;36m<module>\u001b[0;34m()\u001b[0m\n\u001b[1;32m      1\u001b[0m \u001b[0;32mif\u001b[0m \u001b[0mval\u001b[0m \u001b[0;34m==\u001b[0m \u001b[0;36m0.0\u001b[0m\u001b[0;34m:\u001b[0m\u001b[0;34m\u001b[0m\u001b[0m\n\u001b[0;32m----> 2\u001b[0;31m     \u001b[0;32mraise\u001b[0m \u001b[0mZeroDivisionError\u001b[0m\u001b[0;34m(\u001b[0m\u001b[0;34m\"taking the inverse of zero is forbidden!\"\u001b[0m\u001b[0;34m)\u001b[0m\u001b[0;34m\u001b[0m\u001b[0m\n\u001b[0m\u001b[1;32m      3\u001b[0m \u001b[0minv\u001b[0m \u001b[0;34m=\u001b[0m \u001b[0;36m1.0\u001b[0m \u001b[0;34m/\u001b[0m \u001b[0mval\u001b[0m\u001b[0;34m\u001b[0m\u001b[0m\n",
      "\u001b[0;31mZeroDivisionError\u001b[0m: taking the inverse of zero is forbidden!"
     ]
    }
   ],
   "source": [
    "if val == 0.0:\n",
    "    raise ZeroDivisionError(\"taking the inverse of zero is forbidden!\")\n",
    "inv = 1.0 / val"
   ]
  },
  {
   "cell_type": "markdown",
   "metadata": {},
   "source": [
    "Python comes with 150+ error and exception types. Look up them in page 84 in <em>Effective Computation in Physics</em>."
   ]
  },
  {
   "cell_type": "markdown",
   "metadata": {},
   "source": [
    "## Loops\n",
    "While computers are not superb at synthesizing new tasks, they are very good at performing\n",
    "the same tasks over and over"
   ]
  },
  {
   "cell_type": "markdown",
   "metadata": {},
   "source": [
    "### `while` loops"
   ]
  },
  {
   "cell_type": "markdown",
   "metadata": {},
   "source": [
    "`while` loops are related to if statements because they continue to execute “while a\n",
    "condition is `True`.”"
   ]
  },
  {
   "cell_type": "code",
   "execution_count": 10,
   "metadata": {},
   "outputs": [
    {
     "name": "stdout",
     "output_type": "stream",
     "text": [
      "t-minus 3\n",
      "t-minus 2\n",
      "t-minus 1\n",
      "blastoff!\n"
     ]
    }
   ],
   "source": [
    "t = 3\n",
    "while 0 < t:                       # The syntax is similar to if statement.\n",
    "    print(\"t-minus \" + str(t))\n",
    "    t = t - 1\n",
    "print(\"blastoff!\")"
   ]
  },
  {
   "cell_type": "code",
   "execution_count": 11,
   "metadata": {},
   "outputs": [
    {
     "name": "stdout",
     "output_type": "stream",
     "text": [
      "I can't print that for you.\n"
     ]
    }
   ],
   "source": [
    "# If the condition evaluates to False , then the while block will never be entered.\n",
    "while False:\n",
    "    print(\"I am sorry, Dave.\")\n",
    "print(\"I can't print that for you.\")"
   ]
  },
  {
   "cell_type": "markdown",
   "metadata": {},
   "source": [
    "<em>Infinite</em> or <em>nonterminating</em> loop: if the condition always evaluates to `True` , the while block will\n",
    "continue to be executed no matter what,"
   ]
  },
  {
   "cell_type": "code",
   "execution_count": null,
   "metadata": {
    "collapsed": true
   },
   "outputs": [],
   "source": [
    "# t = 3\n",
    "# while True:\n",
    "#     print(\"t-minus \" + str(t))\n",
    "#     t = t - 1\n",
    "# print(\"blastoff!\")"
   ]
  },
  {
   "cell_type": "code",
   "execution_count": 13,
   "metadata": {},
   "outputs": [],
   "source": [
    "fib = [1, 1]\n",
    "while True:\n",
    "    x = fib[-2] + fib[-1]\n",
    "    if x%12 == 0:\n",
    "        break\n",
    "    fib.append(x)"
   ]
  },
  {
   "cell_type": "markdown",
   "metadata": {},
   "source": [
    "The `break` statement is Python’s way of leaving a loop early. The keyword break simply appears on its own line, and the loop is immediately exited,"
   ]
  },
  {
   "cell_type": "code",
   "execution_count": 18,
   "metadata": {},
   "outputs": [
    {
     "name": "stdout",
     "output_type": "stream",
     "text": [
      "[1, 1, 2, 3, 5, 8, 13, 21, 34, 55, 89]\n"
     ]
    }
   ],
   "source": [
    "fib = [1, 1]\n",
    "while True:\n",
    "    x = fib[-2] + fib[-1]\n",
    "    # This loop will continue forever unless it finds an entry that is divisible by 12, at which point it will immediately leave the loop and not add the entry to the list.\n",
    "    if x%12 == 0:     # if statement is a part of while block\n",
    "        # break statement is additionally intented\n",
    "        break         # will break at x = 144\n",
    "    fib.append(x)\n",
    "print(fib)"
   ]
  },
  {
   "cell_type": "markdown",
   "metadata": {},
   "source": [
    "### `for`  loops"
   ]
  },
  {
   "cell_type": "markdown",
   "metadata": {},
   "source": [
    "`for` loop is useful to\n",
    "iterate over a container or other “iterable,” grabbing a single element each time\n",
    "through and exiting the loop when there are no more elements in the container. All containers (lists, tuples, sets, dictionaries) and strings are iterable,"
   ]
  },
  {
   "cell_type": "code",
   "execution_count": 19,
   "metadata": {},
   "outputs": [
    {
     "name": "stdout",
     "output_type": "stream",
     "text": [
      "t-minus 3\n",
      "t-minus 2\n",
      "t-minus 1\n",
      "blastoff!\n"
     ]
    }
   ],
   "source": [
    "for t in [3, 2, 1]:      # t is loop-var and the container is [3,2,1]\n",
    "    print(\"t-minus \" + str(t))\n",
    "print(\"blastoff!\")"
   ]
  },
  {
   "cell_type": "markdown",
   "metadata": {},
   "source": [
    "The `break` statement can be used with for loops just like with while loops. \n",
    "\n",
    "Additionally, the `continue` statement:\n",
    "- can be used with both for and while loops. \n",
    "- it exits\n",
    "out of the current iteration of the loop only and continues on with the next iteration.\n",
    "- it does not break out of the whole loop."
   ]
  },
  {
   "cell_type": "code",
   "execution_count": 23,
   "metadata": {},
   "outputs": [
    {
     "name": "stdout",
     "output_type": "stream",
     "text": [
      "t-minus 7\n",
      "t-minus 5\n",
      "t-minus 3\n",
      "t-minus 1\n",
      "blastoff!\n"
     ]
    }
   ],
   "source": [
    "for t in [7, 6, 5, 4, 3, 2, 1]:\n",
    "    if t%2 == 0:\n",
    "        continue\n",
    "    print(\"t-minus \" + str(t))    # it does not print if t%2 == 0 \n",
    "print(\"blastoff!\")"
   ]
  },
  {
   "cell_type": "markdown",
   "metadata": {},
   "source": [
    "String iteration produces each letter in turn:"
   ]
  },
  {
   "cell_type": "code",
   "execution_count": 24,
   "metadata": {},
   "outputs": [
    {
     "name": "stdout",
     "output_type": "stream",
     "text": [
      "G\n",
      "o\n",
      "r\n",
      "g\n",
      "u\n",
      "s\n"
     ]
    }
   ],
   "source": [
    "for letter in \"Gorgus\":\n",
    "    print(letter)"
   ]
  },
  {
   "cell_type": "markdown",
   "metadata": {},
   "source": [
    "Unordered data structures (sets, dictionaries):\n",
    "- have an unpredictable iteration ordering. \n",
    "- All elements are guaranteed to be iterated over, but when each element\n",
    "comes out is not predictable.\n",
    "- The iteration order is not the order that the object was\n",
    "created with."
   ]
  },
  {
   "cell_type": "code",
   "execution_count": 25,
   "metadata": {},
   "outputs": [
    {
     "name": "stdout",
     "output_type": "stream",
     "text": [
      "0\n",
      "Gorgus\n",
      "True\n"
     ]
    }
   ],
   "source": [
    "for x in {\"Gorgus\", 0, True}:\n",
    "    print(x)"
   ]
  },
  {
   "cell_type": "markdown",
   "metadata": {},
   "source": [
    "Dictionaries:\n",
    "- The loop variable could be the keys, the values, or both (the items). \n",
    "- Python chooses to return the keys when looping over a dictionary. \n",
    "- It is assumed that the values can be looked upnormally. \n",
    "- It is very common to use key or k as the loop variable name."
   ]
  },
  {
   "cell_type": "code",
   "execution_count": 28,
   "metadata": {},
   "outputs": [
    {
     "name": "stdout",
     "output_type": "stream",
     "text": [
      "birthday\n",
      "[1879, 3, 14]\n",
      "======\n",
      "last\n",
      "Einstein\n",
      "======\n",
      "first\n",
      "Albert\n",
      "======\n"
     ]
    }
   ],
   "source": [
    "d = {\"first\": \"Albert\", \n",
    "     \"last\": \"Einstein\", \n",
    "     \"birthday\": [1879, 3, 14]}\n",
    "\n",
    "for key in d:\n",
    "    print(key)\n",
    "    print(d[key])\n",
    "    print(\"======\")"
   ]
  },
  {
   "cell_type": "markdown",
   "metadata": {},
   "source": [
    "Dictionaries may also be explicitly looped through their keys, values, or items using\n",
    "the `keys()` , `values()` , or `items()` methods:"
   ]
  },
  {
   "cell_type": "code",
   "execution_count": 29,
   "metadata": {},
   "outputs": [
    {
     "name": "stdout",
     "output_type": "stream",
     "text": [
      "Keys:\n",
      "birthday\n",
      "last\n",
      "first\n",
      "\n",
      "======\n",
      "\n",
      "Values:\n",
      "[1879, 3, 14]\n",
      "Einstein\n",
      "Albert\n",
      "\n",
      "======\n",
      "\n",
      "Items:\n",
      "('birthday', [1879, 3, 14])\n",
      "('last', 'Einstein')\n",
      "('first', 'Albert')\n"
     ]
    }
   ],
   "source": [
    "d = {\"first\": \"Albert\", \n",
    "     \"last\": \"Einstein\", \n",
    "     \"birthday\": [1879, 3, 14]}\n",
    "\n",
    "print(\"Keys:\")\n",
    "for key in d.keys():\n",
    "    print(key)\n",
    "\n",
    "print(\"\\n======\\n\")\n",
    "\n",
    "print(\"Values:\")\n",
    "for value in d.values():\n",
    "    print(value)\n",
    "\n",
    "print(\"\\n======\\n\")\n",
    "\n",
    "print(\"Items:\")\n",
    "for key, value in d.items():\n",
    "    # When iterating over items, the elements come back as key/value tuples\n",
    "    # These can be unpacked into their own loop variables (called key and value here).\n",
    "    print(key, value)"
   ]
  },
  {
   "cell_type": "code",
   "execution_count": 38,
   "metadata": {},
   "outputs": [
    {
     "name": "stdout",
     "output_type": "stream",
     "text": [
      "('birthday', [1879, 3, 14])\n",
      "('last', 'Einstein')\n",
      "('first', 'Albert')\n"
     ]
    }
   ],
   "source": [
    "# Alternatively, the items could remain packed, in which case the loop variable would still be a tuple.\n",
    "for item in d.items():\n",
    "    print(item)"
   ]
  },
  {
   "cell_type": "markdown",
   "metadata": {},
   "source": [
    "It is a very strong idiom in Python that the loop variable name is a singular noun and\n",
    "the iterable is the corresponding plural noun. This makes the loop more natural to\n",
    "read."
   ]
  },
  {
   "cell_type": "code",
   "execution_count": 40,
   "metadata": {},
   "outputs": [
    {
     "name": "stdout",
     "output_type": "stream",
     "text": [
      "bottom\n",
      "top\n",
      "up\n",
      "down\n",
      "strange\n",
      "charm\n"
     ]
    }
   ],
   "source": [
    "quarks = {'up', 'down', 'top', 'bottom', 'charm', 'strange'}\n",
    "for quark in quarks:    # quark is the singular of the plural quarks\n",
    "    print(quark)"
   ]
  },
  {
   "cell_type": "code",
   "execution_count": 43,
   "metadata": {},
   "outputs": [],
   "source": [
    "upper_quarks = []\n",
    "for quark in quarks:\n",
    "    upper_quarks.append(quark.upper())"
   ]
  },
  {
   "cell_type": "code",
   "execution_count": 44,
   "metadata": {},
   "outputs": [
    {
     "data": {
      "text/plain": [
       "['BOTTOM', 'TOP', 'UP', 'DOWN', 'STRANGE', 'CHARM']"
      ]
     },
     "execution_count": 44,
     "metadata": {},
     "output_type": "execute_result"
    }
   ],
   "source": [
    "upper_quarks = [quark.upper() for quark in quarks]\n",
    "upper_quarks"
   ]
  },
  {
   "cell_type": "markdown",
   "metadata": {},
   "source": [
    "Wheb there is only one meaningful expression where work is performed, the whole loop could be done in one line."
   ]
  },
  {
   "cell_type": "code",
   "execution_count": 46,
   "metadata": {},
   "outputs": [
    {
     "data": {
      "text/plain": [
       "{'charm', 'strange', 'top'}"
      ]
     },
     "execution_count": 46,
     "metadata": {},
     "output_type": "execute_result"
    }
   ],
   "source": [
    "entries = ['top', 'CHARm', 'Top', 'sTraNGe', 'strangE', 'top']\n",
    "quarks = {quark.lower() for quark in entries}\n",
    "quarks    # Notice that the list quarks ignores repetition."
   ]
  },
  {
   "cell_type": "markdown",
   "metadata": {},
   "source": [
    "For instance, suppose that we want to create a\n",
    "dictionary that maps numbers in an entries list to the results of `x**2 + 42` . This can\n",
    "be done in a single line,"
   ]
  },
  {
   "cell_type": "code",
   "execution_count": 47,
   "metadata": {},
   "outputs": [
    {
     "data": {
      "text/plain": [
       "{1: 43, 10: 142, 12.5: 198.25, 65: 4267, 88: 7786}"
      ]
     },
     "execution_count": 47,
     "metadata": {},
     "output_type": "execute_result"
    }
   ],
   "source": [
    "entries = [1, 10, 12.5, 65, 88]\n",
    "results = {x: x**2 + 42 for x in entries}\n",
    "results"
   ]
  },
  {
   "cell_type": "markdown",
   "metadata": {},
   "source": [
    "Alternatively, take the case where you want to compute the set of squares of the list `fib` \n",
    "numbers, but only where the number is divisible by five,"
   ]
  },
  {
   "cell_type": "code",
   "execution_count": 49,
   "metadata": {},
   "outputs": [
    {
     "name": "stdout",
     "output_type": "stream",
     "text": [
      "[1, 1, 2, 3, 5, 8, 13, 21, 34, 55, 89]\n"
     ]
    },
    {
     "data": {
      "text/plain": [
       "{25, 3025}"
      ]
     },
     "execution_count": 49,
     "metadata": {},
     "output_type": "execute_result"
    }
   ],
   "source": [
    "print(fib)\n",
    "{x**2 for x in fib if x%5 == 0}"
   ]
  },
  {
   "cell_type": "markdown",
   "metadata": {},
   "source": [
    "Suppose you have a dictionary that maps coordinate axes to\n",
    "indexes. From this dictionary, you only want to retain the polar coordinates (`phi`, `theta`, `r`). The corresponding dictionary comprehension would be implemented as follows:"
   ]
  },
  {
   "cell_type": "code",
   "execution_count": 50,
   "metadata": {},
   "outputs": [
    {
     "data": {
      "text/plain": [
       "{'phi': 3, 'r': 1, 'theta': 2}"
      ]
     },
     "execution_count": 50,
     "metadata": {},
     "output_type": "execute_result"
    }
   ],
   "source": [
    "coords = {'x': 1, 'y': 2, 'z': 3, 'r': 1, 'theta': 2, 'phi': 3}\n",
    "polar_keys = {'r', 'theta', 'phi'}\n",
    "polar = {key: value for key, value in coords.items() if key in polar_keys}\n",
    "polar"
   ]
  }
 ],
 "metadata": {
  "kernelspec": {
   "display_name": "Python 3",
   "language": "python",
   "name": "python3"
  },
  "language_info": {
   "codemirror_mode": {
    "name": "ipython",
    "version": 3
   },
   "file_extension": ".py",
   "mimetype": "text/x-python",
   "name": "python",
   "nbconvert_exporter": "python",
   "pygments_lexer": "ipython3",
   "version": "3.6.5"
  }
 },
 "nbformat": 4,
 "nbformat_minor": 1
}
