{
 "cells": [
  {
   "cell_type": "markdown",
   "metadata": {},
   "source": [
    "# Chapter 8: Regular Expressions\n",
    "\n",
    "Google revolutionized the internet by making it extremely searchable. This kind of power is at your fingertips.\n",
    "Regular expressions are a set of syntatical tools for matching patterns in text. As scientists, we can use this powerful syntax to do many mundane tasks such as finding and sorting files, find and fixing formatting errors, and reformatting data.\n",
    "\n",
    "- Navigate the command line more efficiently.\n",
    "- Quickly find files on the command line based on their content (grep).\n",
    "- Find and replace a complex expression in many files at once (sed).\n",
    "- Quickly do math on plain-text columns of data from the command line (awk).\n",
    "\n",
    "\n"
   ]
  },
  {
   "cell_type": "markdown",
   "metadata": {},
   "source": [
    "## Metacharacters on the Command Line"
   ]
  },
  {
   "cell_type": "markdown",
   "metadata": {},
   "source": [
    "Metacharacters are characters that have a special meaning aside from their literal\n",
    "meaning. Literal characters, on the other hand, are those that are being taken at face\n",
    "value. Regular expressions are strings made of metacharacters and literal characters. Examples of metacharacters:\n",
    "- Alphanumeric characters match themselves.\n",
    "- A dot (`.`) matches any character.\n",
    "- Repeating patterns are matched with `*` , `+` , and `?` .\n",
    "- Character sets ( `[]` ) and the or operator ( `|` ) can match alternatives.\n",
    "- The position markers `^` and `$` match the beginning and end of a line, respectively.\n",
    "- Parentheses can group things and extract information from matches."
   ]
  },
  {
   "cell_type": "markdown",
   "metadata": {},
   "source": [
    "<img src=\"https://i.stack.imgur.com/BBPrT.png\"/>"
   ]
  },
  {
   "cell_type": "markdown",
   "metadata": {},
   "source": [
    "### The wildcard (`*`) --- Zero or more of any character\n",
    "In the space below, list all files in this directory that end in the extension 'ipynb' on the command line."
   ]
  },
  {
   "cell_type": "code",
   "execution_count": 2,
   "metadata": {},
   "outputs": [
    {
     "name": "stdout",
     "output_type": "stream",
     "text": [
      "Databases.ipynb                      ch09-numpy.ipynb\r\n",
      "JupyterCellDisplays.ipynb            ch10-storing-data.ipynb\r\n",
      "Python_Review.ipynb                  ch11-data-structures.ipynb\r\n",
      "Testing.ipynb                        ch14-building-software.ipynb\r\n",
      "Working_With_Markdown_Cells.ipynb    ch15-local-version-control.ipynb\r\n",
      "ch01-the-command-line.ipynb          ch16-remote-version-control.ipynb\r\n",
      "ch02-python.ipynb                    ch17-debugging.ipynb\r\n",
      "ch03-containers.ipynb                ch17b-profiling.ipynb\r\n",
      "ch04-flow-control.ipynb              ch19-documentation.ipynb\r\n",
      "ch05-functions.ipynb                 matplotlib_examples.ipynb\r\n",
      "ch06-classes-objects.ipynb           misc.ipynb\r\n",
      "ch07-analysis-and-viz.ipynb          regexps.ipynb\r\n",
      "ch08-regex.ipynb                     working_with_Pandas_DataFrames.ipynb\r\n"
     ]
    }
   ],
   "source": [
    "# List all files beginning with zero or more of any character, followed by the .ipynb string.\n",
    "!ls *.ipynb"
   ]
  },
  {
   "cell_type": "markdown",
   "metadata": {},
   "source": [
    "### Listing Files with Simple Patterns\n",
    "Using the ! magic in the notebook, access the terminal."
   ]
  },
  {
   "cell_type": "code",
   "execution_count": 7,
   "metadata": {},
   "outputs": [
    {
     "name": "stdout",
     "output_type": "stream",
     "text": [
      "\u001b[34mDATA\u001b[m\u001b[m\r\n",
      "DATA.zip\r\n",
      "Databases.ipynb\r\n",
      "Introduction_to_ACENET_and_Grid_Engine_2017.pdf\r\n",
      "JupyterCellDisplays.ipynb\r\n",
      "\u001b[34mNumpyMatplotlib\u001b[m\u001b[m\r\n",
      "Python_Review.ipynb\r\n",
      "Testing.ipynb\r\n",
      "Working_With_Markdown_Cells.ipynb\r\n",
      "ch01-the-command-line.ipynb\r\n",
      "ch02-python.ipynb\r\n",
      "ch03-containers.ipynb\r\n",
      "ch04-flow-control.ipynb\r\n",
      "ch05-functions.ipynb\r\n",
      "ch06-classes-objects.ipynb\r\n",
      "ch07-analysis-and-viz.ipynb\r\n",
      "ch08-regex.ipynb\r\n",
      "ch09-numpy.ipynb\r\n",
      "ch10-1.h5\r\n",
      "ch10-3.h5\r\n",
      "ch10-storing-data.ipynb\r\n",
      "ch10.h5\r\n",
      "ch11-data-structures.ipynb\r\n",
      "ch14-building-software.ipynb\r\n",
      "ch15-local-version-control.ipynb\r\n",
      "ch16-remote-version-control.ipynb\r\n",
      "ch17-debugging.ipynb\r\n",
      "ch17b-profiling.ipynb\r\n",
      "ch19-documentation.ipynb\r\n",
      "introduction_to_parallel_computing.pdf\r\n",
      "\u001b[34mmake_c\u001b[m\u001b[m\r\n",
      "\u001b[34mmake_report\u001b[m\u001b[m\r\n",
      "matplotlib_examples.ipynb\r\n",
      "misc.ipynb\r\n",
      "mydata.npy\r\n",
      "\u001b[34mnumpy_data\u001b[m\u001b[m\r\n",
      "numpy_data.zip\r\n",
      "\u001b[34mobj\u001b[m\u001b[m\r\n",
      "\u001b[34mpandas_data\u001b[m\u001b[m\r\n",
      "regexps.ipynb\r\n",
      "\u001b[34mscripts-DATA\u001b[m\u001b[m\r\n",
      "\u001b[34mstoring_data\u001b[m\u001b[m\r\n",
      "working_with_Pandas_DataFrames.ipynb\r\n"
     ]
    }
   ],
   "source": [
    "!ls"
   ]
  },
  {
   "cell_type": "markdown",
   "metadata": {},
   "source": [
    "You can get a copy of this sample data here: https://github.com/CMSC6950/CMSC6950.github.io/blob/master/lectures/DATA.zip?raw=true"
   ]
  },
  {
   "cell_type": "code",
   "execution_count": 8,
   "metadata": {},
   "outputs": [
    {
     "name": "stdout",
     "output_type": "stream",
     "text": [
      "total 128\r\n",
      "-rw-------   1 jmunroe  staff    53B  1 May  2017 embryodis_c15_n1.dat\r\n",
      "-rw-------   1 jmunroe  staff    53B  1 May  2017 embryodis_c19_n1.dat\r\n",
      "-rw-------   1 jmunroe  staff    53B  1 May  2017 embryodis_c11_n1.dat\r\n",
      "-rw-------   1 jmunroe  staff    53B  1 May  2017 embryodis_c16_n1.dat\r\n",
      "-rw-------   1 jmunroe  staff    53B  1 May  2017 embryodis_c14_n1.dat\r\n",
      "-rw-------   1 jmunroe  staff    53B  1 May  2017 embryodis_c18_n1.dat\r\n",
      "-rw-------   1 jmunroe  staff    53B  1 May  2017 embryodis_c13_n1.dat\r\n",
      "-rw-------   1 jmunroe  staff    53B  1 May  2017 embryodis_c17_n1.dat\r\n",
      "-rw-------   1 jmunroe  staff    53B  1 May  2017 embryodis_c12_n1.dat\r\n",
      "-rw-r--r--   1 jmunroe  staff     0B  1 May  2017 Icon?\r\n",
      "-rw-------   1 jmunroe  staff    11K  3 May  2017 avg_embryo_dist.DAT\r\n",
      "-rw-------   1 jmunroe  staff    53B  3 May  2017 embryodis_c10_n1.DAT\r\n",
      "drwxr-xr-x  14 jmunroe  staff   448B 16 May  2017 \u001b[34mSIZE-1440\u001b[m\u001b[m\r\n",
      "-rw-r--r--   1 jmunroe  staff    40B 16 May  2017 regexp.dat\r\n",
      "-rw-r--r--   1 jmunroe  staff    63B 16 May  2017 phone.txt\r\n",
      "-rw-------   1 jmunroe  staff    77B 16 May  2017 dates.dat\r\n"
     ]
    }
   ],
   "source": [
    "# Lets check what is in DATA\n",
    "!ls -lrth DATA/"
   ]
  },
  {
   "cell_type": "code",
   "execution_count": 9,
   "metadata": {},
   "outputs": [
    {
     "name": "stdout",
     "output_type": "stream",
     "text": [
      "total 0\r\n",
      "-rw-------  1 jmunroe  staff     0B  1 May  2017 embryodis_n19.dat\r\n",
      "-rw-------  1 jmunroe  staff     0B  1 May  2017 embryodis_n18.dat\r\n",
      "-rw-------  1 jmunroe  staff     0B  1 May  2017 embryodis_n17.dat\r\n",
      "-rw-------  1 jmunroe  staff     0B  1 May  2017 embryodis_n11.dat\r\n",
      "-rw-------  1 jmunroe  staff     0B  1 May  2017 embryodis_n13.dat\r\n",
      "-rw-------  1 jmunroe  staff     0B  1 May  2017 embryodis_n12.dat\r\n",
      "-rw-------  1 jmunroe  staff     0B  1 May  2017 embryodis_n16.dat\r\n",
      "-rw-------  1 jmunroe  staff     0B  1 May  2017 embryodis_n14.dat\r\n",
      "-rw-------  1 jmunroe  staff     0B  1 May  2017 embryodis_n1.dat\r\n",
      "-rw-------  1 jmunroe  staff     0B  1 May  2017 embryodis_n15.dat\r\n",
      "-rw-r--r--  1 jmunroe  staff     0B  1 May  2017 Icon?\r\n",
      "-rw-------  1 jmunroe  staff     0B  3 May  2017 embryodis_n10.DAT\r\n"
     ]
    }
   ],
   "source": [
    "# Lets check what is in DATA\n",
    "!ls -lrth DATA/SIZE-1440/"
   ]
  },
  {
   "cell_type": "code",
   "execution_count": 21,
   "metadata": {},
   "outputs": [
    {
     "name": "stdout",
     "output_type": "stream",
     "text": [
      "DATA/dates.dat            DATA/embryodis_c14_n1.dat DATA/embryodis_c18_n1.dat\r\n",
      "DATA/embryodis_c11_n1.dat DATA/embryodis_c15_n1.dat DATA/embryodis_c19_n1.dat\r\n",
      "DATA/embryodis_c12_n1.dat DATA/embryodis_c16_n1.dat DATA/regexp.dat\r\n",
      "DATA/embryodis_c13_n1.dat DATA/embryodis_c17_n1.dat\r\n"
     ]
    }
   ],
   "source": [
    "# To list all files with extension dat in DATA\n",
    "!ls DATA/*.dat"
   ]
  },
  {
   "cell_type": "markdown",
   "metadata": {
    "collapsed": true
   },
   "source": [
    "Note that ls goes one level deep into directory, i.e., it does not show all dat files in subdirectories."
   ]
  },
  {
   "cell_type": "markdown",
   "metadata": {},
   "source": [
    "### Globally Finding Filenames with Patterns (`find`)\n",
    "`find` command can recursively search a lot of directories at once. One option is to use it with regular expressions. The syntax is:\n",
    "```\n",
    "find [path] -regex \"<expression>\"\n",
    "```\n",
    "With this syntax, the top level of the search will be the indicated . `find` will begin at that location and recursively parse filenames using regular expressions (`-regex`). The expression for which it will seek matches is provided between the double quotes."
   ]
  },
  {
   "cell_type": "code",
   "execution_count": 27,
   "metadata": {},
   "outputs": [
    {
     "name": "stdout",
     "output_type": "stream",
     "text": [
      "./DATA/avg_embryo_dist.DAT\r\n",
      "./DATA/SIZE-1440/embryodis_n10.DAT\r\n",
      "./DATA/embryodis_c10_n1.DAT\r\n"
     ]
    }
   ],
   "source": [
    "!find -E . -regex \".*(\\.DAT)\""
   ]
  },
  {
   "cell_type": "markdown",
   "metadata": {},
   "source": [
    "Note that `find` shows all \".dat\" files in the path specified and all the subdirectories.\n",
    "\n",
    "While the wildcard is available on the command line, it doesn’t mean the same thing on the command line that it does in proper regular expression syntax. On the command line, .* means “one dot (.), then zero or more of any character.” In a regex, it means “zero or more of any character (.).”\n",
    "\n",
    "The dot character (`.`) is a metacharacter in proper regular expressions. For this reason, the backslash is used before the real dot in “.dat” to indicate it should be taken literally."
   ]
  },
  {
   "cell_type": "markdown",
   "metadata": {},
   "source": [
    "### REPRESENTING ANY CHARACTER (`.`)\n",
    "\n",
    "NOTE This bears repeating. On the command line, the dot does not mean “any character.” In proper regular expressions, however, it does. On the command line, the dot already has a special meaning; to represent “any character,” the `?` can be used instead.\n",
    "\n",
    "In the previous example, assume we want all files start with and have a label number in 10's:"
   ]
  },
  {
   "cell_type": "code",
   "execution_count": 30,
   "metadata": {},
   "outputs": [
    {
     "name": "stdout",
     "output_type": "stream",
     "text": [
      "DATA/avg_embryo_dist.DAT\r\n",
      "DATA/embryodis_c13_n1.dat\r\n",
      "DATA/dates.dat\r\n",
      "DATA/embryodis_c11_n1.dat\r\n",
      "DATA/embryodis_c19_n1.dat\r\n",
      "DATA/embryodis_c15_n1.dat\r\n",
      "DATA/embryodis_c17_n1.dat\r\n",
      "DATA/SIZE-1440/embryodis_n1.dat\r\n",
      "DATA/SIZE-1440/embryodis_n19.dat\r\n",
      "DATA/SIZE-1440/embryodis_n18.dat\r\n",
      "DATA/SIZE-1440/embryodis_n13.dat\r\n",
      "DATA/SIZE-1440/embryodis_n12.dat\r\n",
      "DATA/SIZE-1440/embryodis_n10.DAT\r\n",
      "DATA/SIZE-1440/embryodis_n11.dat\r\n",
      "DATA/SIZE-1440/embryodis_n15.dat\r\n",
      "DATA/SIZE-1440/embryodis_n14.dat\r\n",
      "DATA/SIZE-1440/embryodis_n16.dat\r\n",
      "DATA/SIZE-1440/embryodis_n17.dat\r\n",
      "DATA/embryodis_c12_n1.dat\r\n",
      "DATA/embryodis_c10_n1.DAT\r\n",
      "DATA/regexp.dat\r\n",
      "DATA/embryodis_c18_n1.dat\r\n",
      "DATA/embryodis_c14_n1.dat\r\n",
      "DATA/embryodis_c16_n1.dat\r\n"
     ]
    }
   ],
   "source": [
    "!find -E DATA -regex \".*(\\.dat|\\.DAT)\""
   ]
  },
  {
   "cell_type": "code",
   "execution_count": 31,
   "metadata": {},
   "outputs": [
    {
     "name": "stdout",
     "output_type": "stream",
     "text": [
      "DATA/SIZE-1440/embryodis_n19.dat\r\n",
      "DATA/SIZE-1440/embryodis_n18.dat\r\n",
      "DATA/SIZE-1440/embryodis_n13.dat\r\n",
      "DATA/SIZE-1440/embryodis_n12.dat\r\n",
      "DATA/SIZE-1440/embryodis_n10.DAT\r\n",
      "DATA/SIZE-1440/embryodis_n11.dat\r\n",
      "DATA/SIZE-1440/embryodis_n15.dat\r\n",
      "DATA/SIZE-1440/embryodis_n14.dat\r\n",
      "DATA/SIZE-1440/embryodis_n16.dat\r\n",
      "DATA/SIZE-1440/embryodis_n17.dat\r\n"
     ]
    }
   ],
   "source": [
    "!find -E DATA -regex \".*.embryodis_n1.(\\.dat|\\.DAT)\""
   ]
  },
  {
   "cell_type": "markdown",
   "metadata": {},
   "source": [
    "### CHARACTER SETS (`[…]`)"
   ]
  },
  {
   "cell_type": "markdown",
   "metadata": {},
   "source": [
    "A character set matches any one of the enclosed characters.\n",
    "\n",
    "#### Examples\n",
    "\n",
    "- Col[ou]mbia Columbia, Colombia\n",
    "- [Dd]ata Data, data\n",
    "- [Dd][Aa][Tt][Aa] DATA, data, Data\n",
    "- 2014[-.]05[-.]10 2014.05.10, 2014-05-10\n",
    "\n",
    "This makes it easy to avoid worrying about capitalization, varying spellings across the pond, and many other matching issues. In our case, it means that .DAT, .dat, and .data files can all be found with one expression:"
   ]
  },
  {
   "cell_type": "code",
   "execution_count": 35,
   "metadata": {},
   "outputs": [
    {
     "name": "stdout",
     "output_type": "stream",
     "text": [
      "./DATA/SIZE-1440/embryodis_n19.dat\r\n",
      "./DATA/SIZE-1440/embryodis_n18.dat\r\n",
      "./DATA/SIZE-1440/embryodis_n13.dat\r\n",
      "./DATA/SIZE-1440/embryodis_n12.dat\r\n",
      "./DATA/SIZE-1440/embryodis_n10.DAT\r\n",
      "./DATA/SIZE-1440/embryodis_n11.dat\r\n",
      "./DATA/SIZE-1440/embryodis_n15.dat\r\n",
      "./DATA/SIZE-1440/embryodis_n14.dat\r\n",
      "./DATA/SIZE-1440/embryodis_n16.dat\r\n",
      "./DATA/SIZE-1440/embryodis_n17.dat\r\n",
      "./scripts-DATA/DATA/SIZE-1440/embryodis_n19.dat\r\n",
      "./scripts-DATA/DATA/SIZE-1440/embryodis_n18.dat\r\n",
      "./scripts-DATA/DATA/SIZE-1440/embryodis_n13.dat\r\n",
      "./scripts-DATA/DATA/SIZE-1440/embryodis_n12.dat\r\n",
      "./scripts-DATA/DATA/SIZE-1440/embryodis_n10.dat\r\n",
      "./scripts-DATA/DATA/SIZE-1440/embryodis_n11.dat\r\n",
      "./scripts-DATA/DATA/SIZE-1440/embryodis_n15.dat\r\n",
      "./scripts-DATA/DATA/SIZE-1440/embryodis_n14.dat\r\n",
      "./scripts-DATA/DATA/SIZE-1440/embryodis_n16.dat\r\n",
      "./scripts-DATA/DATA/SIZE-1440/embryodis_n17.dat\r\n"
     ]
    }
   ],
   "source": [
    "!find . -regex \".*.embryodis_n1.\\.[Dd][Aa][Tt]\""
   ]
  },
  {
   "cell_type": "markdown",
   "metadata": {},
   "source": [
    "### KEY FEATURES OF CHARACTER SETS\n",
    "Character sets can be specified in shorthand over a range using a hyphen. For letters, [lmnop] is identical to [l-p]. Each set will match any one of the characters “l” through “p” (like the “p” in “zap” or the “l” in “laser”). This works for both numbers and letters. Thus, [0-9] matches any digit."
   ]
  },
  {
   "cell_type": "code",
   "execution_count": 36,
   "metadata": {},
   "outputs": [
    {
     "name": "stdout",
     "output_type": "stream",
     "text": [
      "./DATA/SIZE-1440/embryodis_n13.dat\r\n",
      "./DATA/SIZE-1440/embryodis_n12.dat\r\n",
      "./DATA/SIZE-1440/embryodis_n11.dat\r\n",
      "./DATA/SIZE-1440/embryodis_n15.dat\r\n",
      "./DATA/SIZE-1440/embryodis_n14.dat\r\n",
      "./scripts-DATA/DATA/SIZE-1440/embryodis_n13.dat\r\n",
      "./scripts-DATA/DATA/SIZE-1440/embryodis_n12.dat\r\n",
      "./scripts-DATA/DATA/SIZE-1440/embryodis_n11.dat\r\n",
      "./scripts-DATA/DATA/SIZE-1440/embryodis_n15.dat\r\n",
      "./scripts-DATA/DATA/SIZE-1440/embryodis_n14.dat\r\n"
     ]
    }
   ],
   "source": [
    "!find . -regex \".*.embryodis_n1[1-5]\\.[Dd][Aa][Tt]\""
   ]
  },
  {
   "cell_type": "markdown",
   "metadata": {},
   "source": [
    "A character set can indicate characters that we want to avoid. A caret in the square brackets (`[^{...}]`) denotes a negated character set: it will match anything not in the square brackets. For instance, `[\\^aeiou]` matches only consonants."
   ]
  },
  {
   "cell_type": "code",
   "execution_count": 37,
   "metadata": {},
   "outputs": [
    {
     "name": "stdout",
     "output_type": "stream",
     "text": [
      "./DATA/SIZE-1440/embryodis_n19.dat\r\n",
      "./DATA/SIZE-1440/embryodis_n18.dat\r\n",
      "./DATA/SIZE-1440/embryodis_n12.dat\r\n",
      "./DATA/SIZE-1440/embryodis_n10.DAT\r\n",
      "./DATA/SIZE-1440/embryodis_n11.dat\r\n",
      "./DATA/SIZE-1440/embryodis_n15.dat\r\n",
      "./DATA/SIZE-1440/embryodis_n14.dat\r\n",
      "./DATA/SIZE-1440/embryodis_n16.dat\r\n",
      "./scripts-DATA/DATA/SIZE-1440/embryodis_n19.dat\r\n",
      "./scripts-DATA/DATA/SIZE-1440/embryodis_n18.dat\r\n",
      "./scripts-DATA/DATA/SIZE-1440/embryodis_n12.dat\r\n",
      "./scripts-DATA/DATA/SIZE-1440/embryodis_n10.dat\r\n",
      "./scripts-DATA/DATA/SIZE-1440/embryodis_n11.dat\r\n",
      "./scripts-DATA/DATA/SIZE-1440/embryodis_n15.dat\r\n",
      "./scripts-DATA/DATA/SIZE-1440/embryodis_n14.dat\r\n",
      "./scripts-DATA/DATA/SIZE-1440/embryodis_n16.dat\r\n"
     ]
    }
   ],
   "source": [
    "!find . -regex \".*.embryodis_n1[^{3,7}]\\.[Dd][Aa][Tt]\""
   ]
  },
  {
   "cell_type": "markdown",
   "metadata": {},
   "source": [
    "Character sets can be combined. `[a-zA-Z]` is valid notation matching all letters, irrespective of case."
   ]
  },
  {
   "cell_type": "code",
   "execution_count": 38,
   "metadata": {},
   "outputs": [
    {
     "name": "stdout",
     "output_type": "stream",
     "text": [
      "./DATA/SIZE-1440/embryodis_n19.dat\r\n",
      "./DATA/SIZE-1440/embryodis_n18.dat\r\n",
      "./DATA/SIZE-1440/embryodis_n12.dat\r\n",
      "./DATA/SIZE-1440/embryodis_n10.DAT\r\n",
      "./DATA/SIZE-1440/embryodis_n11.dat\r\n",
      "./DATA/SIZE-1440/embryodis_n15.dat\r\n",
      "./DATA/SIZE-1440/embryodis_n14.dat\r\n",
      "./DATA/SIZE-1440/embryodis_n16.dat\r\n",
      "./scripts-DATA/DATA/SIZE-1440/embryodis_n19.dat\r\n",
      "./scripts-DATA/DATA/SIZE-1440/embryodis_n18.dat\r\n",
      "./scripts-DATA/DATA/SIZE-1440/embryodis_n12.dat\r\n",
      "./scripts-DATA/DATA/SIZE-1440/embryodis_n10.dat\r\n",
      "./scripts-DATA/DATA/SIZE-1440/embryodis_n11.dat\r\n",
      "./scripts-DATA/DATA/SIZE-1440/embryodis_n15.dat\r\n",
      "./scripts-DATA/DATA/SIZE-1440/embryodis_n14.dat\r\n",
      "./scripts-DATA/DATA/SIZE-1440/embryodis_n16.dat\r\n"
     ]
    }
   ],
   "source": [
    "!find . -regex \".*.embryodis_n1[^{3,7}]\\.[a-zA-Z].*\""
   ]
  },
  {
   "cell_type": "markdown",
   "metadata": {},
   "source": [
    "These sets also can be referred to by nicknames, such as `[:alpha:]` (letters), `[:alnum:]` (letters and numbers), `[:lower:]` (lowercase letters), `[:digit:]` (numbers), etc.\n",
    "\n",
    "Note that you have to use double `[[]]` as follows:"
   ]
  },
  {
   "cell_type": "code",
   "execution_count": 44,
   "metadata": {},
   "outputs": [
    {
     "name": "stdout",
     "output_type": "stream",
     "text": [
      "./DATA\r\n",
      "./DATA/avg_embryo_dist.DAT\r\n",
      "./DATA/SIZE-1440/embryodis_n10.DAT\r\n",
      "./DATA/embryodis_c10_n1.DAT\r\n",
      "./scripts-DATA\r\n",
      "./scripts-DATA/DATA\r\n"
     ]
    }
   ],
   "source": [
    "#!find . -regextype posix-extended -regex \".*[[:upper:]]\"  # Graps all files ends with a capital letter\n",
    "!find -E . -regex \".*[[:upper:]]\"  # Graps all files ends with a capital letter\n"
   ]
  },
  {
   "cell_type": "code",
   "execution_count": null,
   "metadata": {},
   "outputs": [],
   "source": []
  },
  {
   "cell_type": "markdown",
   "metadata": {},
   "source": [
    "### `grep`, `sed`, and `awk`\n",
    "\n",
    "`grep`, `sed`, and `awk` are a family of tools that use regular expressions and are available on the command line. They each have different capabilities:\n",
    "\n",
    "The `grep` command has the basic syntax `grep` . `grep` grabs matched patterns and prints them.\n",
    "The `sed` command has the basic syntax sed `\"s///\"` . Sed combines grep with a substitution command.\n",
    "The `awk` command has the basic syntax `awk pattern [action]`. `awk` handles columns."
   ]
  },
  {
   "cell_type": "markdown",
   "metadata": {},
   "source": [
    "#### Finding Patterns in Files (`grep`)\n",
    "\n",
    "`grep` searches, globally, for regular expressions inside files, based on their content. For example, assume you want to see which of the ipynb files talks about sed, then you type:"
   ]
  },
  {
   "cell_type": "code",
   "execution_count": 45,
   "metadata": {},
   "outputs": [
    {
     "name": "stdout",
     "output_type": "stream",
     "text": [
      "ch08-regex.ipynb:    \"The `sed` command has the basic syntax sed `\\\"s///\\\"` . Sed combines grep with a substitution command.\\n\",\n",
      "ch08-regex.ipynb:      \"ch08-regex.ipynb:    \\\"The `sed` command has the basic syntax sed `\\\\\\\"s///\\\\\\\"` . Sed combines grep with a substitution command.\\\\n\\\",\\r\\n\",\n",
      "ch08-regex.ipynb:      \"ch08-regex.ipynb:      \\\"ch08-regex.ipynb:    \\\\\\\"The `sed` command has the basic syntax sed `\\\\\\\\\\\\\\\"s///\\\\\\\\\\\\\\\"` . Sed combines grep with a substitution command.\\\\\\\\n\\\\\\\",\\\\r\\\\n\\\",\\r\\n\",\n",
      "ch08-regex.ipynb:      \"ch08-regex.ipynb:    \\\"! grep \\\\\\\" sed \\\\\\\" *.ipynb # The blank before and after assures looking for the exact word sed\\\"\\r\\n\"\n",
      "ch08-regex.ipynb:    \"!grep \\\" grep \\\" *.ipynb # The blank before and after assures looking for the exact word grep\"\n",
      "ch08-regex.ipynb:    \"! grep \\\"\\\\(20[01][0-9]\\\\).*\\\\([0-9][0-9]\\\\).*\\\\([0-9][0-9]\\\\)\\\" dates.dat\"\n",
      "ch15-local-version-control.ipynb:      \"   grep       Print lines matching a pattern\\r\\n\",\n",
      "regexps.ipynb:    \"The `sed` command has the basic syntax sed `\\\"s///\\\"` . Sed combines grep with a substitution command.\\n\",\n",
      "regexps.ipynb:    \"! grep \\\"Hi\\\" DATA/regexp.dat\"\n",
      "regexps.ipynb:    \"! grep \\\"Hello\\\" DATA/regexp.dat\"\n",
      "regexps.ipynb:    \"# grep line that contains a number\\n\",\n",
      "regexps.ipynb:    \"! grep \\\".*[0-9].*\\\" DATA/regexp.dat\"\n",
      "regexps.ipynb:    \"# grep line that starts a number \\n\",\n",
      "regexps.ipynb:    \"! grep \\\"^[0-9].*\\\" DATA/regexp.dat\"\n",
      "regexps.ipynb:    \"# grep the lines that contains the character (.) \\n\",\n",
      "regexps.ipynb:    \"! grep \\\"\\\\.\\\" DATA/phone.txt\"\n",
      "regexps.ipynb:    \"# grep the lines that contains letters\\n\",\n",
      "regexps.ipynb:    \"! grep \\\"[a-z]\\\" DATA/phone.txt\"\n",
      "regexps.ipynb:    \"# grep the lines that starts with letters\\n\",\n",
      "regexps.ipynb:    \"! grep \\\"^[a-z]\\\" DATA/phone.txt\"\n",
      "regexps.ipynb:    \"# grep the lines that ends with letters\\n\",\n",
      "regexps.ipynb:    \"! grep \\\"[a-z]$\\\" DATA/phone.txt\"\n",
      "regexps.ipynb:    \"# grep OldLace color\\n\",\n",
      "regexps.ipynb:    \"# grep the number set 144\\n\",\n"
     ]
    }
   ],
   "source": [
    "!grep \" grep \" *.ipynb # The blank before and after assures looking for the exact word grep"
   ]
  },
  {
   "cell_type": "markdown",
   "metadata": {},
   "source": [
    "#### Finding and Replacing Patterns in Files (`sed`)\n",
    "\n",
    "`sed` is a tool for substitution. It is essentially the same as `grep`, but has one major extension: once a character string is matched, it can be substituted with something else. Thus, `sed` differs from `grep`, but can duplicate `grep` as well.\n",
    "\n",
    "The syntax for sed substitution through a whole file is:\n",
    "\n",
    "```\n",
    "sed \"s/<expression>/<substitution>/g\" <inputfile>\n",
    "```\n",
    "s (before the first slash) indicates “substitution” and the g (following the final slash) indicates substituting “globally”. Without the g, sed will only replace the first instance of the matched pattern in each line."
   ]
  },
  {
   "cell_type": "code",
   "execution_count": 69,
   "metadata": {},
   "outputs": [],
   "source": [
    "! echo \"Introduction to regular expressions\\n\\nTEST\" > fubar3"
   ]
  },
  {
   "cell_type": "code",
   "execution_count": 70,
   "metadata": {},
   "outputs": [
    {
     "name": "stdout",
     "output_type": "stream",
     "text": [
      "Introduction to regular expressions\r\n",
      "\r\n",
      "TEST\r\n"
     ]
    }
   ],
   "source": [
    "!cat fubar3"
   ]
  },
  {
   "cell_type": "code",
   "execution_count": 71,
   "metadata": {},
   "outputs": [
    {
     "name": "stdout",
     "output_type": "stream",
     "text": [
      "Introduction TO regular expressions\r\n",
      "\r\n",
      "TEST\r\n"
     ]
    }
   ],
   "source": [
    "! sed \"s/to/TO/g\" fubar3           # Search for \"to\" and replace it with \"TO\" globally"
   ]
  },
  {
   "cell_type": "code",
   "execution_count": 72,
   "metadata": {},
   "outputs": [
    {
     "name": "stdout",
     "output_type": "stream",
     "text": [
      "Introduction to regular expressions\r\n",
      "\r\n",
      "TEST\r\n"
     ]
    }
   ],
   "source": [
    "!cat fubar3                       # the substitute does not change the file itseld, rather it displays it only on screen"
   ]
  },
  {
   "cell_type": "markdown",
   "metadata": {},
   "source": [
    "`sed` substituion can be made even more efficient if multiple replacement tasks are necessary per file.\n",
    "\n",
    "One way is piping:"
   ]
  },
  {
   "cell_type": "code",
   "execution_count": 73,
   "metadata": {},
   "outputs": [
    {
     "name": "stdout",
     "output_type": "stream",
     "text": [
      "Introduction TO regular expressions\r\n",
      "\r\n",
      "TEST CHANGE\r\n"
     ]
    }
   ],
   "source": [
    "! sed \"s/to/TO/g\" fubar3 | sed \"s/TEST/TEST\\ CHANGE/g\""
   ]
  },
  {
   "cell_type": "markdown",
   "metadata": {},
   "source": [
    "Or using -e flag:"
   ]
  },
  {
   "cell_type": "code",
   "execution_count": 74,
   "metadata": {},
   "outputs": [
    {
     "name": "stdout",
     "output_type": "stream",
     "text": [
      "Introduction TO regular expressions\r\n",
      "\r\n",
      "TEST CHANGE\r\n"
     ]
    }
   ],
   "source": [
    "! sed -e \"s/to/TO/g\" -e \"s/TEST/TEST\\ CHANGE/g\" fubar3"
   ]
  },
  {
   "cell_type": "code",
   "execution_count": 75,
   "metadata": {},
   "outputs": [
    {
     "name": "stdout",
     "output_type": "stream",
     "text": [
      "Introduction TO regular expressions\r\n",
      "\r\n",
      "TEST CHANGE\r\n"
     ]
    }
   ],
   "source": [
    "# You can save the output to a file\n",
    "! sed -e \"s/to/TO/g\" -e \"s/TEST/TEST\\ CHANGE/g\" fubar3 > fubar3-v2\n",
    "! cat fubar3-v2"
   ]
  },
  {
   "cell_type": "markdown",
   "metadata": {},
   "source": [
    "### Finding and Replacing a Complex Pattern\n",
    "\n",
    "Since, sometimes, you’ll need to reuse part of the pattern you matched, `sed` has syntax to hold the match in memory. It uses parentheses. Specifically, the following syntax matches x and remembers the match:\n",
    "\n",
    "```\n",
    "\\(x\\)\n",
    "```\n",
    "\n",
    "The file \"dates.dat\" contains dates with different patterns:"
   ]
  },
  {
   "cell_type": "code",
   "execution_count": 76,
   "metadata": {},
   "outputs": [
    {
     "name": "stdout",
     "output_type": "stream",
     "text": [
      "2014-05-01\r\n",
      "2014-09-10\r\n",
      "2015-10-30\r\n",
      "2014.06.24\r\n",
      "2014/09/23\r\n",
      "2010/12/29\r\n",
      "2009/10/05\r\n"
     ]
    }
   ],
   "source": [
    "! cat DATA/dates.dat"
   ]
  },
  {
   "cell_type": "code",
   "execution_count": 77,
   "metadata": {},
   "outputs": [
    {
     "name": "stdout",
     "output_type": "stream",
     "text": [
      "2014-05-01\r\n",
      "2014-09-10\r\n",
      "2015-10-30\r\n",
      "2014.06.24\r\n",
      "2014/09/23\r\n",
      "2010/12/29\r\n",
      "2009/10/05\r\n"
     ]
    }
   ],
   "source": [
    "! grep \"\\(20[01][0-9]\\).*\\([0-9][0-9]\\).*\\([0-9][0-9]\\)\" DATA/dates.dat"
   ]
  },
  {
   "cell_type": "code",
   "execution_count": 78,
   "metadata": {},
   "outputs": [
    {
     "name": "stdout",
     "output_type": "stream",
     "text": [
      "2014-05-01\r\n",
      "2014-09-10\r\n",
      "2015-10-30\r\n",
      "2014-06-24\r\n",
      "2014-09-23\r\n",
      "2010-12-29\r\n",
      "2009-10-05\r\n"
     ]
    }
   ],
   "source": [
    "# We want to grap only the year.\n",
    "# First we have to match all the dates with\n",
    "! sed \"s/\\(20[01][0-9]\\).*\\([0-9][0-9]\\).*\\([0-9][0-9]\\)/\\1-\\2-\\3/g\" DATA/dates.dat"
   ]
  },
  {
   "cell_type": "markdown",
   "metadata": {},
   "source": [
    "### sed Extras\n",
    "With `sed`, we can use the `d` character to delete all blank lines in the file:"
   ]
  },
  {
   "cell_type": "code",
   "execution_count": 79,
   "metadata": {},
   "outputs": [
    {
     "name": "stdout",
     "output_type": "stream",
     "text": [
      "Introduction to regular expressions\r\n",
      "\r\n",
      "TEST\r\n"
     ]
    }
   ],
   "source": [
    "! cat fubar3"
   ]
  },
  {
   "cell_type": "code",
   "execution_count": 80,
   "metadata": {},
   "outputs": [
    {
     "name": "stdout",
     "output_type": "stream",
     "text": [
      "Introduction to regular expressions\r\n",
      "TEST\r\n"
     ]
    }
   ],
   "source": [
    "! sed '/^$/d' fubar3"
   ]
  },
  {
   "cell_type": "markdown",
   "metadata": {},
   "source": [
    "It can also help us automatically double-space the file. We can do this in a brute-force way by deleting blank lines and appending carriage returns (`\\n`) to each line:"
   ]
  },
  {
   "cell_type": "code",
   "execution_count": 81,
   "metadata": {},
   "outputs": [
    {
     "name": "stdout",
     "output_type": "stream",
     "text": [
      "Introduction to regular expressions\n",
      "TEST\n",
      "Introduction to regular expressions\n",
      "\n",
      "TEST\n",
      "\n",
      "Introduction to regular expressions\n",
      "\n",
      "TEST\n",
      "\n"
     ]
    }
   ],
   "source": [
    "! sed -e '/^$/d' -e 's/^\\(.\\+\\)$/\\1\\n/' fubar3\n",
    "! sed -e '/^$/d' -e G fubar3\n",
    "! sed '/^$/d;G' fubar3"
   ]
  },
  {
   "cell_type": "code",
   "execution_count": 85,
   "metadata": {},
   "outputs": [
    {
     "name": "stdout",
     "output_type": "stream",
     "text": [
      "390/234/3128 Tel\n",
      "343-344-2425\n",
      "342.234.4543\n",
      "phone: 442.234.4543\n",
      "\n",
      "(390)234-3128\n",
      "(343)344-2425\n",
      "(342)234-4543\n",
      "(442)234-4543\n"
     ]
    }
   ],
   "source": [
    "! cat DATA/phone.txt\n",
    "! echo \n",
    "! sed 's/.*\\([0-9]\\{3\\}\\).*\\([0-9]\\{3\\}\\).*\\([0-9]\\{4\\}\\).*/(\\1)\\2-\\3/' DATA/phone.txt\n",
    "# Note that the {3} is to grap exactly three numbers"
   ]
  },
  {
   "cell_type": "markdown",
   "metadata": {},
   "source": [
    "\n",
    "You can specify a line number to modify by indicating the line number at the beginning of the command:"
   ]
  },
  {
   "cell_type": "code",
   "execution_count": 86,
   "metadata": {},
   "outputs": [
    {
     "name": "stdout",
     "output_type": "stream",
     "text": [
      "344/234/3128 Tel\r\n",
      "344-344-2425\r\n",
      "342.234.4543\r\n",
      "phone: 442.234.4543\r\n"
     ]
    }
   ],
   "source": [
    "! sed -e '1 s/390/343/' -e '1,2 s/343/344/' DATA/phone.txt"
   ]
  },
  {
   "cell_type": "markdown",
   "metadata": {},
   "source": [
    "You can also select lines to modify by pattern matching:"
   ]
  },
  {
   "cell_type": "code",
   "execution_count": 87,
   "metadata": {},
   "outputs": [
    {
     "name": "stdout",
     "output_type": "stream",
     "text": [
      "390/234/3128 Telzzzzzzzzzz$\n",
      "343-344-2425zzzzzzzzzz$\n",
      "342.234.4543zzzzzzzzzz$\n",
      "phone: 442.234.4543\n",
      "\n",
      "zzzzzzzzzz$390/234/3128 Tel\n",
      "zzzzzzzzzz$343-344-2425\n",
      "zzzzzzzzzz$342.234.4543\n",
      "phone: 442.234.4543\n",
      "\n",
      "zzzzzzzzzz$\n",
      "zzzzzzzzzz$\n",
      "zzzzzzzzzz$\n",
      "phone: 442.234.4543\n"
     ]
    }
   ],
   "source": [
    "! sed '/^3/ s/$/zzzzzzzzzz$/' DATA/phone.txt # Add to the end of selected line\n",
    "! echo\n",
    "! sed '/^3/ s/^/zzzzzzzzzz$/' DATA/phone.txt # Add to the beginning of selected line\n",
    "! echo\n",
    "! sed '/^3/ s/^.*/zzzzzzzzzz$/' DATA/phone.txt  # Replace line"
   ]
  },
  {
   "cell_type": "markdown",
   "metadata": {},
   "source": [
    "### Manipulating Columns of Data (awk)\n",
    "\n",
    "A lot of data in physics begins in a simple format: columns of numbers in plain-text documents. Fortunately for us, a command-line tool called `awk` was invented long ago to quickly and efficiently sort, modify, and evaluate such files. This tool, a sibling to sed and grep, uses regular expressions to get the job done.\n",
    "\n",
    "As an introductory example, we can investigate the files in the filesystem. On a Linux platform, a list of colors available to the system is found in the /usr/share/X11 directory. On a Unix (Mac OS X) platform, it is made available in /usr/X11/share/X11."
   ]
  },
  {
   "cell_type": "code",
   "execution_count": 88,
   "metadata": {},
   "outputs": [
    {
     "name": "stdout",
     "output_type": "stream",
     "text": [
      "255 250 250\t\tsnow\r\n",
      "248 248 255\t\tghost white\r\n",
      "248 248 255\t\tGhostWhite\r\n",
      "245 245 245\t\twhite smoke\r\n",
      "245 245 245\t\tWhiteSmoke\r\n",
      "220 220 220\t\tgainsboro\r\n",
      "255 250 240\t\tfloral white\r\n",
      "255 250 240\t\tFloralWhite\r\n",
      "253 245 230\t\told lace\r\n",
      "253 245 230\t\tOldLace\r\n",
      "250 240 230\t\tlinen\r\n",
      "250 235 215\t\tantique white\r\n",
      "250 235 215\t\tAntiqueWhite\r\n",
      "255 239 213\t\tpapaya whip\r\n",
      "255 239 213\t\tPapayaWhip\r\n",
      "255 235 205\t\tblanched almond\r\n",
      "255 235 205\t\tBlanchedAlmond\r\n",
      "255 228 196\t\tbisque\r\n",
      "255 218 185\t\tpeach puff\r\n",
      "255 218 185\t\tPeachPuff\r\n",
      "255 222 173\t\tnavajo white\r\n",
      "255 222 173\t\tNavajoWhite\r\n",
      "255 228 181\t\tmoccasin\r\n",
      "255 248 220\t\tcornsilk\r\n",
      "255 255 240\t\tivory\r\n",
      "255 250 205\t\tlemon chiffon\r\n",
      "255 250 205\t\tLemonChiffon\r\n",
      "255 245 238\t\tseashell\r\n",
      "240 255 240\t\thoneydew\r\n",
      "245 255 250\t\tmint cream\r\n",
      "245 255 250\t\tMintCream\r\n",
      "240 255 255\t\tazure\r\n",
      "240 248 255\t\talice blue\r\n",
      "240 248 255\t\tAliceBlue\r\n",
      "230 230 250\t\tlavender\r\n",
      "255 240 245\t\tlavender blush\r\n",
      "255 240 245\t\tLavenderBlush\r\n",
      "255 228 225\t\tmisty rose\r\n",
      "255 228 225\t\tMistyRose\r\n",
      "255 255 255\t\twhite\r\n",
      "  0   0   0\t\tblack\r\n",
      " 47  79  79\t\tdark slate gray\r\n",
      " 47  79  79\t\tDarkSlateGray\r\n",
      " 47  79  79\t\tdark slate grey\r\n",
      " 47  79  79\t\tDarkSlateGrey\r\n",
      "105 105 105\t\tdim gray\r\n",
      "105 105 105\t\tDimGray\r\n",
      "105 105 105\t\tdim grey\r\n",
      "105 105 105\t\tDimGrey\r\n",
      "112 128 144\t\tslate gray\r\n",
      "112 128 144\t\tSlateGray\r\n",
      "112 128 144\t\tslate grey\r\n",
      "112 128 144\t\tSlateGrey\r\n",
      "119 136 153\t\tlight slate gray\r\n",
      "119 136 153\t\tLightSlateGray\r\n",
      "119 136 153\t\tlight slate grey\r\n",
      "119 136 153\t\tLightSlateGrey\r\n",
      "190 190 190\t\tgray\r\n",
      "190 190 190\t\tgrey\r\n",
      "190 190 190\t\tx11 gray\r\n",
      "190 190 190\t\tX11Gray\r\n",
      "190 190 190\t\tx11 grey\r\n",
      "190 190 190\t\tX11Grey\r\n",
      "128 128 128\t\tweb gray\r\n",
      "128 128 128\t\tWebGray\r\n",
      "128 128 128\t\tweb grey\r\n",
      "128 128 128\t\tWebGrey\r\n",
      "211 211 211\t\tlight grey\r\n",
      "211 211 211\t\tLightGrey\r\n",
      "211 211 211\t\tlight gray\r\n",
      "211 211 211\t\tLightGray\r\n",
      " 25  25 112\t\tmidnight blue\r\n",
      " 25  25 112\t\tMidnightBlue\r\n",
      "  0   0 128\t\tnavy\r\n",
      "  0   0 128\t\tnavy blue\r\n",
      "  0   0 128\t\tNavyBlue\r\n",
      "100 149 237\t\tcornflower blue\r\n",
      "100 149 237\t\tCornflowerBlue\r\n",
      " 72  61 139\t\tdark slate blue\r\n",
      " 72  61 139\t\tDarkSlateBlue\r\n",
      "106  90 205\t\tslate blue\r\n",
      "106  90 205\t\tSlateBlue\r\n",
      "123 104 238\t\tmedium slate blue\r\n",
      "123 104 238\t\tMediumSlateBlue\r\n",
      "132 112 255\t\tlight slate blue\r\n",
      "132 112 255\t\tLightSlateBlue\r\n",
      "  0   0 205\t\tmedium blue\r\n",
      "  0   0 205\t\tMediumBlue\r\n",
      " 65 105 225\t\troyal blue\r\n",
      " 65 105 225\t\tRoyalBlue\r\n",
      "  0   0 255\t\tblue\r\n",
      " 30 144 255\t\tdodger blue\r\n",
      " 30 144 255\t\tDodgerBlue\r\n",
      "  0 191 255\t\tdeep sky blue\r\n",
      "  0 191 255\t\tDeepSkyBlue\r\n",
      "135 206 235\t\tsky blue\r\n",
      "135 206 235\t\tSkyBlue\r\n",
      "135 206 250\t\tlight sky blue\r\n",
      "135 206 250\t\tLightSkyBlue\r\n",
      " 70 130 180\t\tsteel blue\r\n",
      " 70 130 180\t\tSteelBlue\r\n",
      "176 196 222\t\tlight steel blue\r\n",
      "176 196 222\t\tLightSteelBlue\r\n",
      "173 216 230\t\tlight blue\r\n",
      "173 216 230\t\tLightBlue\r\n",
      "176 224 230\t\tpowder blue\r\n",
      "176 224 230\t\tPowderBlue\r\n",
      "175 238 238\t\tpale turquoise\r\n",
      "175 238 238\t\tPaleTurquoise\r\n",
      "  0 206 209\t\tdark turquoise\r\n",
      "  0 206 209\t\tDarkTurquoise\r\n",
      " 72 209 204\t\tmedium turquoise\r\n",
      " 72 209 204\t\tMediumTurquoise\r\n",
      " 64 224 208\t\tturquoise\r\n",
      "  0 255 255\t\tcyan\r\n",
      "  0 255 255\t\taqua\r\n",
      "224 255 255\t\tlight cyan\r\n",
      "224 255 255\t\tLightCyan\r\n",
      " 95 158 160\t\tcadet blue\r\n",
      " 95 158 160\t\tCadetBlue\r\n",
      "102 205 170\t\tmedium aquamarine\r\n",
      "102 205 170\t\tMediumAquamarine\r\n",
      "127 255 212\t\taquamarine\r\n",
      "  0 100   0\t\tdark green\r\n",
      "  0 100   0\t\tDarkGreen\r\n",
      " 85 107  47\t\tdark olive green\r\n",
      " 85 107  47\t\tDarkOliveGreen\r\n",
      "143 188 143\t\tdark sea green\r\n",
      "143 188 143\t\tDarkSeaGreen\r\n",
      " 46 139  87\t\tsea green\r\n",
      " 46 139  87\t\tSeaGreen\r\n",
      " 60 179 113\t\tmedium sea green\r\n",
      " 60 179 113\t\tMediumSeaGreen\r\n",
      " 32 178 170\t\tlight sea green\r\n",
      " 32 178 170\t\tLightSeaGreen\r\n",
      "152 251 152\t\tpale green\r\n",
      "152 251 152\t\tPaleGreen\r\n",
      "  0 255 127\t\tspring green\r\n",
      "  0 255 127\t\tSpringGreen\r\n",
      "124 252   0\t\tlawn green\r\n",
      "124 252   0\t\tLawnGreen\r\n",
      "  0 255   0\t\tgreen\r\n",
      "  0 255   0\t\tlime\r\n",
      "  0 255   0\t\tx11 green\r\n",
      "  0 255   0\t\tX11Green\r\n",
      "  0 128   0\t\tweb green\r\n",
      "  0 128   0\t\tWebGreen\r\n",
      "127 255   0\t\tchartreuse\r\n",
      "  0 250 154\t\tmedium spring green\r\n",
      "  0 250 154\t\tMediumSpringGreen\r\n",
      "173 255  47\t\tgreen yellow\r\n",
      "173 255  47\t\tGreenYellow\r\n",
      " 50 205  50\t\tlime green\r\n",
      " 50 205  50\t\tLimeGreen\r\n",
      "154 205  50\t\tyellow green\r\n",
      "154 205  50\t\tYellowGreen\r\n",
      " 34 139  34\t\tforest green\r\n",
      " 34 139  34\t\tForestGreen\r\n",
      "107 142  35\t\tolive drab\r\n",
      "107 142  35\t\tOliveDrab\r\n",
      "189 183 107\t\tdark khaki\r\n",
      "189 183 107\t\tDarkKhaki\r\n",
      "240 230 140\t\tkhaki\r\n",
      "238 232 170\t\tpale goldenrod\r\n",
      "238 232 170\t\tPaleGoldenrod\r\n",
      "250 250 210\t\tlight goldenrod yellow\r\n",
      "250 250 210\t\tLightGoldenrodYellow\r\n",
      "255 255 224\t\tlight yellow\r\n",
      "255 255 224\t\tLightYellow\r\n",
      "255 255   0\t\tyellow\r\n",
      "255 215   0 \t\tgold\r\n",
      "238 221 130\t\tlight goldenrod\r\n",
      "238 221 130\t\tLightGoldenrod\r\n",
      "218 165  32\t\tgoldenrod\r\n",
      "184 134  11\t\tdark goldenrod\r\n",
      "184 134  11\t\tDarkGoldenrod\r\n",
      "188 143 143\t\trosy brown\r\n",
      "188 143 143\t\tRosyBrown\r\n",
      "205  92  92\t\tindian red\r\n",
      "205  92  92\t\tIndianRed\r\n",
      "139  69  19\t\tsaddle brown\r\n",
      "139  69  19\t\tSaddleBrown\r\n",
      "160  82  45\t\tsienna\r\n",
      "205 133  63\t\tperu\r\n",
      "222 184 135\t\tburlywood\r\n",
      "245 245 220\t\tbeige\r\n",
      "245 222 179\t\twheat\r\n",
      "244 164  96\t\tsandy brown\r\n",
      "244 164  96\t\tSandyBrown\r\n",
      "210 180 140\t\ttan\r\n",
      "210 105  30\t\tchocolate\r\n",
      "178  34  34\t\tfirebrick\r\n",
      "165  42  42\t\tbrown\r\n",
      "233 150 122\t\tdark salmon\r\n",
      "233 150 122\t\tDarkSalmon\r\n",
      "250 128 114\t\tsalmon\r\n",
      "255 160 122\t\tlight salmon\r\n",
      "255 160 122\t\tLightSalmon\r\n",
      "255 165   0\t\torange\r\n",
      "255 140   0\t\tdark orange\r\n",
      "255 140   0\t\tDarkOrange\r\n",
      "255 127  80\t\tcoral\r\n",
      "240 128 128\t\tlight coral\r\n",
      "240 128 128\t\tLightCoral\r\n",
      "255  99  71\t\ttomato\r\n",
      "255  69   0\t\torange red\r\n",
      "255  69   0\t\tOrangeRed\r\n",
      "255   0   0\t\tred\r\n",
      "255 105 180\t\thot pink\r\n",
      "255 105 180\t\tHotPink\r\n",
      "255  20 147\t\tdeep pink\r\n",
      "255  20 147\t\tDeepPink\r\n",
      "255 192 203\t\tpink\r\n",
      "255 182 193\t\tlight pink\r\n",
      "255 182 193\t\tLightPink\r\n",
      "219 112 147\t\tpale violet red\r\n",
      "219 112 147\t\tPaleVioletRed\r\n",
      "176  48  96\t\tmaroon\r\n",
      "176  48  96\t\tx11 maroon\r\n",
      "176  48  96\t\tX11Maroon\r\n",
      "128   0   0\t\tweb maroon\r\n",
      "128   0   0\t\tWebMaroon\r\n",
      "199  21 133\t\tmedium violet red\r\n",
      "199  21 133\t\tMediumVioletRed\r\n",
      "208  32 144\t\tviolet red\r\n",
      "208  32 144\t\tVioletRed\r\n",
      "255   0 255\t\tmagenta\r\n",
      "255   0 255\t\tfuchsia\r\n",
      "238 130 238\t\tviolet\r\n",
      "221 160 221\t\tplum\r\n",
      "218 112 214\t\torchid\r\n",
      "186  85 211\t\tmedium orchid\r\n",
      "186  85 211\t\tMediumOrchid\r\n",
      "153  50 204\t\tdark orchid\r\n",
      "153  50 204\t\tDarkOrchid\r\n",
      "148   0 211\t\tdark violet\r\n",
      "148   0 211\t\tDarkViolet\r\n",
      "138  43 226\t\tblue violet\r\n",
      "138  43 226\t\tBlueViolet\r\n",
      "160  32 240\t\tpurple\r\n",
      "160  32 240\t\tx11 purple\r\n",
      "160  32 240\t\tX11Purple\r\n",
      "128   0 128\t\tweb purple\r\n",
      "128   0 128\t\tWebPurple\r\n",
      "147 112 219\t\tmedium purple\r\n",
      "147 112 219\t\tMediumPurple\r\n",
      "216 191 216\t\tthistle\r\n",
      "255 250 250\t\tsnow1\r\n",
      "238 233 233\t\tsnow2\r\n",
      "205 201 201\t\tsnow3\r\n",
      "139 137 137\t\tsnow4\r\n",
      "255 245 238\t\tseashell1\r\n",
      "238 229 222\t\tseashell2\r\n",
      "205 197 191\t\tseashell3\r\n",
      "139 134 130\t\tseashell4\r\n",
      "255 239 219\t\tAntiqueWhite1\r\n",
      "238 223 204\t\tAntiqueWhite2\r\n",
      "205 192 176\t\tAntiqueWhite3\r\n",
      "139 131 120\t\tAntiqueWhite4\r\n",
      "255 228 196\t\tbisque1\r\n",
      "238 213 183\t\tbisque2\r\n",
      "205 183 158\t\tbisque3\r\n",
      "139 125 107\t\tbisque4\r\n",
      "255 218 185\t\tPeachPuff1\r\n",
      "238 203 173\t\tPeachPuff2\r\n",
      "205 175 149\t\tPeachPuff3\r\n",
      "139 119 101\t\tPeachPuff4\r\n",
      "255 222 173\t\tNavajoWhite1\r\n",
      "238 207 161\t\tNavajoWhite2\r\n",
      "205 179 139\t\tNavajoWhite3\r\n",
      "139 121\t 94\t\tNavajoWhite4\r\n",
      "255 250 205\t\tLemonChiffon1\r\n",
      "238 233 191\t\tLemonChiffon2\r\n",
      "205 201 165\t\tLemonChiffon3\r\n",
      "139 137 112\t\tLemonChiffon4\r\n",
      "255 248 220\t\tcornsilk1\r\n",
      "238 232 205\t\tcornsilk2\r\n",
      "205 200 177\t\tcornsilk3\r\n",
      "139 136 120\t\tcornsilk4\r\n",
      "255 255 240\t\tivory1\r\n",
      "238 238 224\t\tivory2\r\n",
      "205 205 193\t\tivory3\r\n",
      "139 139 131\t\tivory4\r\n",
      "240 255 240\t\thoneydew1\r\n",
      "224 238 224\t\thoneydew2\r\n",
      "193 205 193\t\thoneydew3\r\n",
      "131 139 131\t\thoneydew4\r\n",
      "255 240 245\t\tLavenderBlush1\r\n",
      "238 224 229\t\tLavenderBlush2\r\n",
      "205 193 197\t\tLavenderBlush3\r\n",
      "139 131 134\t\tLavenderBlush4\r\n",
      "255 228 225\t\tMistyRose1\r\n",
      "238 213 210\t\tMistyRose2\r\n",
      "205 183 181\t\tMistyRose3\r\n",
      "139 125 123\t\tMistyRose4\r\n",
      "240 255 255\t\tazure1\r\n",
      "224 238 238\t\tazure2\r\n",
      "193 205 205\t\tazure3\r\n",
      "131 139 139\t\tazure4\r\n",
      "131 111 255\t\tSlateBlue1\r\n",
      "122 103 238\t\tSlateBlue2\r\n",
      "105  89 205\t\tSlateBlue3\r\n",
      " 71  60 139\t\tSlateBlue4\r\n",
      " 72 118 255\t\tRoyalBlue1\r\n",
      " 67 110 238\t\tRoyalBlue2\r\n",
      " 58  95 205\t\tRoyalBlue3\r\n",
      " 39  64 139\t\tRoyalBlue4\r\n",
      "  0   0 255\t\tblue1\r\n",
      "  0   0 238\t\tblue2\r\n",
      "  0   0 205\t\tblue3\r\n",
      "  0   0 139\t\tblue4\r\n",
      " 30 144 255\t\tDodgerBlue1\r\n",
      " 28 134 238\t\tDodgerBlue2\r\n",
      " 24 116 205\t\tDodgerBlue3\r\n",
      " 16  78 139\t\tDodgerBlue4\r\n",
      " 99 184 255\t\tSteelBlue1\r\n",
      " 92 172 238\t\tSteelBlue2\r\n",
      " 79 148 205\t\tSteelBlue3\r\n",
      " 54 100 139\t\tSteelBlue4\r\n",
      "  0 191 255\t\tDeepSkyBlue1\r\n",
      "  0 178 238\t\tDeepSkyBlue2\r\n",
      "  0 154 205\t\tDeepSkyBlue3\r\n",
      "  0 104 139\t\tDeepSkyBlue4\r\n",
      "135 206 255\t\tSkyBlue1\r\n",
      "126 192 238\t\tSkyBlue2\r\n",
      "108 166 205\t\tSkyBlue3\r\n",
      " 74 112 139\t\tSkyBlue4\r\n",
      "176 226 255\t\tLightSkyBlue1\r\n",
      "164 211 238\t\tLightSkyBlue2\r\n",
      "141 182 205\t\tLightSkyBlue3\r\n",
      " 96 123 139\t\tLightSkyBlue4\r\n",
      "198 226 255\t\tSlateGray1\r\n",
      "185 211 238\t\tSlateGray2\r\n",
      "159 182 205\t\tSlateGray3\r\n",
      "108 123 139\t\tSlateGray4\r\n",
      "202 225 255\t\tLightSteelBlue1\r\n",
      "188 210 238\t\tLightSteelBlue2\r\n",
      "162 181 205\t\tLightSteelBlue3\r\n",
      "110 123 139\t\tLightSteelBlue4\r\n",
      "191 239 255\t\tLightBlue1\r\n",
      "178 223 238\t\tLightBlue2\r\n",
      "154 192 205\t\tLightBlue3\r\n",
      "104 131 139\t\tLightBlue4\r\n",
      "224 255 255\t\tLightCyan1\r\n",
      "209 238 238\t\tLightCyan2\r\n",
      "180 205 205\t\tLightCyan3\r\n",
      "122 139 139\t\tLightCyan4\r\n",
      "187 255 255\t\tPaleTurquoise1\r\n",
      "174 238 238\t\tPaleTurquoise2\r\n",
      "150 205 205\t\tPaleTurquoise3\r\n",
      "102 139 139\t\tPaleTurquoise4\r\n",
      "152 245 255\t\tCadetBlue1\r\n",
      "142 229 238\t\tCadetBlue2\r\n",
      "122 197 205\t\tCadetBlue3\r\n",
      " 83 134 139\t\tCadetBlue4\r\n",
      "  0 245 255\t\tturquoise1\r\n",
      "  0 229 238\t\tturquoise2\r\n",
      "  0 197 205\t\tturquoise3\r\n",
      "  0 134 139\t\tturquoise4\r\n",
      "  0 255 255\t\tcyan1\r\n",
      "  0 238 238\t\tcyan2\r\n",
      "  0 205 205\t\tcyan3\r\n",
      "  0 139 139\t\tcyan4\r\n",
      "151 255 255\t\tDarkSlateGray1\r\n",
      "141 238 238\t\tDarkSlateGray2\r\n",
      "121 205 205\t\tDarkSlateGray3\r\n",
      " 82 139 139\t\tDarkSlateGray4\r\n",
      "127 255 212\t\taquamarine1\r\n",
      "118 238 198\t\taquamarine2\r\n",
      "102 205 170\t\taquamarine3\r\n",
      " 69 139 116\t\taquamarine4\r\n",
      "193 255 193\t\tDarkSeaGreen1\r\n",
      "180 238 180\t\tDarkSeaGreen2\r\n",
      "155 205 155\t\tDarkSeaGreen3\r\n",
      "105 139 105\t\tDarkSeaGreen4\r\n",
      " 84 255 159\t\tSeaGreen1\r\n",
      " 78 238 148\t\tSeaGreen2\r\n",
      " 67 205 128\t\tSeaGreen3\r\n",
      " 46 139\t 87\t\tSeaGreen4\r\n",
      "154 255 154\t\tPaleGreen1\r\n",
      "144 238 144\t\tPaleGreen2\r\n",
      "124 205 124\t\tPaleGreen3\r\n",
      " 84 139\t 84\t\tPaleGreen4\r\n",
      "  0 255 127\t\tSpringGreen1\r\n",
      "  0 238 118\t\tSpringGreen2\r\n",
      "  0 205 102\t\tSpringGreen3\r\n",
      "  0 139\t 69\t\tSpringGreen4\r\n",
      "  0 255\t  0\t\tgreen1\r\n",
      "  0 238\t  0\t\tgreen2\r\n",
      "  0 205\t  0\t\tgreen3\r\n",
      "  0 139\t  0\t\tgreen4\r\n",
      "127 255\t  0\t\tchartreuse1\r\n",
      "118 238\t  0\t\tchartreuse2\r\n",
      "102 205\t  0\t\tchartreuse3\r\n",
      " 69 139\t  0\t\tchartreuse4\r\n",
      "192 255\t 62\t\tOliveDrab1\r\n",
      "179 238\t 58\t\tOliveDrab2\r\n",
      "154 205\t 50\t\tOliveDrab3\r\n",
      "105 139\t 34\t\tOliveDrab4\r\n",
      "202 255 112\t\tDarkOliveGreen1\r\n",
      "188 238 104\t\tDarkOliveGreen2\r\n",
      "162 205\t 90\t\tDarkOliveGreen3\r\n",
      "110 139\t 61\t\tDarkOliveGreen4\r\n",
      "255 246 143\t\tkhaki1\r\n",
      "238 230 133\t\tkhaki2\r\n",
      "205 198 115\t\tkhaki3\r\n",
      "139 134\t 78\t\tkhaki4\r\n",
      "255 236 139\t\tLightGoldenrod1\r\n",
      "238 220 130\t\tLightGoldenrod2\r\n",
      "205 190 112\t\tLightGoldenrod3\r\n",
      "139 129\t 76\t\tLightGoldenrod4\r\n",
      "255 255 224\t\tLightYellow1\r\n",
      "238 238 209\t\tLightYellow2\r\n",
      "205 205 180\t\tLightYellow3\r\n",
      "139 139 122\t\tLightYellow4\r\n",
      "255 255\t  0\t\tyellow1\r\n",
      "238 238\t  0\t\tyellow2\r\n",
      "205 205\t  0\t\tyellow3\r\n",
      "139 139\t  0\t\tyellow4\r\n",
      "255 215\t  0\t\tgold1\r\n",
      "238 201\t  0\t\tgold2\r\n",
      "205 173\t  0\t\tgold3\r\n",
      "139 117\t  0\t\tgold4\r\n",
      "255 193\t 37\t\tgoldenrod1\r\n",
      "238 180\t 34\t\tgoldenrod2\r\n",
      "205 155\t 29\t\tgoldenrod3\r\n",
      "139 105\t 20\t\tgoldenrod4\r\n",
      "255 185\t 15\t\tDarkGoldenrod1\r\n",
      "238 173\t 14\t\tDarkGoldenrod2\r\n",
      "205 149\t 12\t\tDarkGoldenrod3\r\n",
      "139 101\t  8\t\tDarkGoldenrod4\r\n",
      "255 193 193\t\tRosyBrown1\r\n",
      "238 180 180\t\tRosyBrown2\r\n",
      "205 155 155\t\tRosyBrown3\r\n",
      "139 105 105\t\tRosyBrown4\r\n",
      "255 106 106\t\tIndianRed1\r\n",
      "238  99\t 99\t\tIndianRed2\r\n",
      "205  85\t 85\t\tIndianRed3\r\n",
      "139  58\t 58\t\tIndianRed4\r\n",
      "255 130\t 71\t\tsienna1\r\n",
      "238 121\t 66\t\tsienna2\r\n",
      "205 104\t 57\t\tsienna3\r\n",
      "139  71\t 38\t\tsienna4\r\n",
      "255 211 155\t\tburlywood1\r\n",
      "238 197 145\t\tburlywood2\r\n",
      "205 170 125\t\tburlywood3\r\n",
      "139 115\t 85\t\tburlywood4\r\n",
      "255 231 186\t\twheat1\r\n",
      "238 216 174\t\twheat2\r\n",
      "205 186 150\t\twheat3\r\n",
      "139 126 102\t\twheat4\r\n",
      "255 165\t 79\t\ttan1\r\n",
      "238 154\t 73\t\ttan2\r\n",
      "205 133\t 63\t\ttan3\r\n",
      "139  90\t 43\t\ttan4\r\n",
      "255 127\t 36\t\tchocolate1\r\n",
      "238 118\t 33\t\tchocolate2\r\n",
      "205 102\t 29\t\tchocolate3\r\n",
      "139  69\t 19\t\tchocolate4\r\n",
      "255  48\t 48\t\tfirebrick1\r\n",
      "238  44\t 44\t\tfirebrick2\r\n",
      "205  38\t 38\t\tfirebrick3\r\n",
      "139  26\t 26\t\tfirebrick4\r\n",
      "255  64\t 64\t\tbrown1\r\n",
      "238  59\t 59\t\tbrown2\r\n",
      "205  51\t 51\t\tbrown3\r\n",
      "139  35\t 35\t\tbrown4\r\n",
      "255 140 105\t\tsalmon1\r\n",
      "238 130\t 98\t\tsalmon2\r\n",
      "205 112\t 84\t\tsalmon3\r\n",
      "139  76\t 57\t\tsalmon4\r\n",
      "255 160 122\t\tLightSalmon1\r\n",
      "238 149 114\t\tLightSalmon2\r\n",
      "205 129\t 98\t\tLightSalmon3\r\n",
      "139  87\t 66\t\tLightSalmon4\r\n",
      "255 165\t  0\t\torange1\r\n",
      "238 154\t  0\t\torange2\r\n",
      "205 133\t  0\t\torange3\r\n",
      "139  90\t  0\t\torange4\r\n",
      "255 127\t  0\t\tDarkOrange1\r\n",
      "238 118\t  0\t\tDarkOrange2\r\n",
      "205 102\t  0\t\tDarkOrange3\r\n",
      "139  69\t  0\t\tDarkOrange4\r\n",
      "255 114\t 86\t\tcoral1\r\n",
      "238 106\t 80\t\tcoral2\r\n",
      "205  91\t 69\t\tcoral3\r\n",
      "139  62\t 47\t\tcoral4\r\n",
      "255  99\t 71\t\ttomato1\r\n",
      "238  92\t 66\t\ttomato2\r\n",
      "205  79\t 57\t\ttomato3\r\n",
      "139  54\t 38\t\ttomato4\r\n",
      "255  69\t  0\t\tOrangeRed1\r\n",
      "238  64\t  0\t\tOrangeRed2\r\n",
      "205  55\t  0\t\tOrangeRed3\r\n",
      "139  37\t  0\t\tOrangeRed4\r\n",
      "255   0\t  0\t\tred1\r\n",
      "238   0\t  0\t\tred2\r\n",
      "205   0\t  0\t\tred3\r\n",
      "139   0\t  0\t\tred4\r\n",
      "255  20 147\t\tDeepPink1\r\n",
      "238  18 137\t\tDeepPink2\r\n",
      "205  16 118\t\tDeepPink3\r\n",
      "139  10\t 80\t\tDeepPink4\r\n",
      "255 110 180\t\tHotPink1\r\n",
      "238 106 167\t\tHotPink2\r\n",
      "205  96 144\t\tHotPink3\r\n",
      "139  58  98\t\tHotPink4\r\n",
      "255 181 197\t\tpink1\r\n",
      "238 169 184\t\tpink2\r\n",
      "205 145 158\t\tpink3\r\n",
      "139  99 108\t\tpink4\r\n",
      "255 174 185\t\tLightPink1\r\n",
      "238 162 173\t\tLightPink2\r\n",
      "205 140 149\t\tLightPink3\r\n",
      "139  95 101\t\tLightPink4\r\n",
      "255 130 171\t\tPaleVioletRed1\r\n",
      "238 121 159\t\tPaleVioletRed2\r\n",
      "205 104 137\t\tPaleVioletRed3\r\n",
      "139  71\t 93\t\tPaleVioletRed4\r\n",
      "255  52 179\t\tmaroon1\r\n",
      "238  48 167\t\tmaroon2\r\n",
      "205  41 144\t\tmaroon3\r\n",
      "139  28\t 98\t\tmaroon4\r\n",
      "255  62 150\t\tVioletRed1\r\n",
      "238  58 140\t\tVioletRed2\r\n",
      "205  50 120\t\tVioletRed3\r\n",
      "139  34\t 82\t\tVioletRed4\r\n",
      "255   0 255\t\tmagenta1\r\n",
      "238   0 238\t\tmagenta2\r\n",
      "205   0 205\t\tmagenta3\r\n",
      "139   0 139\t\tmagenta4\r\n",
      "255 131 250\t\torchid1\r\n",
      "238 122 233\t\torchid2\r\n",
      "205 105 201\t\torchid3\r\n",
      "139  71 137\t\torchid4\r\n",
      "255 187 255\t\tplum1\r\n",
      "238 174 238\t\tplum2\r\n",
      "205 150 205\t\tplum3\r\n",
      "139 102 139\t\tplum4\r\n",
      "224 102 255\t\tMediumOrchid1\r\n",
      "209  95 238\t\tMediumOrchid2\r\n",
      "180  82 205\t\tMediumOrchid3\r\n",
      "122  55 139\t\tMediumOrchid4\r\n",
      "191  62 255\t\tDarkOrchid1\r\n",
      "178  58 238\t\tDarkOrchid2\r\n",
      "154  50 205\t\tDarkOrchid3\r\n",
      "104  34 139\t\tDarkOrchid4\r\n",
      "155  48 255\t\tpurple1\r\n",
      "145  44 238\t\tpurple2\r\n",
      "125  38 205\t\tpurple3\r\n",
      " 85  26 139\t\tpurple4\r\n",
      "171 130 255\t\tMediumPurple1\r\n",
      "159 121 238\t\tMediumPurple2\r\n",
      "137 104 205\t\tMediumPurple3\r\n",
      " 93  71 139\t\tMediumPurple4\r\n",
      "255 225 255\t\tthistle1\r\n",
      "238 210 238\t\tthistle2\r\n",
      "205 181 205\t\tthistle3\r\n",
      "139 123 139\t\tthistle4\r\n",
      "  0   0   0\t\tgray0\r\n",
      "  0   0   0\t\tgrey0\r\n",
      "  3   3   3\t\tgray1\r\n",
      "  3   3   3\t\tgrey1\r\n",
      "  5   5   5\t\tgray2\r\n",
      "  5   5   5\t\tgrey2\r\n",
      "  8   8   8\t\tgray3\r\n",
      "  8   8   8\t\tgrey3\r\n",
      " 10  10  10 \t\tgray4\r\n",
      " 10  10  10 \t\tgrey4\r\n",
      " 13  13  13 \t\tgray5\r\n",
      " 13  13  13 \t\tgrey5\r\n",
      " 15  15  15 \t\tgray6\r\n",
      " 15  15  15 \t\tgrey6\r\n",
      " 18  18  18 \t\tgray7\r\n",
      " 18  18  18 \t\tgrey7\r\n",
      " 20  20  20 \t\tgray8\r\n",
      " 20  20  20 \t\tgrey8\r\n",
      " 23  23  23 \t\tgray9\r\n",
      " 23  23  23 \t\tgrey9\r\n",
      " 26  26  26 \t\tgray10\r\n",
      " 26  26  26 \t\tgrey10\r\n",
      " 28  28  28 \t\tgray11\r\n",
      " 28  28  28 \t\tgrey11\r\n",
      " 31  31  31 \t\tgray12\r\n",
      " 31  31  31 \t\tgrey12\r\n",
      " 33  33  33 \t\tgray13\r\n",
      " 33  33  33 \t\tgrey13\r\n",
      " 36  36  36 \t\tgray14\r\n",
      " 36  36  36 \t\tgrey14\r\n",
      " 38  38  38 \t\tgray15\r\n",
      " 38  38  38 \t\tgrey15\r\n",
      " 41  41  41 \t\tgray16\r\n",
      " 41  41  41 \t\tgrey16\r\n",
      " 43  43  43 \t\tgray17\r\n",
      " 43  43  43 \t\tgrey17\r\n",
      " 46  46  46 \t\tgray18\r\n",
      " 46  46  46 \t\tgrey18\r\n",
      " 48  48  48 \t\tgray19\r\n",
      " 48  48  48 \t\tgrey19\r\n",
      " 51  51  51 \t\tgray20\r\n",
      " 51  51  51 \t\tgrey20\r\n",
      " 54  54  54 \t\tgray21\r\n",
      " 54  54  54 \t\tgrey21\r\n",
      " 56  56  56 \t\tgray22\r\n",
      " 56  56  56 \t\tgrey22\r\n",
      " 59  59  59 \t\tgray23\r\n",
      " 59  59  59 \t\tgrey23\r\n",
      " 61  61  61 \t\tgray24\r\n",
      " 61  61  61 \t\tgrey24\r\n",
      " 64  64  64 \t\tgray25\r\n",
      " 64  64  64 \t\tgrey25\r\n",
      " 66  66  66 \t\tgray26\r\n",
      " 66  66  66 \t\tgrey26\r\n",
      " 69  69  69 \t\tgray27\r\n",
      " 69  69  69 \t\tgrey27\r\n",
      " 71  71  71 \t\tgray28\r\n",
      " 71  71  71 \t\tgrey28\r\n",
      " 74  74  74 \t\tgray29\r\n",
      " 74  74  74 \t\tgrey29\r\n",
      " 77  77  77 \t\tgray30\r\n",
      " 77  77  77 \t\tgrey30\r\n",
      " 79  79  79 \t\tgray31\r\n",
      " 79  79  79 \t\tgrey31\r\n",
      " 82  82  82 \t\tgray32\r\n",
      " 82  82  82 \t\tgrey32\r\n",
      " 84  84  84 \t\tgray33\r\n",
      " 84  84  84 \t\tgrey33\r\n",
      " 87  87  87 \t\tgray34\r\n",
      " 87  87  87 \t\tgrey34\r\n",
      " 89  89  89 \t\tgray35\r\n",
      " 89  89  89 \t\tgrey35\r\n",
      " 92  92  92 \t\tgray36\r\n",
      " 92  92  92 \t\tgrey36\r\n",
      " 94  94  94 \t\tgray37\r\n",
      " 94  94  94 \t\tgrey37\r\n",
      " 97  97  97 \t\tgray38\r\n",
      " 97  97  97 \t\tgrey38\r\n",
      " 99  99  99 \t\tgray39\r\n",
      " 99  99  99 \t\tgrey39\r\n",
      "102 102 102 \t\tgray40\r\n",
      "102 102 102 \t\tgrey40\r\n",
      "105 105 105 \t\tgray41\r\n",
      "105 105 105 \t\tgrey41\r\n",
      "107 107 107 \t\tgray42\r\n",
      "107 107 107 \t\tgrey42\r\n",
      "110 110 110 \t\tgray43\r\n",
      "110 110 110 \t\tgrey43\r\n",
      "112 112 112 \t\tgray44\r\n",
      "112 112 112 \t\tgrey44\r\n",
      "115 115 115 \t\tgray45\r\n",
      "115 115 115 \t\tgrey45\r\n",
      "117 117 117 \t\tgray46\r\n",
      "117 117 117 \t\tgrey46\r\n",
      "120 120 120 \t\tgray47\r\n",
      "120 120 120 \t\tgrey47\r\n",
      "122 122 122 \t\tgray48\r\n",
      "122 122 122 \t\tgrey48\r\n",
      "125 125 125 \t\tgray49\r\n",
      "125 125 125 \t\tgrey49\r\n",
      "127 127 127 \t\tgray50\r\n",
      "127 127 127 \t\tgrey50\r\n",
      "130 130 130 \t\tgray51\r\n",
      "130 130 130 \t\tgrey51\r\n",
      "133 133 133 \t\tgray52\r\n",
      "133 133 133 \t\tgrey52\r\n",
      "135 135 135 \t\tgray53\r\n",
      "135 135 135 \t\tgrey53\r\n",
      "138 138 138 \t\tgray54\r\n",
      "138 138 138 \t\tgrey54\r\n",
      "140 140 140 \t\tgray55\r\n",
      "140 140 140 \t\tgrey55\r\n",
      "143 143 143 \t\tgray56\r\n",
      "143 143 143 \t\tgrey56\r\n",
      "145 145 145 \t\tgray57\r\n",
      "145 145 145 \t\tgrey57\r\n",
      "148 148 148 \t\tgray58\r\n",
      "148 148 148 \t\tgrey58\r\n",
      "150 150 150 \t\tgray59\r\n",
      "150 150 150 \t\tgrey59\r\n",
      "153 153 153 \t\tgray60\r\n",
      "153 153 153 \t\tgrey60\r\n",
      "156 156 156 \t\tgray61\r\n",
      "156 156 156 \t\tgrey61\r\n",
      "158 158 158 \t\tgray62\r\n",
      "158 158 158 \t\tgrey62\r\n",
      "161 161 161 \t\tgray63\r\n",
      "161 161 161 \t\tgrey63\r\n",
      "163 163 163 \t\tgray64\r\n",
      "163 163 163 \t\tgrey64\r\n",
      "166 166 166 \t\tgray65\r\n",
      "166 166 166 \t\tgrey65\r\n",
      "168 168 168 \t\tgray66\r\n",
      "168 168 168 \t\tgrey66\r\n",
      "171 171 171 \t\tgray67\r\n",
      "171 171 171 \t\tgrey67\r\n",
      "173 173 173 \t\tgray68\r\n",
      "173 173 173 \t\tgrey68\r\n",
      "176 176 176 \t\tgray69\r\n",
      "176 176 176 \t\tgrey69\r\n",
      "179 179 179 \t\tgray70\r\n",
      "179 179 179 \t\tgrey70\r\n",
      "181 181 181 \t\tgray71\r\n",
      "181 181 181 \t\tgrey71\r\n",
      "184 184 184 \t\tgray72\r\n",
      "184 184 184 \t\tgrey72\r\n",
      "186 186 186 \t\tgray73\r\n",
      "186 186 186 \t\tgrey73\r\n",
      "189 189 189 \t\tgray74\r\n",
      "189 189 189 \t\tgrey74\r\n",
      "191 191 191 \t\tgray75\r\n",
      "191 191 191 \t\tgrey75\r\n",
      "194 194 194 \t\tgray76\r\n",
      "194 194 194 \t\tgrey76\r\n",
      "196 196 196 \t\tgray77\r\n",
      "196 196 196 \t\tgrey77\r\n",
      "199 199 199 \t\tgray78\r\n",
      "199 199 199 \t\tgrey78\r\n",
      "201 201 201 \t\tgray79\r\n",
      "201 201 201 \t\tgrey79\r\n",
      "204 204 204 \t\tgray80\r\n",
      "204 204 204 \t\tgrey80\r\n",
      "207 207 207 \t\tgray81\r\n",
      "207 207 207 \t\tgrey81\r\n",
      "209 209 209 \t\tgray82\r\n",
      "209 209 209 \t\tgrey82\r\n",
      "212 212 212 \t\tgray83\r\n",
      "212 212 212 \t\tgrey83\r\n",
      "214 214 214 \t\tgray84\r\n",
      "214 214 214 \t\tgrey84\r\n",
      "217 217 217 \t\tgray85\r\n",
      "217 217 217 \t\tgrey85\r\n",
      "219 219 219 \t\tgray86\r\n",
      "219 219 219 \t\tgrey86\r\n",
      "222 222 222 \t\tgray87\r\n",
      "222 222 222 \t\tgrey87\r\n",
      "224 224 224 \t\tgray88\r\n",
      "224 224 224 \t\tgrey88\r\n",
      "227 227 227 \t\tgray89\r\n",
      "227 227 227 \t\tgrey89\r\n",
      "229 229 229 \t\tgray90\r\n",
      "229 229 229 \t\tgrey90\r\n",
      "232 232 232 \t\tgray91\r\n",
      "232 232 232 \t\tgrey91\r\n",
      "235 235 235 \t\tgray92\r\n",
      "235 235 235 \t\tgrey92\r\n",
      "237 237 237 \t\tgray93\r\n",
      "237 237 237 \t\tgrey93\r\n",
      "240 240 240 \t\tgray94\r\n",
      "240 240 240 \t\tgrey94\r\n",
      "242 242 242 \t\tgray95\r\n",
      "242 242 242 \t\tgrey95\r\n",
      "245 245 245 \t\tgray96\r\n",
      "245 245 245 \t\tgrey96\r\n",
      "247 247 247 \t\tgray97\r\n",
      "247 247 247 \t\tgrey97\r\n",
      "250 250 250 \t\tgray98\r\n",
      "250 250 250 \t\tgrey98\r\n",
      "252 252 252 \t\tgray99\r\n",
      "252 252 252 \t\tgrey99\r\n",
      "255 255 255 \t\tgray100\r\n",
      "255 255 255 \t\tgrey100\r\n",
      "169 169 169\t\tdark grey\r\n",
      "169 169 169\t\tDarkGrey\r\n",
      "169 169 169\t\tdark gray\r\n",
      "169 169 169\t\tDarkGray\r\n",
      "0     0 139\t\tdark blue\r\n",
      "0     0 139\t\tDarkBlue\r\n",
      "0   139 139\t\tdark cyan\r\n",
      "0   139 139\t\tDarkCyan\r\n",
      "139   0 139\t\tdark magenta\r\n",
      "139   0 139\t\tDarkMagenta\r\n",
      "139   0   0\t\tdark red\r\n",
      "139   0   0\t\tDarkRed\r\n",
      "144 238 144\t\tlight green\r\n",
      "144 238 144\t\tLightGreen\r\n",
      "220  20  60\t\tcrimson\r\n",
      " 75   0 130\t\tindigo\r\n",
      "128 128   0\t\tolive\r\n",
      "102  51 153\t\trebecca purple\r\n",
      "102  51 153\t\tRebeccaPurple\r\n",
      "192 192 192\t\tsilver\r\n",
      "  0 128 128\t\tteal\r\n"
     ]
    }
   ],
   "source": [
    "!cat /usr/X11/share/X11/rgb.txt"
   ]
  },
  {
   "cell_type": "markdown",
   "metadata": {},
   "source": [
    "Note that `awk` can somewhat replicate what `sed` and `grep` do. Given a regular expression to match, `awk` will return the matching lines of a file."
   ]
  },
  {
   "cell_type": "code",
   "execution_count": 89,
   "metadata": {},
   "outputs": [
    {
     "name": "stdout",
     "output_type": "stream",
     "text": [
      "255 218 185\t\tpeach puff\r\n"
     ]
    }
   ],
   "source": [
    "!awk '/puff/' /usr/X11/share/X11/rgb.txt"
   ]
  },
  {
   "cell_type": "code",
   "execution_count": 90,
   "metadata": {},
   "outputs": [
    {
     "name": "stdout",
     "output_type": "stream",
     "text": [
      "112 128 144\t\tslate gray\r\n",
      "112 128 144\t\tSlateGray\r\n",
      "112 128 144\t\tslate grey\r\n",
      "112 128 144\t\tSlateGrey\r\n",
      " 30 144 255\t\tdodger blue\r\n",
      " 30 144 255\t\tDodgerBlue\r\n",
      "208  32 144\t\tviolet red\r\n",
      "208  32 144\t\tVioletRed\r\n",
      " 30 144 255\t\tDodgerBlue1\r\n",
      "144 238 144\t\tPaleGreen2\r\n",
      "205  96 144\t\tHotPink3\r\n",
      "205  41 144\t\tmaroon3\r\n",
      "144 238 144\t\tlight green\r\n",
      "144 238 144\t\tLightGreen\r\n"
     ]
    }
   ],
   "source": [
    "!awk '/144/' /usr/X11/share/X11/rgb.txt"
   ]
  },
  {
   "cell_type": "markdown",
   "metadata": {},
   "source": [
    "We can select the colors that have 144 in the beginning of their hex strings. The caret tells `awk` to search for a match at the start of each line in the input file."
   ]
  },
  {
   "cell_type": "code",
   "execution_count": 91,
   "metadata": {},
   "outputs": [
    {
     "name": "stdout",
     "output_type": "stream",
     "text": [
      "144 238 144\t\tPaleGreen2\r\n",
      "144 238 144\t\tlight green\r\n",
      "144 238 144\t\tLightGreen\r\n"
     ]
    }
   ],
   "source": [
    "!awk '/^144/' /usr/X11/share/X11/rgb.txt"
   ]
  },
  {
   "cell_type": "markdown",
   "metadata": {},
   "source": [
    "We can even pick out the only color with 144 in the middle"
   ]
  },
  {
   "cell_type": "code",
   "execution_count": 92,
   "metadata": {},
   "outputs": [
    {
     "name": "stdout",
     "output_type": "stream",
     "text": [
      " 30 144 255\t\tdodger blue\r\n",
      " 30 144 255\t\tDodgerBlue\r\n",
      " 30 144 255\t\tDodgerBlue1\r\n"
     ]
    }
   ],
   "source": [
    "!awk '/^.*\\ 144\\ .*/' /usr/X11/share/X11/rgb.txt"
   ]
  },
  {
   "cell_type": "markdown",
   "metadata": {},
   "source": [
    "In addition to just replicating some of `grep`’s capabilities, `awk` can add an action. However, it can only do actions on a column-wise basis. Note that dollar signs ($) indicate columns:"
   ]
  },
  {
   "cell_type": "code",
   "execution_count": 93,
   "metadata": {},
   "outputs": [
    {
     "name": "stdout",
     "output_type": "stream",
     "text": [
      "112 128 144\t\tslate gray\r\n",
      "112 128 144\t\tSlateGray\r\n",
      "112 128 144\t\tslate grey\r\n",
      "112 128 144\t\tSlateGrey\r\n",
      "208  32 144\t\tviolet red\r\n",
      "208  32 144\t\tVioletRed\r\n",
      "144 238 144\t\tPaleGreen2\r\n",
      "205  96 144\t\tHotPink3\r\n",
      "205  41 144\t\tmaroon3\r\n",
      "144 238 144\t\tlight green\r\n",
      "144 238 144\t\tLightGreen\r\n"
     ]
    }
   ],
   "source": [
    "#awk '{print $1$2$3}' /usr/X11/share/X11/rgb.txt\n",
    "#awk '/^255/{print $1$2$3}' /usr/X11/share/X11/rgb.txt\n",
    "#!awk '/^.+ +.+144/{print $1$2$3}' /usr/X11/share/X11/rgb.txt\n",
    "!awk '/^.+ +.+144/' /usr/X11/share/X11/rgb.txt"
   ]
  },
  {
   "cell_type": "markdown",
   "metadata": {},
   "source": [
    "The column order can also be switched:"
   ]
  },
  {
   "cell_type": "code",
   "execution_count": 94,
   "metadata": {},
   "outputs": [
    {
     "name": "stdout",
     "output_type": "stream",
     "text": [
      "250   250   250  255\r\n",
      "255   248   248  248\r\n",
      "255   248   248  248\r\n",
      "245   245   245  245\r\n",
      "245   245   245  245\r\n"
     ]
    }
   ],
   "source": [
    "!awk '{if(NR<6){print $3,\" \",$2,\" \",$2,\" \"$1}}' /usr/X11/share/X11/rgb.txt"
   ]
  },
  {
   "cell_type": "markdown",
   "metadata": {},
   "source": [
    "Or we can modify just one line:"
   ]
  },
  {
   "cell_type": "code",
   "execution_count": 95,
   "metadata": {},
   "outputs": [
    {
     "name": "stdout",
     "output_type": "stream",
     "text": [
      "250240230 \t linen\r\n"
     ]
    }
   ],
   "source": [
    "!awk NR==11'{print $1 $2 $3,\"\\t\",$4}' /usr/X11/share/X11/rgb.txt"
   ]
  },
  {
   "cell_type": "markdown",
   "metadata": {},
   "source": [
    "And finally, we can do math with awk:"
   ]
  },
  {
   "cell_type": "code",
   "execution_count": 96,
   "metadata": {},
   "outputs": [
    {
     "name": "stdout",
     "output_type": "stream",
     "text": [
      "250 + 240 + 230 = 720\r\n"
     ]
    }
   ],
   "source": [
    "!awk NR==11'{print $1,\"+\",$2,\"+\",$3,\"=\",$1+$2+$3}' /usr/X11/share/X11/rgb.txt"
   ]
  },
  {
   "cell_type": "markdown",
   "metadata": {},
   "source": [
    "## Python Regular Expressions\n",
    "Everything we’ve seen how to do so far in this chapter is also possible in Python. Alternatives to all of these tools exist in the Python regular expression module `re`, which comes as part of the Python standard library. The `re` module allows Python-flavored regular expression pattern matching.\n",
    "\n",
    "`grep`’s capabilities can be replaced with:\n",
    "\n",
    "- `re.match(pattern, string)` to match a regular expression pattern to the beginning of a string\n",
    "- `re.search(pattern, string)` to search a string for the presence of a pattern\n",
    "- `re.findall( pattern, string*)` to find all occurrences of a pattern in a string\n",
    "\n",
    "Similarly, the capabilities of sed can be replaced with:\n",
    "\n",
    "- `re.sub(pattern, replacement, string)` to substitute all occurrences of a pattern found in a string\n",
    "- `re.subn(pattern, replacement, string)` to substitute all occurrences of a pattern found in a string and return the number of substitutions made\n",
    "\n",
    "The `re` model provides a few more powerful utilities as well.\n",
    "\n",
    "- `re.split(pattern, string)` splits a string by the occurrences of a pattern.\n",
    "- `re.finditer(pattern, string)` returns an iterator yielding a match object for each match.\n",
    "- `re.compile(pattern)` precompiles a regex for faster matches.\n",
    "\n",
    "In all of these functions, if a match to a regular expression is not found, then `None` is returned. If a match is found, then a special `MatchObject` is returned.\n",
    "\n",
    "`MatchObjects` have methods and attributes that allow you to determine the position in the string of the match, the original regular expression pattern, and the values captured by any parentheses with the `MatchObject.groups()` method.\n",
    "\n",
    "Let’s try to match a date regular expression to some actual dates:"
   ]
  },
  {
   "cell_type": "code",
   "execution_count": 97,
   "metadata": {},
   "outputs": [],
   "source": [
    "# First, import the regular expression module.\n",
    "import re"
   ]
  },
  {
   "cell_type": "code",
   "execution_count": 98,
   "metadata": {},
   "outputs": [
    {
     "data": {
      "text/plain": [
       "<_sre.SRE_Match object; span=(0, 10), match='2015-12-16'>"
      ]
     },
     "execution_count": 98,
     "metadata": {},
     "output_type": "execute_result"
    }
   ],
   "source": [
    "# The string matches the pattern, so a match is returned.\n",
    "re.match(\"20[01][0-9].*[0-9][0-9].*[0-9][0-9]\", '2015-12-16')"
   ]
  },
  {
   "cell_type": "code",
   "execution_count": 99,
   "metadata": {},
   "outputs": [
    {
     "name": "stdout",
     "output_type": "stream",
     "text": [
      "<_sre.SRE_Match object; span=(0, 10), match='2015-12-16'>\n"
     ]
    }
   ],
   "source": [
    "# Assign the match to a variable name for later use\n",
    "m = re.match(\"20[01][0-9].*[0-9][0-9].*[0-9][0-9]\", '2015-12-16')\n",
    "print(m)"
   ]
  },
  {
   "cell_type": "code",
   "execution_count": 100,
   "metadata": {},
   "outputs": [
    {
     "data": {
      "text/plain": [
       "0"
      ]
     },
     "execution_count": 100,
     "metadata": {},
     "output_type": "execute_result"
    }
   ],
   "source": [
    "# Find the index in the string of the start of the match.\n",
    "m.pos"
   ]
  },
  {
   "cell_type": "code",
   "execution_count": 62,
   "metadata": {},
   "outputs": [
    {
     "data": {
      "text/plain": [
       "()"
      ]
     },
     "execution_count": 62,
     "metadata": {},
     "output_type": "execute_result"
    }
   ],
   "source": [
    "# Report all captured groups. This regular expression pattern had no capturing\n",
    "# parentheses, so no substrings are reported.\n",
    "m.groups()"
   ]
  },
  {
   "cell_type": "code",
   "execution_count": 63,
   "metadata": {},
   "outputs": [],
   "source": [
    "# Try to match the date pattern against something that is not a date.\n",
    "m = re.match(\"20[01][0-9].*[0-9][0-9].*[0-9][0-9]\", 'not-a-date')"
   ]
  },
  {
   "cell_type": "code",
   "execution_count": 64,
   "metadata": {},
   "outputs": [
    {
     "data": {
      "text/plain": [
       "True"
      ]
     },
     "execution_count": 64,
     "metadata": {},
     "output_type": "execute_result"
    }
   ],
   "source": [
    "# Note how None is returned when the match fails.\n",
    "m is None"
   ]
  },
  {
   "cell_type": "markdown",
   "metadata": {},
   "source": [
    "### The compile() method\n",
    "\n",
    "To speed up matching multiple strings against a common pattern, it is always a good\n",
    "idea to compile() the pattern. Compiling takes much longer than matching. However,\n",
    "once you have a compiled pattern, all of the same functions are available as methods\n",
    "of the pattern. Since the pattern is already known, you don’t need to pass it in when\n",
    "you call match() or search() or the other methods. Let’s compile a version of the date\n",
    "regular expression that has capturing parentheses around the actual date values:"
   ]
  },
  {
   "cell_type": "code",
   "execution_count": 65,
   "metadata": {},
   "outputs": [],
   "source": [
    "# Compile the regular expression and store it as the re_date variable.\n",
    "re_date = re.compile(\"(20[01][0-9]).*([0-9][0-9]).*([0-9][0-9])\")"
   ]
  },
  {
   "cell_type": "code",
   "execution_count": 66,
   "metadata": {},
   "outputs": [
    {
     "data": {
      "text/plain": [
       "<_sre.SRE_Match object; span=(0, 10), match='2014-28-01'>"
      ]
     },
     "execution_count": 66,
     "metadata": {},
     "output_type": "execute_result"
    }
   ],
   "source": [
    "# Use this variable to match against a string.\n",
    "re_date.match('2014-28-01')"
   ]
  },
  {
   "cell_type": "code",
   "execution_count": 67,
   "metadata": {},
   "outputs": [],
   "source": [
    "# Assign the match to a variable m for later use.\n",
    "m = re_date.match('2014-28-01')"
   ]
  },
  {
   "cell_type": "code",
   "execution_count": 68,
   "metadata": {},
   "outputs": [
    {
     "data": {
      "text/plain": [
       "('2014', '28', '01')"
      ]
     },
     "execution_count": 68,
     "metadata": {},
     "output_type": "execute_result"
    }
   ],
   "source": [
    "# Since the regular expression uses capturing parentheses, you can obtain the values\n",
    "# within them using the groups() method. A tuple that has the same length as\n",
    "# the number of capturing parentheses is returned.\n",
    "m.groups()"
   ]
  },
  {
   "cell_type": "markdown",
   "metadata": {
    "collapsed": true
   },
   "source": [
    "## Regular Expressions Wrap-Up\n",
    "\n",
    "At this point, your regular expressions skills should include:\n",
    "- How to speed up command-line use with metacharacters\n",
    "- How to find files based on patterns in their names (find)\n",
    "- How to find lines in files based on patterns in their content (grep)\n",
    "- How to replace text patterns in files (sed)\n",
    "- How to manipulate columns of data based on patterns (awk)"
   ]
  },
  {
   "cell_type": "code",
   "execution_count": 1,
   "metadata": {},
   "outputs": [
    {
     "data": {
      "text/html": [
       "<link href='http://fonts.googleapis.com/css?family=Fenix' rel='stylesheet' type='text/css'>\n",
       "<link href='http://fonts.googleapis.com/css?family=Source+Code+Pro:300,400' rel='stylesheet' type='text/css'>\n",
       "<link href='http://fonts.googleapis.com/css?family=Slabo%2027px' rel='stylesheet' type='text/css'>\n",
       "<style>\n",
       "\n",
       "/* #52575c <-grey\n",
       " * #f5f7fa <-nearly white\n",
       " * #62676c <-grey\n",
       " * #42474c <- also grey\n",
       " * #c2c7cc <-light grey\n",
       " * #f35858 <- salmon\n",
       " * #B73F98 <- o'reilly pink\n",
       " */\n",
       "\n",
       "@font-face {\n",
       "    font-family: \"Slabo 27px\", \"Helvetica Neue\", Helvetica, Arial, sans-serif;\n",
       "}\n",
       "\n",
       "\n",
       "#notebook_panel { /* main background */\n",
       "    background: rgb(245,245,245);\n",
       "}\n",
       "\n",
       "div.cell { /* set cell width */\n",
       "    width: 750px;\n",
       "}\n",
       "\n",
       "div #notebook { /* centre the content */\n",
       "    background: #fff; /* white background for content */\n",
       "    width: 1000px;\n",
       "    margin: auto;\n",
       "    padding-left: 0em;\n",
       "}\n",
       "\n",
       "#notebook li { /* More space between bullet points */\n",
       "margin-top:0.8em;\n",
       "}\n",
       "\n",
       "/* draw border around running cells */\n",
       "div.cell.border-box-sizing.code_cell.running { \n",
       "    border: 1px solid #111;\n",
       "}\n",
       "\n",
       "/* Put a solid color box around each cell and its output, visually linking them*/\n",
       "div.cell.code_cell {\n",
       "    background-color: rgb(256,256,256); \n",
       "    border-radius: 0px; \n",
       "    padding: 0.5em;\n",
       "    margin-left:1em;\n",
       "    margin-top: 1em;\n",
       "}\n",
       "\n",
       "\n",
       "div.text_cell_render{\n",
       "    font-family: \"Slabo 27px\", \"Helvetica Neue\", Helvetica, Arial, sans-serif;\n",
       "    line-height: 140%;\n",
       "    font-size: 125%;\n",
       "    font-weight: 400;\n",
       "    width:600px;\n",
       "    color:#42474c;\n",
       "    margin-left:auto;\n",
       "    margin-right:auto;\n",
       "}\n",
       "\n",
       "/* Formatting for header cells */\n",
       ".text_cell_render h1 {\n",
       "    font-family: \"Slabo 27px\", \"Helvetica Neue\", Helvetica, Arial, sans-serif;\n",
       "    font-style:regular;\n",
       "    font-weight: 200;    \n",
       "    font-size: 50pt;\n",
       "    line-height: 100%;\n",
       "    color:#B73F98;\n",
       "    margin-bottom: 0.5em;\n",
       "    margin-top: 0.5em;\n",
       "    display: block;\n",
       "}       \n",
       ".text_cell_render h2 {\n",
       "    font-family: 'Fenix', serif;\n",
       "    font-size: 22pt;\n",
       "    line-height: 100%;\n",
       "    margin-bottom: 0.1em;\n",
       "    margin-top: 0.3em;\n",
       "    display: block;\n",
       "}       \n",
       "\n",
       ".text_cell_render h3 {\n",
       "    font-family: 'Fenix', serif;\n",
       "    margin-top:12px;\n",
       "        font-size: 16pt;\n",
       "    margin-bottom: 3px;\n",
       "    font-style: regular;\n",
       "}\n",
       "\n",
       ".text_cell_render h4 {    /*Use this for captions*/\n",
       "    font-family: 'Fenix', serif;\n",
       "    font-size: 2pt;\n",
       "    text-align: center;\n",
       "    margin-top: 0em;\n",
       "    margin-bottom: 2em;\n",
       "    font-style: regular;\n",
       "}\n",
       "\n",
       ".text_cell_render h5 {  /*Use this for small titles*/\n",
       "    font-family: \"Slabo 27px\", \"Helvetica Neue\", Helvetica, Arial, sans-serif;\n",
       "    font-weight: 300;\n",
       "    font-size: 16pt;\n",
       "    color: #B73F98;\n",
       "    font-style: italic;\n",
       "    margin-bottom: .5em;\n",
       "    margin-top: 0.5em;\n",
       "    display: block;\n",
       "}\n",
       "\n",
       ".text_cell_render h6 { /*use this for copyright note*/\n",
       "    font-family: 'Source Code Pro', sans-serif;\n",
       "    font-weight: 300;\n",
       "    font-size: 9pt;\n",
       "    line-height: 100%;\n",
       "    color: grey;\n",
       "    margin-bottom: 1px;\n",
       "    margin-top: 1px;\n",
       "}\n",
       "\n",
       "    .CodeMirror{\n",
       "            font-family: \"Source Code Pro\";\n",
       "                        font-size: 90%;\n",
       "    }\n",
       "/*    .prompt{\n",
       "        display: None;\n",
       "    }*/\n",
       "        \n",
       "    \n",
       "    .warning{\n",
       "        color: rgb( 240, 20, 20 )\n",
       "        }  \n",
       "</style>\n",
       "<script>\n",
       "    MathJax.Hub.Config({\n",
       "                        TeX: {\n",
       "                           extensions: [\"AMSmath.js\"], \n",
       "                           equationNumbers: { autoNumber: \"AMS\", useLabelIds: true}\n",
       "                           },\n",
       "                tex2jax: {\n",
       "                    inlineMath: [ ['$','$'], [\"\\\\(\",\"\\\\)\"] ],\n",
       "                    displayMath: [ ['$$','$$'], [\"\\\\[\",\"\\\\]\"] ]\n",
       "                },\n",
       "                displayAlign: 'center', // Change this to 'center' to center equations.\n",
       "                \"HTML-CSS\": {\n",
       "                    styles: {'.MathJax_Display': {\"margin\": 4}}\n",
       "                }\n",
       "        });\n",
       "</script>\n"
      ],
      "text/plain": [
       "<IPython.core.display.HTML object>"
      ]
     },
     "execution_count": 1,
     "metadata": {},
     "output_type": "execute_result"
    }
   ],
   "source": [
    "from IPython.core.display import HTML\n",
    "def css_styling():\n",
    "    styles = open(\"styles/custom.css\", \"r\").read()\n",
    "    return HTML(styles)\n",
    "css_styling()"
   ]
  }
 ],
 "metadata": {
  "kernelspec": {
   "display_name": "Python 3",
   "language": "python",
   "name": "python3"
  },
  "language_info": {
   "codemirror_mode": {
    "name": "ipython",
    "version": 3
   },
   "file_extension": ".py",
   "mimetype": "text/x-python",
   "name": "python",
   "nbconvert_exporter": "python",
   "pygments_lexer": "ipython3",
   "version": "3.6.5"
  }
 },
 "nbformat": 4,
 "nbformat_minor": 1
}
