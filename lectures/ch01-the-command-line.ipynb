{
 "cells": [
  {
   "cell_type": "markdown",
   "metadata": {
    "slideshow": {
     "slide_type": "slide"
    }
   },
   "source": [
    "# Introduction to the Command Line"
   ]
  },
  {
   "cell_type": "markdown",
   "metadata": {},
   "source": [
    "The command line, or *shell*, is a powerful way to interact with the internals of the computer. From the command line you can do many things you normally do with a computer, such as navigate the filesystem and run programs. In addition to these common tasks, the command line allows you to easily automate repetitive tasks and use software programs for science that can only be installed and run via this interface. \n",
    "\n",
    "There are different types of shells:\n",
    "- sh: Bourne shell\n",
    "- csh: C shell\n",
    "- ksh: Korn shell\n",
    "- bash: Bourne again shell\n",
    "- tch: Tenex C shell\n",
    "\n",
    "Among these types, bash is the most widely used."
   ]
  },
  {
   "cell_type": "markdown",
   "metadata": {
    "slideshow": {
     "slide_type": "slide"
    }
   },
   "source": [
    "# Navigating the Shell"
   ]
  },
  {
   "cell_type": "markdown",
   "metadata": {},
   "source": [
    "You can access the shell by opening a terminal emulator (“terminal” for short) on a Linux or MacOS computer. "
   ]
  },
  {
   "cell_type": "markdown",
   "metadata": {
    "slideshow": {
     "slide_type": "slide"
    }
   },
   "source": [
    "### Exercise: Open a Terminal"
   ]
  },
  {
   "cell_type": "markdown",
   "metadata": {},
   "source": [
    "1. Search your computer’s programs to find one called Terminal. \n",
    "2. Open an instance of that program. You’re in the shell and you should see something that looks like:"
   ]
  },
  {
   "cell_type": "markdown",
   "metadata": {},
   "source": [
    "`user@host $`"
   ]
  },
  {
   "cell_type": "markdown",
   "metadata": {
    "slideshow": {
     "slide_type": "-"
    }
   },
   "source": [
    "The dollar sign (`$`) is called the *prompt*, and it indicates that the *shell* is ready for your input. When typing commands, either from these lessons or from other sources, do not type the prompt, only the commands that follow it.\n",
    "- $: regular user\n",
    "- \\#: super user (root)\n",
    "- Customizable via Environment Variables PS1.\n",
    "export PS1=”\\u@\\h:\\w\\$ ”\n",
    "\n",
    "The shell starts your session from a special directory called home directory (tilde `~`)"
   ]
  },
  {
   "cell_type": "markdown",
   "metadata": {
    "slideshow": {
     "slide_type": "slide"
    }
   },
   "source": [
    "# Paths and `pwd`"
   ]
  },
  {
   "cell_type": "markdown",
   "metadata": {},
   "source": [
    "The first command we will learn about is `pwd`, which stands for print working directory. Typing this command into the command line will tell you where you are in your computer's filesystem."
   ]
  },
  {
   "cell_type": "code",
   "execution_count": 1,
   "metadata": {},
   "outputs": [
    {
     "data": {
      "text/plain": [
       "'/Users/jmunroe/GitHub/CMSC6950.github.io/lectures'"
      ]
     },
     "execution_count": 1,
     "metadata": {},
     "output_type": "execute_result"
    }
   ],
   "source": [
    "pwd"
   ]
  },
  {
   "cell_type": "markdown",
   "metadata": {},
   "source": [
    "What the shell returns to us from typing `pwd` is the absolute path to where we are in the computers filesystem. Absolute paths begin at the top of the filesystem directory tree, called the root directory. The `/` syntax is used at the beginning of a path to indicate the root or top-level directory. The following `/`'s are used to separate the names of directories in a path."
   ]
  },
  {
   "cell_type": "markdown",
   "metadata": {},
   "source": [
    "Another path we need to be familar with is the relative path which tells us where something is in relation to where we are, intead of from the root of the filesystem. The relative path for the current directory is `.` and the parent directory (*e.g.,* `Users`) is `..`"
   ]
  },
  {
   "cell_type": "markdown",
   "metadata": {
    "slideshow": {
     "slide_type": "slide"
    }
   },
   "source": [
    "# Changing Directories (`cd`)"
   ]
  },
  {
   "cell_type": "markdown",
   "metadata": {},
   "source": [
    "*note - to follow along with the code below please download the example filesystem we will be working with from here: https://github.com/physics-codes/seminar/blob/ch01/filespace.zip?raw=true and unzip it with `unzip` command syntax\n",
    "```\n",
    "unzip file.zip -d destination_folder\n",
    "```\n",
    "and save it to your Computer's Desktop.*"
   ]
  },
  {
   "cell_type": "markdown",
   "metadata": {},
   "source": [
    "We are now going to navigate to the fission directory in Professor Meitner’s home directory. We will use do this using `cd`, which stands for change directory. "
   ]
  },
  {
   "cell_type": "markdown",
   "metadata": {},
   "source": [
    " `$ cd Desktop/filespace/people/l/lisemeitner/fission/`"
   ]
  },
  {
   "cell_type": "code",
   "execution_count": null,
   "metadata": {},
   "outputs": [],
   "source": []
  },
  {
   "cell_type": "code",
   "execution_count": null,
   "metadata": {},
   "outputs": [],
   "source": []
  },
  {
   "cell_type": "markdown",
   "metadata": {},
   "source": [
    "As you can see in this example, executing the cd command with no arguments results in a new prompt. The prompt reflects the new current working directory, `fission`. To double-check that we are where we think we are we can use `pwd`."
   ]
  },
  {
   "cell_type": "markdown",
   "metadata": {},
   "source": [
    "~~~\n",
    "$ pwd\n",
    "~~~\n",
    "~~~\n",
    "/Users/tiffanytimbers/Desktop/filespace/people/l/lisemeitner/fission\n",
    "~~~"
   ]
  },
  {
   "cell_type": "markdown",
   "metadata": {},
   "source": [
    "You can also use `cd` with a relative path (*e.g.,* `cd ..` to navigate up to the parent directory), and we wil demonstrate this and more after we introduce the `ls` command."
   ]
  },
  {
   "cell_type": "markdown",
   "metadata": {
    "slideshow": {
     "slide_type": "slide"
    }
   },
   "source": [
    "# Listing the Contents (`ls`)"
   ]
  },
  {
   "cell_type": "markdown",
   "metadata": {},
   "source": [
    "To find out what is inside the a directory we can use `ls`, which means list. Typing `ls` on its own will tell you the contents of the current working directory, in our case the `fission` directory."
   ]
  },
  {
   "cell_type": "markdown",
   "metadata": {},
   "source": [
    "~~~\n",
    "$ ls\n",
    "~~~\n",
    "~~~\n",
    "applications\t\theat-generation.txt\tneutron-production.txt\n",
    "~~~"
   ]
  },
  {
   "cell_type": "markdown",
   "metadata": {},
   "source": [
    "We see that the shell returns three things, two of which end in `.txt` and thus look like files, and one item that has no file extension, and thus is likely a directory. But files are not required to have file extensions, and so we cannot be sure. To be sure, we can use the `-F` option with `ls` to ask the shell to clearly specify which items are files and which are directories."
   ]
  },
  {
   "cell_type": "markdown",
   "metadata": {},
   "source": [
    "~~~\n",
    "$ ls -F\n",
    "~~~\n",
    "~~~\n",
    "applications/\t\theat-generation.txt\tneutron-production.txt\n",
    "~~~"
   ]
  },
  {
   "cell_type": "markdown",
   "metadata": {},
   "source": [
    "Now we see that `applications` ends with a `/`, clearly indicating that it is in fact a directory."
   ]
  },
  {
   "cell_type": "markdown",
   "metadata": {},
   "source": [
    "We can also list the contents of directories other than our current directory by providing an argument to the `ls` command. To list the contents of the applications directory without entering it, we can execute:"
   ]
  },
  {
   "cell_type": "markdown",
   "metadata": {},
   "source": [
    "~~~\n",
    "$ ls applications\n",
    "~~~\n",
    "~~~\n",
    "power\tpropulsion\t\tweapons\n",
    "~~~\n",
    "\n",
    "To display a list of all files, including the hidden files, we can use the flag -a :"
   ]
  },
  {
   "cell_type": "code",
   "execution_count": 12,
   "metadata": {},
   "outputs": [
    {
     "name": "stdout",
     "output_type": "stream",
     "text": [
      "\u001b[34m$RECYCLE.BIN\u001b[m\u001b[m/\r\n",
      "\u001b[34m.\u001b[m\u001b[m/\r\n",
      "\u001b[34m..\u001b[m\u001b[m/\r\n",
      ".DS_Store\r\n",
      ".localized\r\n",
      "\u001b[34mAustralia2017\u001b[m\u001b[m/\r\n",
      "Glacial-Ice-Hazards-Working-Group15-Feb-2016.pdf\r\n",
      "desktop.ini\r\n",
      "\u001b[34mfilespace\u001b[m\u001b[m/\r\n"
     ]
    }
   ],
   "source": [
    "ls -a ~/Desktop"
   ]
  },
  {
   "cell_type": "markdown",
   "metadata": {
    "collapsed": true,
    "slideshow": {
     "slide_type": "slide"
    }
   },
   "source": [
    "# More Changing Directories (`cd`)"
   ]
  },
  {
   "cell_type": "markdown",
   "metadata": {},
   "source": [
    "Previously we changed directories to the `fission` directory using the `cd` and the absolute path. As mentioned above, we can also change directories using the relative path, for example to navigate into the `applications` directory we can type:"
   ]
  },
  {
   "cell_type": "markdown",
   "metadata": {},
   "source": [
    "~~~\n",
    "$ cd applications\n",
    "$ pwd\n",
    "~~~\n",
    "~~~\n",
    "/Users/tiffanytimbers/Desktop/filespace/people/l/lisemeitner/fission/applications\n",
    "~~~"
   ]
  },
  {
   "cell_type": "markdown",
   "metadata": {},
   "source": [
    "We can also move back to the `fission` directory by using the relative path to move to the parent directory by typing:"
   ]
  },
  {
   "cell_type": "markdown",
   "metadata": {},
   "source": [
    "~~~\n",
    "$ cd ..\n",
    "$ pwd\n",
    "~~~\n",
    "~~~\n",
    "/Users/tiffanytimbers/Desktop/filespace/people/l/lisemeitner/fission\n",
    "~~~"
   ]
  },
  {
   "cell_type": "markdown",
   "metadata": {},
   "source": [
    "The `applications` directory had to be present in the `fission` directory for `cd applications` to work.\n",
    "If a directory does not exist, bash will not be able to change into that location and will report an error message, as seen here. Notice that bash stays in the original directory, as you might expect:"
   ]
  },
  {
   "cell_type": "markdown",
   "metadata": {},
   "source": [
    "~~~\n",
    "$ cd biology\n",
    "~~~\n",
    "\n",
    "~~~\n",
    "-bash: cd: biology: No such file or directory\n",
    "~~~\n",
    "\n",
    "~~~\n",
    "$ pwd\n",
    "~~~\n",
    "\n",
    "~~~\n",
    "/Users/tiffanytimbers/Desktop/filespace/people/l/lisemeitner/fission\n",
    "~~~"
   ]
  },
  {
   "cell_type": "markdown",
   "metadata": {},
   "source": [
    "What happens when you type `cd` alone, without giving an absolute or relative path? When you do this, the cd command assumes you want to go to your home directory, so that’s where it takes you:"
   ]
  },
  {
   "cell_type": "markdown",
   "metadata": {},
   "source": [
    "~~~\n",
    "$ cd\n",
    "$ pwd\n",
    "~~~\n",
    "~~~\n",
    "/Users/tiffanytimbers\n",
    "~~~"
   ]
  },
  {
   "cell_type": "code",
   "execution_count": 13,
   "metadata": {},
   "outputs": [
    {
     "name": "stdout",
     "output_type": "stream",
     "text": [
      "/Users/jmunroe/Desktop\n"
     ]
    }
   ],
   "source": [
    "cd ~/Desktop"
   ]
  },
  {
   "cell_type": "markdown",
   "metadata": {},
   "source": [
    "### Exercise: Open a Terminal\n",
    "\n",
    "1. Open a new Terminal instance.\n",
    "2. Type `cd ..` at the command prompt and press **Enter** to move from your home directory to the directory above it.\n",
    "3. Move back into your home directory using a relative path.\n",
    "4. If you have downloaded Lise’s directory tree from the book’s GitHub repository, can you navigate to that directory using what you know about ls, cd, and pwd?\n"
   ]
  },
  {
   "cell_type": "markdown",
   "metadata": {
    "slideshow": {
     "slide_type": "slide"
    }
   },
   "source": [
    "# File Inspection (head and tail)"
   ]
  },
  {
   "cell_type": "markdown",
   "metadata": {},
   "source": [
    "When using scientific computing programs, you often need to peak at the input and/or output files (for instance, to check some important input parameter or see if your run completed successfully). To demonstrate this, let's first navigate to the `power` directory, and examine the contents of this directory:"
   ]
  },
  {
   "cell_type": "markdown",
   "metadata": {},
   "source": [
    "~~~\n",
    "$ cd Desktop/filespace/people/l/lisemeitner/fission/applications/power\n",
    "$ ls\n",
    "~~~\n",
    "~~~\n",
    "reactor.txt\n",
    "~~~"
   ]
  },
  {
   "cell_type": "markdown",
   "metadata": {},
   "source": [
    " The command head prints the first 10 lines of the given file:"
   ]
  },
  {
   "cell_type": "markdown",
   "metadata": {},
   "source": [
    "~~~\n",
    "$ head -10 reactor.txt\n",
    "~~~\n",
    "~~~\n",
    "# Fission Power Idea\n",
    "\n",
    "\n",
    "The heat from the fission reaction could be used to heat fluids. In\n",
    "the same way that coal power starts with the production heat which\n",
    "turns water to steam and spins a turbine, so too, nuclear fission\n",
    "might heat fluid that pushes a turbine. If somehow there were a way to\n",
    "have many fissions in one small space, the heat from those fissions\n",
    "could be used to heat quite a lot of water.\n",
    "\n",
    "~~~"
   ]
  },
  {
   "cell_type": "markdown",
   "metadata": {},
   "source": [
    "As you might expect, the tail command prints the last 10:"
   ]
  },
  {
   "cell_type": "markdown",
   "metadata": {},
   "source": [
    "~~~\n",
    "$ tail -10 reactor.txt\n",
    "~~~\n",
    "~~~\n",
    "the same way that coal power starts with the production heat which\n",
    "turns water to steam and spins a turbine, so too, nuclear fission\n",
    "might heat fluid that pushes a turbine. If somehow there were a way to\n",
    "have many fissions in one small space, the heat from those fissions\n",
    "could be used to heat quite a lot of water.\n",
    "\n",
    "Of course, it would take quite a lot of fissions. \n",
    "\n",
    "Perhaps Professors Rutherford, Curie, or Fermi have some ideas on this\n",
    "topic. \n",
    "~~~"
   ]
  },
  {
   "cell_type": "markdown",
   "metadata": {},
   "source": [
    "### Exercise: Open a Terminal\n",
    "\n",
    "1. Open a new Terminal instance.\n",
    "2. Navigate to a plain text file (*.e.g.,* not a Word or Pages document).\n",
    "3. Use `head` and `tail` to print the first and last lines to the terminal.\n"
   ]
  },
  {
   "cell_type": "markdown",
   "metadata": {
    "slideshow": {
     "slide_type": "slide"
    }
   },
   "source": [
    "# Manipulating Files and Directories"
   ]
  },
  {
   "cell_type": "markdown",
   "metadata": {},
   "source": [
    "Beyond navigating the filesystem, the shell can also be used to do other common file manipulation tasks, such as creating, copying, moving and deleting files."
   ]
  },
  {
   "cell_type": "markdown",
   "metadata": {},
   "source": [
    "# Creating an empty file (`touch`)"
   ]
  },
  {
   "cell_type": "markdown",
   "metadata": {},
   "source": [
    "The `touch` command is used to create an empty text file. The `touch` command, followed by a filename, will create an empty file with that name. Suppose we want to create a file to act as a placeholder for a new idea for a nuclear fission application, like providing heat sources for remote locations such as Siberia. We can create that file with the touch command."
   ]
  },
  {
   "cell_type": "markdown",
   "metadata": {},
   "source": [
    "Let's first navigage to the directory to where we want to create that file, in this case, the `applications` directory."
   ]
  },
  {
   "cell_type": "markdown",
   "metadata": {},
   "source": [
    "~~~\n",
    "$ cd ..\n",
    "$ pwd\n",
    "~~~\n",
    "~~~\n",
    "/Users/tiffanytimbers/Desktop/filespace/people/l/lisemeitner/fission/applications\n",
    "~~~"
   ]
  },
  {
   "cell_type": "markdown",
   "metadata": {},
   "source": [
    "Let's also take a look at what is currently in the directory."
   ]
  },
  {
   "cell_type": "markdown",
   "metadata": {},
   "source": [
    "~~~\n",
    "$ ls\n",
    "~~~\n",
    "~~~\n",
    "power\tpropulsion\t\tweapons\n",
    "~~~"
   ]
  },
  {
   "cell_type": "markdown",
   "metadata": {},
   "source": [
    "Now we can use the `touch` command to create the file, and then `ls` to confirm that the file was created."
   ]
  },
  {
   "cell_type": "markdown",
   "metadata": {},
   "source": [
    "~~~\n",
    "$ touch remote_heat.txt\n",
    "$ ls\n",
    "~~~\n",
    "\n",
    "~~~\n",
    "power\tpropulsion   remote_heat.txt   weapons\n",
    "~~~"
   ]
  },
  {
   "cell_type": "markdown",
   "metadata": {
    "slideshow": {
     "slide_type": "slide"
    }
   },
   "source": [
    "# The simplest text editor (cat and >)"
   ]
  },
  {
   "cell_type": "markdown",
   "metadata": {},
   "source": [
    "Creating empty files can be useful sometimes, but most often computational scientists want to write code by adding text to code source files. This process relies on text editors. At the command line, the simplest way to do this is to use a program called `cat` and the shell syntax `>`, which is called redirection. We will introduce `cat` first and then put these together to create a text file.\n",
    "\n",
    "The cat command is meant to help concatenate files together. Given a filename as its argument, cat will print the full contents of the file to the terminal window. For example, to print all of the text from reactor.txt to the screen, Lise could use `cat` as follows:"
   ]
  },
  {
   "cell_type": "markdown",
   "metadata": {},
   "source": [
    "~~~\n",
    "$ cat power/reactor.txt\n",
    "~~~\n",
    "~~~\n",
    "# Fission Power Idea\n",
    "\n",
    "\n",
    "The heat from the fission reaction could be used to heat fluids. In\n",
    "the same way that coal power starts with the production heat which\n",
    "turns water to steam and spins a turbine, so too, nuclear fission\n",
    "might heat fluid that pushes a turbine. If somehow there were a way to\n",
    "have many fissions in one small space, the heat from those fissions\n",
    "could be used to heat quite a lot of water.\n",
    "\n",
    "Of course, it would take quite a lot of fissions. \n",
    "\n",
    "Perhaps Professors Rutherford, Curie, or Fermi have some ideas on this\n",
    "topic. \n",
    "~~~"
   ]
  },
  {
   "cell_type": "markdown",
   "metadata": {},
   "source": [
    "We can use this feature of cat and combine it with a redirection (>) to send the output of one file into another. *Note - if you specify the name of an existing file, its contents will be overwritten. If the file does not already exist, it will be created.* For example, the following syntax pushes the contents of `reactor.txt` into a new file called `reactor_copy.txt`:"
   ]
  },
  {
   "cell_type": "markdown",
   "metadata": {},
   "source": [
    "~~~\n",
    "$ cat power/reactor.txt > power/reactor_copy.txt\n",
    "$ ls power\n",
    "~~~\n",
    "~~~\n",
    "reactor.txt\t\treactor_copy.txt\n",
    "~~~"
   ]
  },
  {
   "cell_type": "markdown",
   "metadata": {},
   "source": [
    "We can use cat to check that `reactor_copy.txt` is not empty and that its contents is the same as `reactor.txt`."
   ]
  },
  {
   "cell_type": "markdown",
   "metadata": {},
   "source": [
    "~~~\n",
    "$ cat power/reactor_copy.txt\n",
    "~~~\n",
    "~~~\n",
    "# Fission Power Idea\n",
    "\n",
    "\n",
    "The heat from the fission reaction could be used to heat fluids. In\n",
    "the same way that coal power starts with the production heat which\n",
    "turns water to steam and spins a turbine, so too, nuclear fission\n",
    "might heat fluid that pushes a turbine. If somehow there were a way to\n",
    "have many fissions in one small space, the heat from those fissions\n",
    "could be used to heat quite a lot of water.\n",
    "\n",
    "Of course, it would take quite a lot of fissions. \n",
    "\n",
    "Perhaps Professors Rutherford, Curie, or Fermi have some ideas on this\n",
    "topic. \n",
    "~~~"
   ]
  },
  {
   "cell_type": "markdown",
   "metadata": {},
   "source": [
    "To use `cat` and `>` as a text editor where we can type our own thoughts or code, we call `cat` but do not give it any files to operate on. When we do this `cat` accepts input from the text we type into command prompt. To end our text file we need to type **Ctrl-d**."
   ]
  },
  {
   "cell_type": "markdown",
   "metadata": {},
   "source": [
    "~~~\n",
    "$ cat > new_ideas_for_applications.txt\n",
    "This file will be a list for new ideas for new applications.      \n",
    "They are to be listed below:         \n",
    "1. \n",
    "2.\n",
    "3.\n",
    "4.\n",
    "5.\n",
    "~~~\n"
   ]
  },
  {
   "cell_type": "markdown",
   "metadata": {},
   "source": [
    "Again, we can use `ls` and `cat` to see that the file exists and what it's contents are:"
   ]
  },
  {
   "cell_type": "markdown",
   "metadata": {},
   "source": [
    "~~~\n",
    "$ ls\n",
    "~~~\n",
    "\n",
    "~~~\n",
    "new_ideas_for_applications.txt\n",
    "power\t\t\t\tremote_heat.txt\n",
    "propulsion\t\t\tweapons\n",
    "~~~\n",
    "\n",
    "~~~\n",
    "$ cat new_ideas_for_applications.txt\n",
    "~~~\n",
    "\n",
    "~~~\n",
    "This file will be a list for new ideas for new applications.\n",
    "They are to be listed below:\n",
    "1.\n",
    "2.\n",
    "3.\n",
    "4.\n",
    "5.\n",
    "~~~"
   ]
  },
  {
   "cell_type": "markdown",
   "metadata": {},
   "source": [
    "### Exercise: Learn About a Command\n",
    "\n",
    "1. Open a terminal.\n",
    "2. Type `cat` and press **Enter**. The cursor will move to a blank line.\n",
    "3. Try typing some text. Note how every time you press **Enter**, a copy of your text is repeated.\n",
    "4. To exit, type **Ctrl-d**. That is, hold down the Control key and press the lowercase d key at the same time.\n",
    "5. Type `cat > mynewfile.txt` and create your own file.\n",
    "6. Verify to yourself that your new file was created and that it contains the expected contents."
   ]
  },
  {
   "cell_type": "markdown",
   "metadata": {
    "slideshow": {
     "slide_type": "slide"
    }
   },
   "source": [
    "# More powerful text editors (nano, emacs, and vim)"
   ]
  },
  {
   "cell_type": "markdown",
   "metadata": {},
   "source": [
    "As illustrated above, using cat is a very simple way to add text to a file, but this method doesn't let you easily edit the file. Thus, we recommend the use of text editors for this purpose. nano is a simple text editor that is recommended for first-time users and we will use it for the examples below."
   ]
  },
  {
   "cell_type": "markdown",
   "metadata": {},
   "source": [
    "To use the nano text editor to open or create the `remote_heat.txt` file, we type nano and then the file name we want to create or edit. We can then type and/or edit text in nano. To save changes press the **Cntrl + o** keys. To exit, press **Cntrl + x** keys. You can view what you typed by either opening the file with nano again, or printing the text of the file to the screen using `cat`."
   ]
  },
  {
   "cell_type": "markdown",
   "metadata": {},
   "source": [
    "~~~\n",
    "$ nano remote_heat.txt\n",
    "~~~"
   ]
  },
  {
   "cell_type": "markdown",
   "metadata": {},
   "source": [
    "Inside nano, type the text below, and save the changes and exit out of nano.\n",
    "~~~\n",
    "This is some new text.\n",
    "~~~"
   ]
  },
  {
   "cell_type": "markdown",
   "metadata": {},
   "source": [
    "View the changes to the file using `cat`\n",
    "~~~\n",
    "$ cat remote_heat.txt\n",
    "~~~\n",
    "~~~\n",
    "This is some new text.\n",
    "~~~\n",
    "\n",
    "To use `vim`, ou can use either the command `vi` or the command `vim`. Similarly, to use `emacs`, you should use the command `emacs`"
   ]
  },
  {
   "cell_type": "markdown",
   "metadata": {},
   "source": [
    "### Exercise: Open nano\n",
    "1. Open the Terminal.\n",
    "2. Execute the command nano.\n",
    "3. Add some text to the file.\n",
    "4. Use the instructions at the bottom of the window to name and save the file, then exit nano."
   ]
  },
  {
   "cell_type": "markdown",
   "metadata": {
    "slideshow": {
     "slide_type": "slide"
    }
   },
   "source": [
    "# Copying and Renaming Files (`cp` and `mv`)"
   ]
  },
  {
   "cell_type": "markdown",
   "metadata": {},
   "source": [
    "Now that we know how to make and edit files, we can learn how to copy, move and rename them."
   ]
  },
  {
   "cell_type": "markdown",
   "metadata": {},
   "source": [
    "The `cp` command is used to copy files from one place to another. The first argument passed to `cp` is the source file to be copied, and the second argument is the destination file (the copy to be made). To make a copy of the `reactors.txt` file in the `power` directory, let's navigate there and then us `cp` to do this."
   ]
  },
  {
   "cell_type": "markdown",
   "metadata": {},
   "source": [
    "~~~\n",
    "$ cd power\n",
    "$ ls\n",
    "~~~\n",
    "~~~\n",
    "reactor.txt\t\treactor_copy.txt\n",
    "~~~"
   ]
  },
  {
   "cell_type": "markdown",
   "metadata": {},
   "source": [
    "~~~\n",
    "$ cp reactor.txt reactor_copy2.txt\n",
    "$ ls\n",
    "~~~\n",
    "~~~\n",
    "reactor.txt\t\treactor_copy.txt\treactor_copy2.txt\n",
    "~~~"
   ]
  },
  {
   "cell_type": "markdown",
   "metadata": {},
   "source": [
    "We can also copy the file when we create it by specifying where to copy it to. For example to create a copy of `remote.txt` in the parent directory (`applications`) called `reactor_copy3.txt` we would type:"
   ]
  },
  {
   "cell_type": "markdown",
   "metadata": {},
   "source": [
    "~~~\n",
    "$ cp reactor.txt ../reactor_copy3.txt\n",
    "$ ls\n",
    "~~~\n",
    "\n",
    "~~~\n",
    "reactor.txt\t\treactor_copy.txt\treactor_copy2.txt\n",
    "~~~\n",
    "\n",
    "~~~\n",
    "$ ls ..\n",
    "~~~\n",
    "\n",
    "~~~\n",
    "new_ideas_for_applications.txt\treactor_copy3.txt\n",
    "power\t\t\t\tremote_heat.txt\n",
    "~~~"
   ]
  },
  {
   "cell_type": "markdown",
   "metadata": {},
   "source": [
    "*note - if the copy destination is in another directory, that directory must already exist or cp will throw an error*"
   ]
  },
  {
   "cell_type": "markdown",
   "metadata": {},
   "source": [
    "If you want to rename a file without copying it, you use the `mv` command. For example, in browsing through the filesystem, we notice an idea for a nuclear plane in the propulsion directory:"
   ]
  },
  {
   "cell_type": "markdown",
   "metadata": {},
   "source": [
    "~~~\n",
    "$ cd ../propulsion\n",
    "$ ls \n",
    "~~~\n",
    "~~~\n",
    "nuclear_plane.txt\n",
    "~~~"
   ]
  },
  {
   "cell_type": "markdown",
   "metadata": {},
   "source": [
    "This is really a bad idea, a nuclear plane would probably be too heavy to ever fly. Let's rename the idea as `bad_idea.txt`, as a warning to others. To do this we give the `mv` command two arguments: the original file path and then the new file path."
   ]
  },
  {
   "cell_type": "markdown",
   "metadata": {},
   "source": [
    "~~~\n",
    "$ mv nuclear_plane.txt bad_idea.txt\n",
    "$ ls\n",
    "~~~\n",
    "~~~\n",
    "bad_idea.txt\n",
    "~~~"
   ]
  },
  {
   "cell_type": "markdown",
   "metadata": {},
   "source": [
    "We can also use `mv` to move a file, and we can either keep the filename the same or rename it. For example, here's how we would move the `bad_idea.txt` file to the `applications` directory:"
   ]
  },
  {
   "cell_type": "markdown",
   "metadata": {},
   "source": [
    "~~~\n",
    "$ mv bad_idea.txt ../bad_idea.txt\n",
    "$ ls ..\n",
    "~~~\n",
    "~~~\n",
    "bad_idea.txt\t\t\treactor_copy3.txt\n",
    "new_ideas_for_applications.txt\tremote_heat.txt\n",
    "power\t\t\t\tweapons\n",
    "propulsion\n",
    "~~~"
   ]
  },
  {
   "cell_type": "markdown",
   "metadata": {
    "slideshow": {
     "slide_type": "slide"
    }
   },
   "source": [
    "# Making Directories (mkdir)"
   ]
  },
  {
   "cell_type": "markdown",
   "metadata": {},
   "source": [
    "In addition to creating files, we can also create directories using the `mkdir` command. For example, to create a new directory called `nuclear` to hold ideas and code related to a new class of theories about the nucleus, we will first navigate to the `theories` directory:"
   ]
  },
  {
   "cell_type": "markdown",
   "metadata": {},
   "source": [
    "~~~\n",
    "$ cd ../../../theories\n",
    "$ ls\n",
    "~~~\n",
    "~~~\n",
    "README.md\n",
    "~~~"
   ]
  },
  {
   "cell_type": "markdown",
   "metadata": {},
   "source": [
    "As you can see, the `theories` directory is currently only has one file named `README.md`, now let's make the `nucleus` directory using `mkdir`:"
   ]
  },
  {
   "cell_type": "markdown",
   "metadata": {},
   "source": [
    "~~~\n",
    "$ mkdir nuclear\n",
    "$ ls\n",
    "~~~\n",
    "~~~\n",
    "nuclear\n",
    "~~~"
   ]
  },
  {
   "cell_type": "markdown",
   "metadata": {},
   "source": [
    "Using our usual path conventions, you can make directories anywhere, not just in your current working directory. For example, we can create a directory called `fission` within the `nuclear` directory we just created without being in the `nuclear` directory:"
   ]
  },
  {
   "cell_type": "markdown",
   "metadata": {},
   "source": [
    "~~~\n",
    "$ mkdir nuclear/fission\n",
    "$ ls nuclear\n",
    "~~~\n",
    "~~~\n",
    "fission\n",
    "~~~"
   ]
  },
  {
   "cell_type": "markdown",
   "metadata": {},
   "source": [
    "# Deleting Files and Directories (rm)"
   ]
  },
  {
   "cell_type": "markdown",
   "metadata": {},
   "source": [
    "In addition to creating files and directories, you also can delete files and directories in the Shell. This is done using the `rm` command. We can use this to delete our bad idea in the `applications` directory:"
   ]
  },
  {
   "cell_type": "markdown",
   "metadata": {},
   "source": [
    "~~~\n",
    "$ cd ../fission/applications/\n",
    "$ ls\n",
    "~~~\n",
    "\n",
    "~~~\n",
    "bad_idea.txt            reactor_copy3.txt\n",
    "new_ideas_for_applications.txt    remote_heat.txt\n",
    "power                weapons\n",
    "propulsion\n",
    "~~~\n",
    "\n",
    "~~~\n",
    "$ rm bad_idea.txt\n",
    "$ ls\n",
    "~~~\n",
    "\n",
    "~~~\n",
    "reactor_copy3.txt  new_ideas_for_applications.txt    \n",
    "remote_heat.txt  power                \n",
    "weapons  propulsion\n",
    "~~~"
   ]
  },
  {
   "cell_type": "markdown",
   "metadata": {},
   "source": [
    "Important note! There is no such this as undo, or a trash can or recycling bin in the Shell. When you delete something in the Shell, it is deleted FOREVER. "
   ]
  },
  {
   "cell_type": "markdown",
   "metadata": {},
   "source": [
    "As mentioned above, you can also delete directories. To delete the `propulsion` directory we can try:"
   ]
  },
  {
   "cell_type": "markdown",
   "metadata": {},
   "source": [
    "~~~\n",
    "$ rm propulsion \n",
    "~~~\n",
    "~~~\n",
    "rm: propulsion: is a directory\n",
    "~~~"
   ]
  },
  {
   "cell_type": "markdown",
   "metadata": {},
   "source": [
    "But we get an error because `propulsion` is a directory. This is a safety feature to prevent mistakes. To delete directories you need to use a special arguement, `-r`. This flag tells `rm` to go into the directory and execute the command all the way down the tree, deleting all files and folders below propulsion:"
   ]
  },
  {
   "cell_type": "markdown",
   "metadata": {},
   "source": [
    "~~~\n",
    "$ rm -r propulsion\n",
    "$ ls\n",
    "~~~\n",
    "~~~\n",
    "reactor_copy3.txt  new_ideas_for_applications.txt    \n",
    "remote_heat.txt  power                \n",
    "weapons\n",
    "~~~"
   ]
  },
  {
   "cell_type": "markdown",
   "metadata": {},
   "source": [
    "### Exercise: Make and Remove Files and Directories\n",
    "1. Open the Terminal.\n",
    "2. Use mkdir to create a directory with a few empty subdirectories.\n",
    "3. Use touch to create five empty files in those directories, and use ls to inspect your work.\n",
    "4. With one command (hint: it will have to be recursive), remove the whole directory. "
   ]
  },
  {
   "cell_type": "markdown",
   "metadata": {
    "slideshow": {
     "slide_type": "slide"
    }
   },
   "source": [
    "# Wildcards"
   ]
  },
  {
   "cell_type": "markdown",
   "metadata": {},
   "source": [
    "Often times you want to apply a command in the shell to many files and/or directories. For example, if we want to apply the ls command to everything in the fission directory we can use a wildcard, `*`, to match all the things in that directory:"
   ]
  },
  {
   "cell_type": "markdown",
   "metadata": {},
   "source": [
    "~~~\n",
    "$ cd ..\n",
    "$ ls *\n",
    "~~~\n",
    "\n",
    "~~~\n",
    "heat-generation.txt\tneutron-release.txt\n",
    "\n",
    "applications:\n",
    "power\t\tpropulsion\tweapons\n",
    "~~~"
   ]
  },
  {
   "cell_type": "markdown",
   "metadata": {},
   "source": [
    "Why is this different from just typing `ls`? "
   ]
  },
  {
   "cell_type": "markdown",
   "metadata": {},
   "source": [
    "~~~\n",
    "$ ls\n",
    "~~~\n",
    "~~~\n",
    "applications\t\theat-generation.txt\tneutron-release.txt\n",
    "~~~"
   ]
  },
  {
   "cell_type": "markdown",
   "metadata": {},
   "source": [
    "When we type `ls *` the Shell first expands the wildcard, `*`, matching everything listed in that directory. Thus typing `ls *` is really like typing:"
   ]
  },
  {
   "cell_type": "markdown",
   "metadata": {},
   "source": [
    "~~~\n",
    "$ ls applications heat-generation.txt neutron-release.txt\n",
    "~~~\n",
    "~~~\n",
    "heat-generation.txt\tneutron-release.txt\n",
    "\n",
    "applications:\n",
    "power\t\tpropulsion\tweapons\n",
    "~~~"
   ]
  },
  {
   "cell_type": "markdown",
   "metadata": {},
   "source": [
    "We can also use wildcards to filter files. For example, if we only want to list the files ending in .txt in the fission directory, we can type:"
   ]
  },
  {
   "cell_type": "markdown",
   "metadata": {},
   "source": [
    "~~~\n",
    "$ ls *.txt\n",
    "~~~\n",
    "~~~\n",
    "heat-generation.txt\tneutron-release.txt\n",
    "~~~"
   ]
  },
  {
   "cell_type": "markdown",
   "metadata": {
    "slideshow": {
     "slide_type": "slide"
    }
   },
   "source": [
    "# Getting Help"
   ]
  },
  {
   "cell_type": "markdown",
   "metadata": {},
   "source": [
    "How do you know what flags to use? Or what exactly a command does? Your best bet is the program `man` (manual). For example, to see the documentation for the `ls` command and all of the possible arguments/flags that can be used with it, type:"
   ]
  },
  {
   "cell_type": "markdown",
   "metadata": {},
   "source": [
    "~~~\n",
    "$ man ls\n",
    "~~~\n",
    "\n",
    "~~~\n",
    "LS(1)                     BSD General Commands Manual                    LS(1)\n",
    "\n",
    "NAME\n",
    "     ls -- list directory contents\n",
    "\n",
    "SYNOPSIS\n",
    "     ls [-ABCFGHLOPRSTUW@abcdefghiklmnopqrstuwx1] [file ...]\n",
    "\n",
    "DESCRIPTION\n",
    "     For each operand that names a file of a type other than directory, ls\n",
    "     displays its name as well as any requested, associated information.  For\n",
    "     each operand that names a file of type directory, ls displays the names\n",
    "     of files contained within that directory, as well as any requested, asso-\n",
    "     ciated information.\n",
    "\n",
    "     If no operands are given, the contents of the current directory are dis-\n",
    "     played.  If more than one operand is given, non-directory operands are\n",
    "     displayed first; directory and non-directory operands are sorted sepa-\n",
    "     rately and in lexicographical order.\n",
    "\n",
    "     The following options are available:\n",
    "\n",
    "<snip>\n",
    "~~~"
   ]
  },
  {
   "cell_type": "markdown",
   "metadata": {},
   "source": [
    "When you use the `man` command, the help documents are opened in a program called `less`. A few helpful things to know about `less` are:\n",
    "\n",
    "* Use the **up and down arrows** to scroll up and down.\n",
    "* Use **Page Up**` and **Page Down** (or the **space bar**) to move up or down by an entire page.\n",
    "* Use a forward slash (**/**) followed by a search term and then **Enter** to search for a particular word. The letter **n** (next) toggles through each occurrence.\n",
    "* Use **h** to display help inside less—this displays all the possible commands that less understands.\n",
    "* Use **q** to quit.\n",
    "* Less can be used to look at text files too (just type: `less [filename]`). "
   ]
  },
  {
   "cell_type": "markdown",
   "metadata": {},
   "source": [
    "*note - on some Shells the `man` command might not work, try ` [command] --help` in these cases, for example:*"
   ]
  },
  {
   "cell_type": "markdown",
   "metadata": {},
   "source": [
    "~~~\n",
    "$ ls --help\n",
    "~~~"
   ]
  },
  {
   "cell_type": "markdown",
   "metadata": {},
   "source": [
    "### Exercise: Use the man Pages with less\n",
    "1. Open the Terminal.\n",
    "2. Use the man command and the preceding notes on less to learn about the commands covered already in this chapter (e.g., mkdir, touch, mv, cp, etc.)"
   ]
  },
  {
   "cell_type": "markdown",
   "metadata": {},
   "source": [
    "# Finding the Right Hammer (apropos)"
   ]
  },
  {
   "cell_type": "markdown",
   "metadata": {},
   "source": [
    "How do you find help if you don't know the name of the command? You can use a tool called `apropos` which searches the `man` pages for keywords. For example, to find out what text editors are available on your computer you could search for the keyword \"text editor\":"
   ]
  },
  {
   "cell_type": "markdown",
   "metadata": {},
   "source": [
    "~~~\n",
    "$ apropos \"text editor\"\n",
    "~~~\n",
    "~~~\n",
    "ed(1), red(1)            - text editor\n",
    "vim(1)                   - Vi IMproved, a programmers text editor\n",
    "~~~"
   ]
  },
  {
   "cell_type": "markdown",
   "metadata": {},
   "source": [
    "### Exercise: Find and Learn About a Command\n",
    "1. Open the Terminal.\n",
    "2. Search your computer for commands by using apropos and a keyword.\n",
    "3. Take some time to explore the man page of a command we’ve discussed or of another command or program you know of. Learn about a couple of new arguments or options and try them out. Practice killing or interrupting programs if neces‐ sary."
   ]
  },
  {
   "cell_type": "markdown",
   "metadata": {
    "slideshow": {
     "slide_type": "slide"
    }
   },
   "source": [
    "# Combining Utilities with Redirection and Pipes (>, >>, and |)"
   ]
  },
  {
   "cell_type": "markdown",
   "metadata": {},
   "source": [
    "The Shell starts to become really powerful when you start capturing the output of commands to files, and combining (called piping) commands together. We've already encountered the single arrow (`>`), which we can use to send the output of a command to a file. Here's another example of how to use it to output the first line of the `reactor.txt` file in the `power` directory to a new file called `reactor_title.txt`:"
   ]
  },
  {
   "cell_type": "markdown",
   "metadata": {},
   "source": [
    "~~~\n",
    "$ cd applications/power/\n",
    "$ head -1 reactor.txt > reactor_title.txt\n",
    "$ ls\n",
    "~~~\n",
    "~~~\n",
    "reactor.txt\t\treactor_title.txt\n",
    "~~~"
   ]
  },
  {
   "cell_type": "markdown",
   "metadata": {},
   "source": [
    "We can use `cat` to look at what is now in `reactor_title.txt`"
   ]
  },
  {
   "cell_type": "markdown",
   "metadata": {},
   "source": [
    "~~~\n",
    "$ cat reactor_title.txt\n",
    "~~~\n",
    "~~~\n",
    "# Fission Power Idea\n",
    "~~~"
   ]
  },
  {
   "cell_type": "markdown",
   "metadata": {},
   "source": [
    "The single arrow above created a **new** file with the outputs of `head -1 reactor.txt` and saved them to a file called `reactor_title.txt`. Had a file already existed with that name, it would have overwritten the contents. Two arrows (`>>`) has a slightly different meaning, it creates a file if none with that name previously existed. But, if one does exist, it does not overwrite it, it appends the commands output to the end of the file. "
   ]
  },
  {
   "cell_type": "markdown",
   "metadata": {},
   "source": [
    "For example, if we wanted add add the last line of `reactor.txt` to `reactor_title.txt`, while keeping the title, we would type:"
   ]
  },
  {
   "cell_type": "markdown",
   "metadata": {},
   "source": [
    "~~~\n",
    "$ tail -1 reactor.txt >> reactor_title.txt\n",
    "$ cat reactor_title.txt\n",
    "~~~\n",
    "~~~\n",
    "# Fission Power Idea\n",
    "topic. \n",
    "~~~"
   ]
  },
  {
   "cell_type": "markdown",
   "metadata": {},
   "source": [
    "As you might have guessed, since `head -1` gives first line of a file, `tail -1` gives us the last. "
   ]
  },
  {
   "cell_type": "markdown",
   "metadata": {},
   "source": [
    "To chain two commands together in one line, we use pipes ( | ). For example, to print the 11th line from `reactor.txt` we can type:"
   ]
  },
  {
   "cell_type": "markdown",
   "metadata": {},
   "source": [
    "~~~\n",
    "$ head -11 reactor.txt | tail -1\n",
    "~~~\n",
    "~~~\n",
    "Of course, it would take quite a lot of fissions.\n",
    "~~~"
   ]
  },
  {
   "cell_type": "markdown",
   "metadata": {},
   "source": [
    "### Excercise\n",
    "1. Open a terminal\n",
    "2. Use arrows and pipes to save lines 4-9 of `reactor.txt` to a file called `reactor_body.txt`"
   ]
  },
  {
   "cell_type": "markdown",
   "metadata": {},
   "source": [
    "# Arguments, options, and variables\n",
    "- An argument simply gets added after the command. \n",
    "- You can add multiple arguments if the command expect this behavior.\n",
    " - `cd` expect single argument\n",
    " - `cp` expect multiple arguments (as sources).\n",
    " \n",
    "- <em>flags</em>, also called <em>switches</em> or <em>options</em> tell the command to run in a predefined way. They are specified with (`-`) before them.\n",
    "    - `ls -r .` to print the list of files and directories in the current working directory in reverse order.\n",
    "    - `rm -r <directory>` to recursively remove `<directory>`.\n",
    "    - Some options fllows `--` (minus minus). For instance,\n",
    "    ```\n",
    "    # To sort directory contents by file modification date\n",
    "    ls --sort=time  \n",
    "    ```\n",
    "    - Alternatively, you can use\n",
    "    ```\n",
    "    ls -lrth \n",
    "    ```\n",
    " \n",
    "# Combining Utilities with Redirection and Pipes (`>`, `>>`, and `|`)\n",
    "\n",
    "- Combine these simple utilities into more complex algorithms very quickly.\n",
    "- Send the output of a command into a file with `>` (create a new file) or `>>` (append to a file)\n",
    "    ```\n",
    "    /fission/applications/power $ head -1 reactor.txt > reactor_title.txt\n",
    "    \n",
    "    # Now, the content of reactor_title.txt is simply:\n",
    "    Fission Power Idea\n",
    "    ```\n",
    "- To chain programs together, the pipe ( | ) command can be used in a similar fashion.\n",
    "```\n",
    "/fission/applications/power $ head -1 reactor.txt | tail -1\n",
    "Of course, it would take quite a lot of fissions.\n",
    "```\n",
    "\n",
    "-More:\n",
    "```\n",
    "you@host:~ $ ./myprog 2> errors.log > out.log\n",
    "\n",
    "you@host:~ $ ./mymistake 2>&1 > all.log\n",
    "```\n",
    "\n",
    "# Permissions and Sharing\n",
    "- Different people can be given different types of access to a given file, program, or computer.\n",
    "- At the higest level, filesystems is only available to users with a user account on the computer. For example:\n",
    "```\n",
    "    ssh [user@host] connects to another computer.\n",
    "    scp [file] [user@host]:path copies files from one computer to another.\n",
    "    # These commands work only if the user have account on the host computer\n",
    "```\n",
    "- The “different types of people” are the individual user (`u`) who owns the file, the group (`g`) who’s been granted special access to it, and all others (`o`). The “different types of access” are permission to read (`r`), write to (`w`), or execute (`x`) a file or directory.\n",
    "\n",
    "- `ls -l` is to display the permissons of the files and directories.\n",
    "- `chown [-R] [[user]][:group] target1 [[target2 ..]]` changes the individual user and group ownership of the target(s), recursively if `-R` is used and one or more targets are directories.\n",
    "- `chmod [options] mode[,mode] target1 [[target2 ...]]` changes or sets the permissions for the given target(s) to the given mode(s).\n",
    "\n",
    "### Example\n",
    "\n",
    "At the path `filespace/people/l/lisemeitner/fission`"
   ]
  },
  {
   "cell_type": "code",
   "execution_count": 14,
   "metadata": {},
   "outputs": [
    {
     "name": "stdout",
     "output_type": "stream",
     "text": [
      "total 8\r\n",
      "drwxr-xr-x  3 jmunroe  staff  96  7 May 10:07 \u001b[34mapplications\u001b[m\u001b[m/\r\n",
      "-rw-r--r--@ 1 jmunroe  staff  19 29 Sep  2015 heat-generation.txt\r\n",
      "-rw-r--r--@ 1 jmunroe  staff   0 29 Sep  2015 neutron-production.txt\r\n"
     ]
    }
   ],
   "source": [
    "ls -l filespace/people/l/lisemeitner/fission/"
   ]
  },
  {
   "cell_type": "markdown",
   "metadata": {},
   "source": [
    "Take the file heat-generation.txt for example:\n",
    "\n",
    "- The first bit is `d` for directory, `l` for link and `-` otherwise.\n",
    "- The next three bits (`rw-`) indicate that the user owner (`Shahrazadmalek`) can read (`r`) or write (`w`) this file, but not execute it, i.e., cannot run it, (`-`). \n",
    "- The following three bits indicate the same permissions (`r--`) for the group owner (`staff`).\n",
    "- The final three bits (`r--`) indicate read (`r`) but not write or execute permissions for everyone else.\n",
    "\n",
    "## Setting Ownership (`chown`)\n",
    "Assume there is another local user with name `Fred` on the computer, and you want to change the owner of `heat-generation.txt` to `Fred`. You can type:\n",
    "\n",
    "```\n",
    "~/fission $ chown Fred heat-generation.txt\n",
    "~/fission $ ls -l heat-generation.txt\n",
    "-rw-r--r-- 1 Fred Stuff 80 May 30 15:08 heat-generation.txt\n",
    "```\n",
    "\n",
    "Now say you want to change the ownership to a group called `research`\n",
    "\n",
    "```\n",
    "~/fission $ chown :research heat-generation.txt\n",
    "~/fission $ ls -l heat-generation.txt\n",
    "-rw-r--r-- 1 Fred research 80 May 30 15:08 heat-generation.txt\n",
    "```\n",
    "\n",
    "## Setting Permissions (`chmod`)\n",
    "\n",
    "The `chmod` syntax is \n",
    "```\n",
    "chmod -R <mode> <file/directory>\n",
    "```\n",
    "\n",
    "Now say you want to change the group permssions of `heat-generation.txt` to (`rwx`), then you can type:\n"
   ]
  },
  {
   "cell_type": "code",
   "execution_count": 21,
   "metadata": {},
   "outputs": [
    {
     "name": "stdout",
     "output_type": "stream",
     "text": [
      "-rwxrwx---@ 1 jmunroe  staff  19 29 Sep  2015 \u001b[31mfilespace/people/l/lisemeitner/fission/heat-generation.txt\u001b[m\u001b[m\r\n"
     ]
    }
   ],
   "source": [
    "# Note that ! is just to access bash commands through python notebook\n",
    "!chmod g+rwx filespace/people/l/lisemeitner/fission/heat-generation.txt\n",
    "!ls -l filespace/people/l/lisemeitner/fission/heat-generation.txt"
   ]
  },
  {
   "cell_type": "markdown",
   "metadata": {},
   "source": [
    "The mode entry `g+rwx` means\n",
    "we add the read and execution bits to the group’s permissions for the file.\n",
    "\n",
    "# Creating Links (`ln`)\n",
    "Rather than storing multiple copies of large datasets in multiple\n",
    "locations, you can link to the datasets using:\n",
    "```\n",
    "ln -s <source> <distination>\n",
    "```\n",
    "\n",
    "### Example\n",
    "\n",
    "At the path `filespace/people/l/lisemeitner/programs/hello`\n",
    "\n",
    "Try to type:\n",
    "~~~\n",
    "$ ls -l\n",
    "-rwxr-xr-x@ 1 shahrazadmalek  staff  20  8 May 20:39 hello\n",
    "-rwxr-xr-x@ 1 shahrazadmalek  staff  20  8 May 20:39 helloworld\n",
    "~~~\n",
    "~~~\n",
    "# Notice that both files are executable\n",
    "~~~\n",
    "\n",
    "Say you cant remember whether it is `hello` ot `helloagain`, and you tried to run `helloagain`, then you get error \n",
    "```\n",
    "$ ./helloagain\n",
    "-bash: ./helloagain: No such file or directory\n",
    "```\n",
    "\n",
    "But if linked it to hello:\n",
    "\n",
    "~~~\n",
    "$ ln -s hello helloagain\n",
    "$ ./helloagain\n",
    "Hello World!\n",
    "~~~\n",
    "\n",
    "Note that linking is very useful to avoid coping huge files to run codes on different directories.\n",
    "\n",
    "## Connecting to Other computers (`ssh` and `scp`)\n",
    "This powerful feature of the command line, providing access to networked and\n",
    "remote filesystems, is key to high-performance computing tasks.\n",
    "\n",
    "If you have the right credentials, you can even get access to another machine through\n",
    "the shell. You can do this using a program called `ssh` (secure shell).\n",
    "\n",
    "### Example\n",
    "\n",
    "If I (with username `shahrazad`) have an account on host machine called `bern`, which is a computer located on the remote network domain `physics.mun.ca`, then I\n",
    "can connect to that computer from my home computer with the full location of the\n",
    "computer in its domain:\n",
    "```\n",
    "~ $ ssh shahrazad@bern.physics.mun.ca\n",
    "```\n",
    "\n",
    "Once logged into the computer, I has access to the files and directories in the\n",
    "remote filesystem and can interact with them just as I do locally.\n",
    "\n",
    "I can use the `scp` (secure copy) command to copy files and directories from one\n",
    "computer to another. It has the syntax scp <source_file> [[user@]host]:<destination>. So, to copy a notes.txt file from my local computer to the `Desktop` directory\n",
    "on the `bern.physics.mun.ca` filesystem, I would execute:\n",
    "```\n",
    "~ $ scp notes.txt shahrazad@bern.physics.mun.ca:~/Desktop/notes.txt\n",
    "```\n",
    "\n",
    "# The Enviroment\n",
    "\n",
    "The bash shell defines a computing environment. This computing environment\n",
    "can be customized using environment variables. We can investigate our environment\n",
    "with a program called `echo`. The echo command prints arguments to the terminal. In\n",
    "the case of a string argument, the string is printed verbatim:\n",
    "\n",
    "```\n",
    "~ $ echo \"Hello World\"\n",
    "```\n",
    "\n",
    "Other examples of enviromental variables:"
   ]
  },
  {
   "cell_type": "code",
   "execution_count": 16,
   "metadata": {},
   "outputs": [
    {
     "name": "stdout",
     "output_type": "stream",
     "text": [
      "jmunroe\r\n"
     ]
    }
   ],
   "source": [
    "! echo $USER"
   ]
  },
  {
   "cell_type": "code",
   "execution_count": 17,
   "metadata": {},
   "outputs": [
    {
     "name": "stdout",
     "output_type": "stream",
     "text": [
      "/Users/jmunroe/Desktop\r\n"
     ]
    }
   ],
   "source": [
    "! echo $PWD"
   ]
  },
  {
   "cell_type": "markdown",
   "metadata": {},
   "source": [
    "In bash, you can create\n",
    "your own variables and change existing variables with the export command:"
   ]
  },
  {
   "cell_type": "code",
   "execution_count": 23,
   "metadata": {},
   "outputs": [
    {
     "name": "stdout",
     "output_type": "stream",
     "text": [
      "Computational Computer Based Research Tools and Applications\r\n"
     ]
    }
   ],
   "source": [
    "! export cmsc6950=\"Computational Computer Based Research Tools and Applications\" &&  echo ${cmsc6950} "
   ]
  },
  {
   "cell_type": "code",
   "execution_count": null,
   "metadata": {},
   "outputs": [],
   "source": []
  },
  {
   "cell_type": "markdown",
   "metadata": {},
   "source": [
    "# Saving Enviroment Variables (`.bashrc`)\n",
    "- A number of files in a bash shell store the environment variables that are active in each terminal session. \n",
    "- They are plain-text files containing bash commands. \n",
    "- These commands are executed every time a terminal window is opened. \n",
    "- Any environment variables set with export commands in those files are active for every new terminal session.\n",
    "- To configure and customize your environment, environment variables can be added or edited in `~/.bashrc`.\n",
    "- The `source` command can be used to make changes to `.bashrc` take effect immediately, in the current session.\n",
    "```\n",
    "$ source ~/.bashrc\n",
    "```\n",
    "\n",
    "# Nicknaming Commands (`alias`)\n",
    "In the same way that you can create variables for shortening long strings, you can create shorthand aliases for commands.\n",
    "\n",
    "### Example, \n",
    "\n",
    "Say you like colors to distinguish the files and directories in your shell session, you’ll always want to\n",
    "use the `--color` variable when calling `ls`. However, `ls --color` is quite a lot to type.\n",
    "It is preferable to reset the meaning of ls so that it behaves like `ls --color`. The\n",
    "`alias` command allows you to do just that. To replace ls with `ls --color`, you\n",
    "would type:\n",
    "```\n",
    "alias ls 'ls --color'\n",
    "```\n",
    "and you can add this change to `~/.bashrc`.\n",
    "\n",
    "# Scripting with Bash\n",
    "\n",
    "- Repeating processes on the command line is made easy with files (like `.bashrc`) that\n",
    "can store many commands and be executed at will. \n",
    "- Any such series of commands can\n",
    "be placed into a file called a `script`. \n",
    "- This type of file, like a program, can be written\n",
    "once and executed many times.\n",
    "- Bash scripts typically end in the `.sh` extension.\n",
    "- First step for creating a bash\n",
    "script is to create such a file. \n",
    "\n",
    "### Example\n",
    "Open the script file `explore.sh` with `nano`\n",
    "```\n",
    "~ $ nano explore.sh\n",
    "```\n",
    "\n",
    "Then inside the file type:\n",
    "```\n",
    "# explore.sh\n",
    "# explore the three directories above this one\n",
    "# print a status message\n",
    "echo \"Initial Directory:\"\n",
    "# print the working directory\n",
    "pwd\n",
    "# list the contents of this directory\n",
    "ls\n",
    "echo \"Parent Directory:\"\n",
    "# ascend to the parent directory\n",
    "cd ..\n",
    "pwd\n",
    "ls\n",
    "pwd\n",
    "```\n",
    "\n",
    "Note that comments are preceded by a \\# symbol. They are reference text only and are not\n",
    "executed. \n",
    "\n",
    "Now change the mode of the file to become executable using:\n",
    "```\n",
    "chmod a+x explore.sh\n",
    "```\n",
    "where (`a`) stands for `ugo` \n",
    "Then run it using\n",
    "```\n",
    "./explore.sh\n",
    "```\n",
    "What do you get?\n",
    "\n",
    "\n",
    "You can also have functions and loops in script, and you can send inputs to it as well. For example, see the script `scripting.sh` : "
   ]
  },
  {
   "cell_type": "code",
   "execution_count": 24,
   "metadata": {},
   "outputs": [
    {
     "name": "stdout",
     "output_type": "stream",
     "text": [
      "/Users/jmunroe/GitHub/CMSC6950.github.io/lectures/scripts-DATA\n"
     ]
    }
   ],
   "source": [
    "cd ~/GitHub/CMSC6950.github.io/lectures/scripts-DATA/"
   ]
  },
  {
   "cell_type": "code",
   "execution_count": 25,
   "metadata": {},
   "outputs": [
    {
     "name": "stdout",
     "output_type": "stream",
     "text": [
      "#!/bin/bash              \r\n",
      "# bash interpreter to run\r\n",
      "# Commands are in /bin/bash\r\n",
      "\r\n",
      "\r\n",
      "echo \"Factorial part ................\"\r\n",
      "\r\n",
      "getfactorial(){\r\n",
      "counter=$1                                     # Get the factorial of the input ($1)\r\n",
      "factorial=1                                    # Initialize factorial\r\n",
      "while [ $counter -gt 0 ]                       # While counter > 0    \r\n",
      "do\r\n",
      "   factorial=$(( $factorial * $counter ))      \r\n",
      "   counter=$(( $counter - 1 ))\r\n",
      "done\r\n",
      "echo $factorial\r\n",
      "}\r\n",
      "\r\n",
      "getfactorial 4\r\n",
      "\r\n",
      "\r\n",
      "# ====================================\r\n",
      "\r\n",
      "echo \"Simple for loop ................\"\r\n",
      "\r\n",
      "forloop(){\r\n",
      "rm simple_loop_data.dat\r\n",
      "for i in {0..4}\r\n",
      "do\r\n",
      "echo $i >> simple_loop_data.dat\r\n",
      "done\r\n",
      "}\r\n",
      "\r\n",
      "\r\n",
      "forloop\r\n",
      "\r\n",
      "# ====================================\r\n",
      "\r\n",
      "echo \"Simple for loop --- reading from file ................\"\r\n",
      "\r\n",
      "forloopfile(){\r\n",
      "\r\n",
      "cat  simple_loop_data.dat | while read j\r\n",
      "do\r\n",
      "echo $j \r\n",
      "done\r\n",
      "}\r\n",
      "\r\n",
      "\r\n",
      "forloopfile\r\n",
      "\r\n",
      "# ====================================\r\n",
      "\r\n",
      "echo \"For loop with var ................\"\r\n",
      "\r\n",
      "forloopvar(){\r\n",
      "echo \" $$ — PID number (\\$$)\"\r\n",
      "echo \" $? — exit status of last command (\\$?)\"\r\n",
      "echo \" $# — number of options/arguments (\\$#)\"\r\n",
      "echo \" $0, $1, $2, $3  — name of calling program, its arguments (\\$0, \\$1...\\$n)\"\r\n",
      "echo \" $*, $@ — list of all arguments (man bash for details) ( \\$*, \\$@)\"\r\n",
      "for i in `seq $1 $2 $3`\r\n",
      "do\r\n",
      "echo $i\r\n",
      "done\r\n",
      "}\r\n",
      "\r\n",
      "forloopvar 1 2 9\r\n",
      "\r\n",
      "\r\n",
      "# ====================================\r\n",
      "\r\n",
      "echo \"If statement ................\"\r\n",
      "\r\n",
      "\r\n",
      "\r\n",
      "Noofarguments(){\r\n",
      "if [ \"$#\" -eq \"3\" ]\r\n",
      "then\r\n",
      "echo correct\r\n",
      "else\r\n",
      "echo \"wrong! .... # of arguments < 3 \"\r\n",
      "exit\r\n",
      "echo did not exit\r\n",
      "fi\r\n",
      "}\r\n",
      "\r\n",
      "Noofarguments 2 4 \r\n",
      "\r\n"
     ]
    }
   ],
   "source": [
    "! cat scripting.sh"
   ]
  },
  {
   "cell_type": "code",
   "execution_count": 29,
   "metadata": {},
   "outputs": [
    {
     "name": "stdout",
     "output_type": "stream",
     "text": [
      "Factorial part ................\r\n",
      "24\r\n",
      "Simple for loop ................\r\n",
      "Simple for loop --- reading from file ................\r\n",
      "0\r\n",
      "1\r\n",
      "2\r\n",
      "3\r\n",
      "4\r\n",
      "For loop with var ................\r\n",
      " 25878 — PID number ($$)\r\n",
      " 0 — exit status of last command ($?)\r\n",
      " 3 — number of options/arguments ($#)\r\n",
      " ./scripting.sh, 1, 2, 9  — name of calling program, its arguments ($0, $1...$n)\r\n",
      " 1 2 9, 1 2 9 — list of all arguments (man bash for details) ( $*, $@)\r\n",
      "1\r\n",
      "3\r\n",
      "5\r\n",
      "7\r\n",
      "9\r\n",
      "If statement ................\r\n",
      "wrong! .... # of arguments < 3 \r\n"
     ]
    }
   ],
   "source": [
    "! ./scripting.sh"
   ]
  },
  {
   "cell_type": "markdown",
   "metadata": {
    "collapsed": true,
    "slideshow": {
     "slide_type": "slide"
    }
   },
   "source": [
    "## Job Control\n",
    "\n",
    "- Job Control\n",
    " - One of the most important functions of the shell.\n",
    " - The ability to start, stop, and manage processes.\n",
    " \n",
    " \n",
    "- A process is an executable loaded into memory in one of the following states:\n",
    " - running in the foreground\n",
    " - running in the background\n",
    " - suspended (or stopped)\n",
    " - zombie (terminated but information still in the process table)\n",
    "\n",
    "\n",
    "Ways to run a process:\n",
    "\n",
    "- run an xterm in the foreground\n",
    "\n",
    "- shell does not return\n",
    "\n",
    "```\n",
    "shahrazad@bern:~$ xterm\n",
    "```\n",
    "\n",
    "- ^C: control-C kills the job\n",
    "- ^Z: control-Z suspends the job\n",
    "\n",
    "list the currently managed jobs\n",
    "\n",
    "```\n",
    "shahrazad@bern:~$ jobs\n",
    "[1]+ Stopped\n",
    "xterm\n",
    "```\n",
    "- background the job. xterm runs, but shell returns!\n",
    "```\n",
    "you@host:~ $ bg\n",
    "you@host:~ $ jobs\n",
    "[1]+ Running\n",
    "xterm\n",
    "```\n",
    "- run xmgrace and background it in one step!\n",
    "```\n",
    "you@host:~ $ xmgrace &\n",
    "you@host:~ $ jobs\n",
    "[1]- Running\n",
    "xterm\n",
    "[2]+ Running\n",
    "xmgrace &\n",
    "```\n",
    "- bring job number 1 to the foreground\n",
    "```\n",
    "you@host:~ $ fg %1\n",
    "xterm\n",
    "```\n",
    "- suspend it again (via ^Z)\n",
    "- background it\n",
    "```\n",
    "you@host:~ $ bg %1\n",
    "```\n",
    "\n"
   ]
  },
  {
   "cell_type": "markdown",
   "metadata": {
    "collapsed": true
   },
   "source": [
    "# Next steps..."
   ]
  },
  {
   "cell_type": "markdown",
   "metadata": {},
   "source": [
    "1. DataCamp course: \"Introduction to Shell for Data Science\".\n",
    "2. Short quiz on bash on Thursday.\n",
    "2. Assignment 1 due next Tuesday."
   ]
  },
  {
   "cell_type": "code",
   "execution_count": null,
   "metadata": {},
   "outputs": [],
   "source": []
  }
 ],
 "metadata": {
  "kernelspec": {
   "display_name": "Python 3",
   "language": "python",
   "name": "python3"
  },
  "language_info": {
   "codemirror_mode": {
    "name": "ipython",
    "version": 3
   },
   "file_extension": ".py",
   "mimetype": "text/x-python",
   "name": "python",
   "nbconvert_exporter": "python",
   "pygments_lexer": "ipython3",
   "version": "3.6.5"
  },
  "livereveal": {
   "scroll": true,
   "theme": "Serif",
   "transition": "none"
  }
 },
 "nbformat": 4,
 "nbformat_minor": 1
}
